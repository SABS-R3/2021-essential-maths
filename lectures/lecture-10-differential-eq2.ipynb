{
 "cells": [
  {
   "cell_type": "markdown",
   "metadata": {
    "slideshow": {
     "slide_type": "slide"
    }
   },
   "source": [
    "# Lecture 10\n",
    "\n",
    "## Differential Equations II:\n",
    "\n",
    "### From Words to Maths"
   ]
  },
  {
   "cell_type": "code",
   "execution_count": null,
   "metadata": {
    "slideshow": {
     "slide_type": "skip"
    }
   },
   "outputs": [],
   "source": [
    "import numpy as np\n",
    "import sympy as sp\n",
    "import scipy.integrate\n",
    "sp.init_printing()\n",
    "##################################################\n",
    "##### Matplotlib boilerplate for consistency #####\n",
    "##################################################\n",
    "from ipywidgets import interact\n",
    "from ipywidgets import FloatSlider\n",
    "from matplotlib import pyplot as plt\n",
    "\n",
    "%matplotlib inline\n",
    "\n",
    "from IPython.display import set_matplotlib_formats\n",
    "set_matplotlib_formats('svg')\n",
    "\n",
    "global_fig_width = 10\n",
    "global_fig_height = global_fig_width / 1.61803399\n",
    "font_size = 12\n",
    "\n",
    "plt.rcParams['axes.axisbelow'] = True\n",
    "plt.rcParams['axes.edgecolor'] = '0.8'\n",
    "plt.rcParams['axes.grid'] = True\n",
    "plt.rcParams['axes.labelpad'] = 8\n",
    "plt.rcParams['axes.linewidth'] = 2\n",
    "plt.rcParams['axes.titlepad'] = 16.0\n",
    "plt.rcParams['axes.titlesize'] = font_size * 1.4\n",
    "plt.rcParams['figure.figsize'] = (global_fig_width, global_fig_height)\n",
    "plt.rcParams['font.sans-serif'] = ['Computer Modern Sans Serif', 'DejaVu Sans', 'sans-serif']\n",
    "plt.rcParams['font.size'] = font_size\n",
    "plt.rcParams['grid.color'] = '0.8'\n",
    "plt.rcParams['grid.linestyle'] = 'dashed'\n",
    "plt.rcParams['grid.linewidth'] = 2\n",
    "plt.rcParams['lines.dash_capstyle'] = 'round'\n",
    "plt.rcParams['lines.dashed_pattern'] = [1, 4]\n",
    "plt.rcParams['xtick.labelsize'] = font_size\n",
    "plt.rcParams['xtick.major.pad'] = 4\n",
    "plt.rcParams['xtick.major.size'] = 0\n",
    "plt.rcParams['ytick.labelsize'] = font_size\n",
    "plt.rcParams['ytick.major.pad'] = 4\n",
    "plt.rcParams['ytick.major.size'] = 0\n",
    "##################################################"
   ]
  },
  {
   "cell_type": "markdown",
   "metadata": {
    "slideshow": {
     "slide_type": "slide"
    }
   },
   "source": [
    "## Example of forming a differential equation from words:\n",
    "\n",
    "The length $\\;y\\;$ cm of a leaf during the period of its growth is proportional to the amount of water it contains.\n",
    "During this period the leaf retains a similar shape: that is, the ratio of its length to its width remains constant.\n",
    "The leaf absorbs water from its plant at a rate proportional to $\\;y\\;$ and it loses water by evaporation at a rate proportional to the area\n",
    "of the leaf at the time when its length is $\\;y\\;$ cm.\n",
    "\n",
    "- Form a differential equation to describe the growth of the leaf."
   ]
  },
  {
   "cell_type": "markdown",
   "metadata": {
    "slideshow": {
     "slide_type": "fragment"
    }
   },
   "source": [
    "1. Assume the length of the leaf is $\\;y\\;$ cm at time $\\;t\\;$ days after it was first observed."
   ]
  },
  {
   "cell_type": "markdown",
   "metadata": {
    "slideshow": {
     "slide_type": "fragment"
    }
   },
   "source": [
    "2. Let the rate the leaf receives water be $\\;k_1y\\;$ where $\\;k_1\\;$ is a positive constant."
   ]
  },
  {
   "cell_type": "markdown",
   "metadata": {
    "slideshow": {
     "slide_type": "fragment"
    }
   },
   "source": [
    "3. Area of leaf at time $\\;t\\;$ days is proportional to $\\;y^2\\;$ since it maintains its shape, so the leaf is losing water at a rate of $\\;k_2y^2\\;$ where $\\;k_2\\;$ is another positive constant. "
   ]
  },
  {
   "cell_type": "markdown",
   "metadata": {
    "slideshow": {
     "slide_type": "slide"
    }
   },
   "source": [
    "## Example of forming a differential equation from words:\n",
    "\n",
    "1. Assume the length of the leaf is $\\;y\\;$ cm at time $\\;t\\;$ days after it was first observed.\n",
    "2. Let the rate the leaf receives water be $\\;k_1y\\;$ where $\\;k_1\\;$ is a positive constant.\n",
    "3. Area of leaf at time $\\;t\\;$ days is proportional to $\\;y^2\\;$ since it maintains its shape, so the leaf is losing water at a rate of $\\;k_2y^2\\;$ where $\\;k_2\\;$ is another positive constant. \n"
   ]
  },
  {
   "cell_type": "markdown",
   "metadata": {
    "slideshow": {
     "slide_type": "fragment"
    }
   },
   "source": [
    "4. Rate of growth is given by $\\displaystyle{ {\\rm d}y\\over {\\rm d}t}$, which is the rate of change of its length."
   ]
  },
  {
   "cell_type": "markdown",
   "metadata": {
    "slideshow": {
     "slide_type": "fragment"
    }
   },
   "source": [
    "\n",
    "$${{\\rm d}y\\over {\\rm d}t}=k_1y-k_2y^2=y(k_1-k_2y)$$"
   ]
  },
  {
   "cell_type": "code",
   "execution_count": null,
   "metadata": {
    "slideshow": {
     "slide_type": "slide"
    }
   },
   "outputs": [],
   "source": [
    "def solve(k1,k2):\n",
    "    x = np.linspace(0,10,100)\n",
    "    def dydt(y,t):\n",
    "        return k1*y - k2*y**2\n",
    "    y = scipy.integrate.odeint(dydt,0.1,x)\n",
    "    plt.plot(x,y)\n",
    "    plt.xlabel('x')\n",
    "    plt.ylabel('y')\n",
    "interact(solve, k1 = FloatSlider(value=1,min=0.01,max=2.0,step=0.01, continuous_update=False),\n",
    "                k2 = FloatSlider(value=1,min=0.01,max=2.0,step=0.01, continuous_update=False))\n"
   ]
  },
  {
   "cell_type": "markdown",
   "metadata": {
    "slideshow": {
     "slide_type": "slide"
    }
   },
   "source": [
    "## Example 2: Solid tumour growth.\n",
    "\n",
    "An avascular tumour tends to grow in a spherical shape, depending on environmental restrictions.\n",
    "\n",
    "Assuming that the growth rate of the tumour depends only on the availability of oxygen and nutrients, which enter the tumour solely by diffusing through its surface, derive a model for the change in tumour volume over time."
   ]
  },
  {
   "cell_type": "markdown",
   "metadata": {
    "slideshow": {
     "slide_type": "fragment"
    }
   },
   "source": [
    "1. Denote the volume of the tumour at time $\\;t\\;$ by $\\;V(t)\\;$, and its radius by $\\;R(t)$.\n"
   ]
  },
  {
   "cell_type": "markdown",
   "metadata": {
    "slideshow": {
     "slide_type": "fragment"
    }
   },
   "source": [
    "2. Since the tumour is a sphere, its volume $\\;V\\;$ is proportional to $\\;R^3\\;$ and its surface area to $\\;R^2\\;$, so the surface area is proportional to $\\;V^{2/3}\\;$.\n"
   ]
  },
  {
   "cell_type": "markdown",
   "metadata": {
    "slideshow": {
     "slide_type": "fragment"
    }
   },
   "source": [
    "3. The rate at which the tumour acquires nutrients, and hence the rate at which the volume increases, is thus proportional to $\\;V^{2/3}$.\n"
   ]
  },
  {
   "cell_type": "markdown",
   "metadata": {
    "slideshow": {
     "slide_type": "slide"
    }
   },
   "source": [
    "1. Denote the volume of the tumour at time $\\;t\\;$ by $\\;V(t)\\;$, and its radius by $\\;R(t)$.\n",
    "2. Since the tumour is a sphere, its volume $\\;V\\;$ is proportional to $\\;R^3\\;$ and its surface area to $\\;R^2\\;$, so the surface area is proportional to $\\;V^{2/3}\\;$.\n",
    "3. The rate at which the tumour acquires nutrients, and hence the rate at which the volume increases, is thus proportional to $\\;V^{2/3}$.\n"
   ]
  },
  {
   "cell_type": "markdown",
   "metadata": {
    "slideshow": {
     "slide_type": "fragment"
    }
   },
   "source": [
    "This gives us the equation:\n",
    "\n",
    "$$\\frac{{\\rm d}V}{{\\rm d}t} = kV^{2/3}$$"
   ]
  },
  {
   "cell_type": "markdown",
   "metadata": {
    "slideshow": {
     "slide_type": "slide"
    }
   },
   "source": [
    "$$\\frac{{\\rm d}V}{{\\rm d}t} = kV^{2/3}$$\n",
    "\n",
    "Solve by separation of variables:\n",
    "\n",
    "$$\\int V^{-2/3}~{\\rm d}V = \\int k~{\\rm d}t$$\n",
    "\n",
    "$$V = \\left({kt+c\\over 3}\\right)^3$$\n",
    "\n",
    "where $c$ is a constant of integration, the value of which will depend upon the initial conditions."
   ]
  },
  {
   "cell_type": "code",
   "execution_count": null,
   "metadata": {
    "slideshow": {
     "slide_type": "slide"
    }
   },
   "outputs": [],
   "source": [
    "def solve(k,c):\n",
    "    t = np.linspace(0,10,100)\n",
    "    v = ((k*t + c)/3)**3\n",
    "    plt.plot(t,v)\n",
    "    plt.xlabel('t')\n",
    "    plt.ylabel('V')\n",
    "interact(solve, k = FloatSlider(value=1,min=0.01,max=2.0,step=0.01,continuous_update=False),\n",
    "                c = FloatSlider(value=10,min=0.01,max=20.0,step=0.01,continuous_update=False))"
   ]
  },
  {
   "cell_type": "markdown",
   "metadata": {
    "slideshow": {
     "slide_type": "slide"
    }
   },
   "source": [
    "## Second Order Differential Equations\n",
    "\n",
    "\n",
    "**Example: Solve**  $\\quad \\displaystyle \\frac{{\\rm d}^2y}{{\\rm d}x^2} = \\left(\\frac{{\\rm d}y}{{\\rm d}x}\\right)^2$\n"
   ]
  },
  {
   "cell_type": "markdown",
   "metadata": {
    "slideshow": {
     "slide_type": "fragment"
    }
   },
   "source": [
    "We will use the substitution $\\displaystyle z = \\frac{{\\rm d}y}{{\\rm d}x}$.\n",
    "This implies that $\\displaystyle \\frac{{\\rm d}z}{{\\rm d}x} = \\frac{{\\rm d}^2y}{{\\rm d}x^2}$.\n"
   ]
  },
  {
   "cell_type": "markdown",
   "metadata": {
    "slideshow": {
     "slide_type": "fragment"
    }
   },
   "source": [
    "Substituting into the original equation, to eliminate $y$, gives\n",
    "\n",
    "$$\\frac{{\\rm d}z}{{\\rm d}x} = z^2$$"
   ]
  },
  {
   "cell_type": "markdown",
   "metadata": {
    "slideshow": {
     "slide_type": "slide"
    }
   },
   "source": [
    "This is a separable equation:\n",
    "\n",
    "$$\\int z^{-2}~{\\rm d}z = \\int ~{\\rm d}x \\qquad\\Rightarrow\\qquad\n",
    "  -{1\\over z} = x + A \\qquad\\Rightarrow\\qquad\n",
    "  z = -{1\\over x+A}$$\n",
    "\n",
    "where $A$ is an arbitrary constant.\n"
   ]
  },
  {
   "cell_type": "markdown",
   "metadata": {
    "slideshow": {
     "slide_type": "fragment"
    }
   },
   "source": [
    "\n",
    "We can then replace $z$ using the original substitution to obtain a first order differential equation:\n",
    "$$\\frac{{\\rm d}y}{{\\rm d}x} = -{1\\over x+A} ~~~~~~~~~~~~{\\rm Equation~(9)}$$\n"
   ]
  },
  {
   "cell_type": "markdown",
   "metadata": {
    "slideshow": {
     "slide_type": "fragment"
    }
   },
   "source": [
    "This equation can be solved with a standard integral:\n",
    "\n",
    "$$y = -\\ln(x+A) + B$$\n",
    "\n",
    "(how do we determine $A$ and $B$?)"
   ]
  },
  {
   "cell_type": "markdown",
   "metadata": {
    "slideshow": {
     "slide_type": "slide"
    }
   },
   "source": [
    "Example\n",
    "\n",
    "1. At $\\;x=0,\\;$ $\\;\\displaystyle \\frac{{\\rm d}y}{{\\rm d}x} = -1\\;$ and $\\;y=0\\;$.\n"
   ]
  },
  {
   "cell_type": "markdown",
   "metadata": {
    "slideshow": {
     "slide_type": "fragment"
    }
   },
   "source": [
    "\n",
    "We substitute the first condition into $\\frac{{\\rm d}y}{{\\rm d}x} = -{1\\over x+A}$ to obtain $\\;A=1\\;$."
   ]
  },
  {
   "cell_type": "markdown",
   "metadata": {
    "slideshow": {
     "slide_type": "fragment"
    }
   },
   "source": [
    "Then substitute $A$ and the second condition into the eventual solution\n",
    "to find $\\;B=0$."
   ]
  },
  {
   "cell_type": "markdown",
   "metadata": {
    "slideshow": {
     "slide_type": "fragment"
    }
   },
   "source": [
    "2. $\\;y(0)=0\\;$ and $\\;y(e-1)=-1$."
   ]
  },
  {
   "cell_type": "markdown",
   "metadata": {
    "slideshow": {
     "slide_type": "fragment"
    }
   },
   "source": [
    "This time both conditions can be substituted into the solution:\n",
    "\n",
    "$$y(0)=0 \\Rightarrow 0=B-\\ln(A) \\Rightarrow B=\\ln(A)$$\n",
    "\n",
    "$$y(e-1)=-1 \\Rightarrow -1=\\ln(A)-\\ln{e-1+A} \\Rightarrow A=1$$"
   ]
  },
  {
   "cell_type": "markdown",
   "metadata": {
    "slideshow": {
     "slide_type": "slide"
    }
   },
   "source": [
    "## More tricks to do integration\n",
    "\n",
    "Let's return to and solve our leaf example:\n",
    "\n",
    "$${{\\rm d}y\\over {\\rm d}t}=k_1y-k_2y^2=y(k_1-k_2y)$$\n"
   ]
  },
  {
   "cell_type": "markdown",
   "metadata": {
    "slideshow": {
     "slide_type": "fragment"
    }
   },
   "source": [
    "This is a separable differential equation: $$\\;\\displaystyle\\int {{\\rm d}y\\over \n",
    "y(k_1-k_2y)} =\\int {\\rm d}t.\\;$$"
   ]
  },
  {
   "cell_type": "markdown",
   "metadata": {
    "slideshow": {
     "slide_type": "fragment"
    }
   },
   "source": [
    "We can split apart the integral on the RHS using **partial fractions** in SymPy."
   ]
  },
  {
   "cell_type": "markdown",
   "metadata": {
    "slideshow": {
     "slide_type": "slide"
    }
   },
   "source": [
    "We want $\\qquad\\displaystyle{1\\over y(k_1-k_2y)}={A\\over y}+{B\\over (k_1-k_2y)}$"
   ]
  },
  {
   "cell_type": "code",
   "execution_count": null,
   "metadata": {
    "slideshow": {
     "slide_type": "-"
    }
   },
   "outputs": [],
   "source": [
    "y, k1, k2 = sp.symbols('y k_1 k_2')\n",
    "sp.apart(1 / (y*(k1 - k2*y)),y)\n"
   ]
  },
  {
   "cell_type": "markdown",
   "metadata": {
    "slideshow": {
     "slide_type": "-"
    }
   },
   "source": [
    "So $A={1\\over k_1}$ and $B={k_2\\over k_1}$."
   ]
  },
  {
   "cell_type": "markdown",
   "metadata": {
    "slideshow": {
     "slide_type": "slide"
    }
   },
   "source": [
    "$${\\rm~Thus,~~~~}\\int {{\\rm d}y\\over y(k_1-k_2y)}=\\int {{\\rm d}y\\over k_1y}+\n",
    "\\int {k_2\\over k_1(k_1-k_2y)}{\\rm d}y =\\int dt$$\n"
   ]
  },
  {
   "cell_type": "markdown",
   "metadata": {
    "slideshow": {
     "slide_type": "fragment"
    }
   },
   "source": [
    "$${\\rm~Thus~~~~~~ }{1\\over k_1}\\ln y-{k_2\\over k_1k_2}\\ln(k_1-k_2y)=t + c$$\n"
   ]
  },
  {
   "cell_type": "markdown",
   "metadata": {
    "slideshow": {
     "slide_type": "fragment"
    }
   },
   "source": [
    "We can get $c$ from initial conditions.\n",
    "Try doing the algebraic manipulation of this to make $y$ the subject of the equation:\n",
    "\n",
    "$$y={k_1\\exp (k_1t+d)\\over 1+ k_2 \\exp(k_1t + d)}$$\n",
    "\n",
    "where $d$ is a constant."
   ]
  }
 ],
 "metadata": {
  "celltoolbar": "Slideshow",
  "kernelspec": {
   "display_name": "Python 3",
   "language": "python",
   "name": "python3"
  },
  "language_info": {
   "codemirror_mode": {
    "name": "ipython",
    "version": 3
   },
   "file_extension": ".py",
   "mimetype": "text/x-python",
   "name": "python",
   "nbconvert_exporter": "python",
   "pygments_lexer": "ipython3",
   "version": "3.8.5"
  }
 },
 "nbformat": 4,
 "nbformat_minor": 2
}
