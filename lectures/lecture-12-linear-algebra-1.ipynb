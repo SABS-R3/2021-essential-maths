{
 "cells": [
  {
   "cell_type": "markdown",
   "metadata": {
    "slideshow": {
     "slide_type": "slide"
    }
   },
   "source": [
    "# Lecture 12\n",
    "\n",
    "## Linear Algebra I:\n",
    "\n",
    "### Introduction to Matrices"
   ]
  },
  {
   "cell_type": "code",
   "execution_count": null,
   "metadata": {
    "slideshow": {
     "slide_type": "skip"
    }
   },
   "outputs": [],
   "source": [
    "import numpy as np\n",
    "import sympy as sp\n",
    "\n",
    "##################################################\n",
    "##### Matplotlib boilerplate for consistency #####\n",
    "##################################################\n",
    "from ipywidgets import interact\n",
    "from ipywidgets import FloatSlider\n",
    "from matplotlib import pyplot as plt\n",
    "\n",
    "%matplotlib inline\n",
    "\n",
    "from IPython.display import set_matplotlib_formats\n",
    "set_matplotlib_formats('svg')\n",
    "\n",
    "global_fig_width = 10\n",
    "global_fig_height = global_fig_width / 1.61803399\n",
    "font_size = 12\n",
    "\n",
    "plt.rcParams['axes.axisbelow'] = True\n",
    "plt.rcParams['axes.edgecolor'] = '0.8'\n",
    "plt.rcParams['axes.grid'] = True\n",
    "plt.rcParams['axes.labelpad'] = 8\n",
    "plt.rcParams['axes.linewidth'] = 2\n",
    "plt.rcParams['axes.titlepad'] = 16.0\n",
    "plt.rcParams['axes.titlesize'] = font_size * 1.4\n",
    "plt.rcParams['figure.figsize'] = (global_fig_width, global_fig_height)\n",
    "plt.rcParams['font.sans-serif'] = ['Computer Modern Sans Serif', 'DejaVu Sans', 'sans-serif']\n",
    "plt.rcParams['font.size'] = font_size\n",
    "plt.rcParams['grid.color'] = '0.8'\n",
    "plt.rcParams['grid.linestyle'] = 'dashed'\n",
    "plt.rcParams['grid.linewidth'] = 2\n",
    "plt.rcParams['lines.dash_capstyle'] = 'round'\n",
    "plt.rcParams['lines.dashed_pattern'] = [1, 4]\n",
    "plt.rcParams['xtick.labelsize'] = font_size\n",
    "plt.rcParams['xtick.major.pad'] = 4\n",
    "plt.rcParams['xtick.major.size'] = 0\n",
    "plt.rcParams['ytick.labelsize'] = font_size\n",
    "plt.rcParams['ytick.major.pad'] = 4\n",
    "plt.rcParams['ytick.major.size'] = 0\n",
    "##################################################"
   ]
  },
  {
   "cell_type": "markdown",
   "metadata": {
    "slideshow": {
     "slide_type": "slide"
    }
   },
   "source": [
    "## Simultaneous equations\n",
    "\n",
    "Consider 2 simultaneous equations:\n",
    "\\begin{eqnarray}\n",
    "a_1x+b_1y &=& c_1, \\quad (1)\\\\\n",
    "a_2x+b_2y &=& c_2, \\quad (2)\n",
    "\\end{eqnarray}\n",
    "\n",
    "where the values $\\;x\\;$ and $\\;y\\;$ are to be found, and $\\;a_1, \\;b_1, \\;a_2, \\;b_2, \\;c_1\\;$ and $\\;c_2\\;$ are given constants.\n",
    "\n",
    "\\begin{eqnarray}\n",
    " (1) \\times b_2:~~~~~~~~~~~~~~~ b_2a_1x+b_2b_1y &=& b_2c_1, \\quad (3)\\\\\n",
    "  (2) \\times b_1:~~~~~~~~~~~~~~~ b_1a_2x+b_1b_2y &=& b_1c_2, \\quad (4)\\\\\n",
    "  (3) - (4):~~~~~~~~~~~~~~~ b_2a_1x-b_1a_2x &=& b_2c_1-b_1c_2.\n",
    "\\end{eqnarray}"
   ]
  },
  {
   "cell_type": "markdown",
   "metadata": {
    "slideshow": {
     "slide_type": "subslide"
    }
   },
   "source": [
    "Thus:\n",
    " \n",
    "$$x=\\frac{b_2c_1-b_1c_2}{b_2a_1-b_1a_2},$$\n",
    "  \n",
    "and similarly:\n",
    " \n",
    "$$y=\\frac{a_1c_2-a_2c_1}{a_1b_2-a_2b_1}.$$\n",
    "\n",
    "This works, provided that $a_1b_2-a_2b_1\\neq 0.$\n",
    "\n",
    "\n",
    "While the algebraic manipulation is straightforward when solving two equations, it can get really messy when solving large systems.\n",
    "\n",
    "\n",
    "What we want is a way to be able to easily manipulate **linear** systems, regardless of how big they are. "
   ]
  },
  {
   "cell_type": "markdown",
   "metadata": {
    "slideshow": {
     "slide_type": "slide"
    }
   },
   "source": [
    "## The Matrix\n",
    "Matrices are a structure that allow us to more easily manipulate linear systems. \n",
    "\n",
    "Consider the original system\n",
    "\n",
    "\\begin{align}\n",
    "a_1x+b_1y &= c_1, \\\\\n",
    "a_2x+b_2y &= c_2. \n",
    "\\end{align}\n",
    "\n",
    "We rewrite this, in the form of a matrix as:\n",
    "\n",
    "\\begin{equation}\n",
    "\\left(\\begin{matrix}a_1&b_1\\\\ a_2&b_2\\end{matrix}\\right)\n",
    "\\left(\\begin{matrix}x\\\\y\\end{matrix}\\right)\n",
    "=\\left(\\begin{matrix}c_1\\\\ c_2 \\end{matrix}\\right).\n",
    "\\label{eq:mat}\n",
    "\\end{equation}\n",
    " \n",
    "Think about how this form relates to the original linear system. \n",
    "\n"
   ]
  },
  {
   "cell_type": "markdown",
   "metadata": {
    "slideshow": {
     "slide_type": "slide"
    }
   },
   "source": [
    "## What is a matrix?\n",
    "\n",
    "A matrix is an array of numbers such as:\n",
    "\n",
    "$$\\left(\\begin{matrix}a&b&c\\\\ d&e&f\\\\ g&h&i\\end{matrix}\\right).$$\n",
    "\n",
    "$3\\times3$ is the **size** of the matrix.\n",
    "\n",
    "A $3\\times3$ matrix is said to be **square** and have **order** (dimension) 3."
   ]
  },
  {
   "cell_type": "markdown",
   "metadata": {
    "slideshow": {
     "slide_type": "subslide"
    }
   },
   "source": [
    "### Addition, subtraction, and scalar multiplication\n",
    "\n",
    "We can add or subtract two matrices as long as they have the **same** size:\n",
    "\n",
    "$$\\left(\\begin{matrix} 2&1  \\\\ 3&-4 \\end{matrix}\\right)\n",
    "  +\\left(\\begin{matrix} 6&-5 \\\\ 1&-7 \\end{matrix}\\right)=\n",
    "   \\left(\\begin{matrix} 8&-4 \\\\ 4&-11\\end{matrix}\\right).$$\n",
    "\n",
    "Multiply a matrix by a scalar:\n",
    "\n",
    "$$5\\times\\left(\\begin{matrix} 2&1\\\\ 3&-4 \\end{matrix}\\right)\n",
    "    =\\left(\\begin{matrix}10&5\\\\ 15&-20\\end{matrix}\\right).$$\n",
    "    "
   ]
  },
  {
   "cell_type": "markdown",
   "metadata": {
    "slideshow": {
     "slide_type": "subslide"
    }
   },
   "source": [
    "### Matrix multiplication\n",
    "To multiply two matrices, we multiply each **row** in the first matrix by each **column** in the second one, and put the results into a new matrix. \n",
    "\n",
    "A row and column are multiplied by summing up each element in the row, multiplied by the corresponding element in the column. \n",
    "\n",
    "$$\\left(\\begin{matrix} 1&2 \\\\ 3&4 \\end{matrix}\\right) \\left(\\begin{matrix} 5&6\\\\7&8\\end{matrix}\\right) = \\left(\\begin{matrix} 1 \\times 5 + 2 \\times 7 & 1 \\times 6 + 2 \\times 8 \\\\ 3 \\times 5 + 4 \\times 7 & 3 \\times 6 + 4\\times 8\\end{matrix}\\right) = \\left(\\begin{matrix} 19&22\\\\43&46\\end{matrix}\\right)$$\n",
    "\n",
    "\n",
    "$$\\left(\\begin{matrix} 1&2&3&4\\\\ 5&6&7&8                \\end{matrix}\\right)\n",
    "    \\left(\\begin{matrix} 1&2&3\\\\ 4&5&6\\\\ 7&8&9\\\\ 10&11&12 \\end{matrix}\\right)\n",
    "=   \\left(\\begin{matrix} 70&80&90\\\\ 158&184&210            \\end{matrix}\\right),$$"
   ]
  },
  {
   "cell_type": "markdown",
   "metadata": {
    "slideshow": {
     "slide_type": "subslide"
    }
   },
   "source": [
    "$$\n",
    " \\left(\\begin{matrix} a & b & c                \\end{matrix}\\right)\n",
    " \\left(\\begin{matrix} p & q  \\\\ r & s \\\\ v & w \\end{matrix}\\right)\n",
    "= \\left(\\begin{matrix} ap+br+cv & aq+bs+cw \\end{matrix}\\right).\n",
    "$$\n",
    "\n",
    "If the number of **columns** in the first matrix doesn't match the number of **rows** in the second, they **cannot** be multiplied. \n",
    "\n",
    "$$\\left(\\begin{matrix} 2 & 3 & 1 \\\\ 2 & -1 & 3\\end{matrix}\\right)\\left(\\begin{matrix} 1 & 0 \\\\ -1 & -4\\end{matrix}\\right) =\\;?\\;?\\;?$$\n"
   ]
  },
  {
   "cell_type": "markdown",
   "metadata": {
    "slideshow": {
     "slide_type": "subslide"
    }
   },
   "source": [
    "### Matrix multiplication is not commutative\n",
    "This can be easily seen from the fact that multiplying different sized matrices doesn't always work:\n",
    "\n",
    "$(3 x 2 \\rm{matrix}) \\times (2 x 2 \\rm{matrix}) = (3 x 2 \\rm{matrix})$\n",
    "\n",
    "$(2 x 2 \\rm{matrix}) \\times (3 x 2 \\rm{matrix}) = ???$\n",
    "    \n",
    "However, even when sizes match, the product is usually not the same.\n",
    "\n",
    "### Example: Show that\n",
    "\n",
    "$\\left(\\begin{matrix} 4 & 0 & 2 & 3 \\\\ 1 & 0 & 5 & 2\\end{matrix}\\right)\\left(\\begin{matrix} 6 & 0 \\\\ 2 & 1 \\\\ 3 & 0 \\\\ 3 & 10 \\end{matrix}\\right) \\neq \\left(\\begin{matrix} 6 & 0 \\\\ 2 & 1 \\\\ 3 & 0 \\\\ 3 & 10 \\end{matrix}\\right)\\left(\\begin{matrix} 4 & 0 & 2 & 3 \\\\ 1 & 0 & 5 & 2\\end{matrix}\\right)$"
   ]
  },
  {
   "cell_type": "markdown",
   "metadata": {
    "slideshow": {
     "slide_type": "subslide"
    }
   },
   "source": [
    "### The identity matrix\n",
    "**I** is the identity matrix, which has the property that:\n",
    "\n",
    "$A I = I A = A$\n",
    "\n",
    "for a square matrix $A$. It is the matrix equivalent of multiplying by 1. \n",
    "\n",
    "The 2x2 identity matrix is:\n",
    "\n",
    "$I_2 = \\left(\\begin{matrix} 1 & 0 \\\\ 0 & 1 \\end{matrix}\\right).$\n",
    "\n",
    "The 3x3 identity matrix is:\n",
    "\n",
    "$I_3 = \\left(\\begin{matrix} 1 & 0 & 0 \\\\ 0 & 1 & 0 \\\\ 0 & 0 & 1 \\end{matrix}\\right).$\n",
    "\n",
    "and so on for higher dimensions. "
   ]
  },
  {
   "cell_type": "markdown",
   "metadata": {
    "slideshow": {
     "slide_type": "subslide"
    }
   },
   "source": [
    "### The determinant\n",
    "If\n",
    "\n",
    "$A = \\left(\\begin{matrix} p & q \\\\ r & s\\end{matrix}\\right)$\n",
    "\n",
    "then the **determinant** of A is:\n",
    "\n",
    "$|A| = ps-qr$\n",
    "\n",
    "That is, (top left $\\times$ bottom right) - (top right $\\times$ bottom left).\n",
    "\n",
    "If $|A| = 0$, A is said to be **singular** (have no inverse)."
   ]
  },
  {
   "cell_type": "markdown",
   "metadata": {
    "slideshow": {
     "slide_type": "slide"
    }
   },
   "source": [
    "### Inverting 2x2 matrices\n",
    "\n",
    "If $AB = I$, what is B?\n",
    "\n",
    "A is called the inverse of B, and vice versa. I.e.\n",
    "$A = B^{-1}, B = A^{-1}$. \n",
    "\n",
    "If \n",
    "$A = \\left(\\begin{matrix} p & q \\\\ r & s\\end{matrix}\\right)$\n",
    "\n",
    "then:\n",
    "\n",
    "$A^{-1} = \\frac{1}{ps-qr} \\left(\\begin{matrix} s & -q \\\\ -r & p\\end{matrix}\\right)$."
   ]
  },
  {
   "cell_type": "markdown",
   "metadata": {
    "slideshow": {
     "slide_type": "subslide"
    }
   },
   "source": [
    "## Example - Inverting a 2x2 matrix\n",
    "\n",
    "$$A=\\left(\\begin{matrix}2&-3\\\\ -2&4\\end{matrix}\\right).$$\n",
    " \n",
    "$$|A|=(2\\times 4)-(-3\\times-2)=8-6=2.$$\n",
    " \n",
    " so\n",
    " \n",
    "$$A^{-1}={1\\over 2}\\left(\\begin{matrix}4&3\\\\ 2&2\\end{matrix}\\right)$$"
   ]
  },
  {
   "cell_type": "markdown",
   "metadata": {
    "slideshow": {
     "slide_type": "subslide"
    }
   },
   "source": [
    "As a check, calculate $A^{-1}A$:\n",
    " \n",
    "$$A^{-1}A= \\frac{1}{2}\\left(\\begin{matrix}4&3\\\\ 2&2\\end{matrix}\\right)\\left(\\begin{matrix}2&-3\\\\ -2&4\\end{matrix}\\right) $$\n",
    "\n",
    "$$= \\frac{1}{2}\\left(\\begin{matrix}2&0\\\\ 0&2\\end{matrix}\\right)$$\n",
    "\n",
    "$$= \\left(\\begin{matrix}1&0\\\\ 0&1\\end{matrix}\\right)$$\n",
    "\n",
    "$$=I_2.$$"
   ]
  },
  {
   "cell_type": "markdown",
   "metadata": {
    "slideshow": {
     "slide_type": "subslide"
    }
   },
   "source": [
    "## The transpose of a Matrix\n",
    "\n",
    "$A^T$ is the transpose of $A$.\n",
    "\n",
    " Swap elements across the leading diagonal so that $A^T_{ij}= A_{ji}$.\n",
    "\n",
    " $$A=\\left(\\begin{matrix}2&1&2\\\\ 1&4&6\\\\ 1&-1&2\\end{matrix}\\right)$$\n",
    " \n",
    " $$A^T=\\left(\\begin{matrix}2&1&1\\\\ 1&4&-1\\\\ 2&6&2\\end{matrix}\\right)$$"
   ]
  },
  {
   "cell_type": "markdown",
   "metadata": {
    "slideshow": {
     "slide_type": "slide"
    }
   },
   "source": [
    "## Solving a linear system using matrices\n",
    "\n",
    "To solve a matrix system $A {\\bf x} = {\\bf b}$ for an unknown left-hand side ${\\bf x}$.\n",
    "\n",
    "- If it's of order 2 then use the formula to write $A^{-1}$ and hence ${\\bf x} = A^{-1}{\\bf b}$.\n",
    "\n",
    "- If it's larger $(3\\times3)$ then there's still a formula for  $A^{-1}$ (not in this course).\n",
    "\n",
    "- Use an analytical method (Gaussian elimination) to find the inverse (not in this course). \n",
    "\n",
    "- Use a numerical scheme to find an approximation to ${\\bf x}$, such as Newton's method (not in this course).\n",
    "\n",
    "- Solve using a linear algebra package. "
   ]
  },
  {
   "cell_type": "markdown",
   "metadata": {
    "slideshow": {
     "slide_type": "slide"
    }
   },
   "source": [
    "### Example. Solving a 2x2 system\n",
    "\n",
    "$$A^{-1}A{\\bf x}=A^{-1}{\\bf b}$$\n",
    "\n",
    " and  $${\\bf x}=A^{-1}{\\bf b}$$\n",
    " \n",
    " e.g.\n",
    " \n",
    "$$x+5y  = 11,$$\n",
    " \n",
    "$$-x+5y = 9.$$"
   ]
  },
  {
   "cell_type": "markdown",
   "metadata": {
    "slideshow": {
     "slide_type": "subslide"
    }
   },
   "source": [
    "In matrix form, this gives:\n",
    "\n",
    "$$\\left(\\begin{matrix}1 &5\\\\ -1&5\\end{matrix}\\right) \\left(\\begin{matrix}x\\\\ y\\end{matrix}\\right) = \\left(\\begin{matrix}11\\\\ 9\\end{matrix}\\right)$$\n",
    " \n",
    " We have:\n",
    " \n",
    "$$A^{-1}= \\frac{1}{10} \\left(\\begin{matrix}5 &-5\\\\ 1&1 \\end{matrix}\\right)$$\n",
    " \n",
    " Thus:\n",
    "\n",
    "$$\\left(\\begin{matrix}x\\\\ y\\end{matrix}\\right) = \\frac{1}{10}\\left(\\begin{matrix}5 &-5\\\\ 1&1\\end{matrix}\\right)\\left(\\begin{matrix}11\\\\ 9\\end{matrix}\\right) =\\frac{1}{10} \\left(\\begin{matrix}10\\\\ 20\\end{matrix}\\right)$$\n",
    "\n",
    "$$=\\left(\\begin{matrix}1\\\\ 2\\end{matrix}\\right)$$\n",
    "\n",
    " Thus $x=1, y=2$"
   ]
  },
  {
   "cell_type": "markdown",
   "metadata": {
    "slideshow": {
     "slide_type": "subslide"
    }
   },
   "source": [
    "This process seems like more effort than its worth for small systems. \n",
    "\n",
    "But it allows for a much more systematic approach when dealing with large systems. \n",
    "\n",
    "As the size of the matrix grows, this process can be easily performed with Python (or other tools)."
   ]
  },
  {
   "cell_type": "markdown",
   "metadata": {
    "slideshow": {
     "slide_type": "slide"
    }
   },
   "source": [
    "### Example. Solving a 4x4 system in Python\n",
    "\n",
    "$ x + 5y + 3z - w = 5,$\n",
    "\n",
    "$ x - 2y + z + 4w = 2,$\n",
    "\n",
    "$ -3x + y -z + 2w = -5,$\n",
    "\n",
    "$ x + y + z = 0.$\n",
    "\n",
    "This gives\n",
    "\n",
    "$\\left(\\begin{matrix} 1 & 5 & 3 & -1 \\\\ 1 & -2 & 1 & 4 \\\\ -3 & 1 & -1 & 2\\\\ 1 & 1 & 1 & 0 \\end{matrix}\\right) \\left(\\begin{matrix} x \\\\ y \\\\ z \\\\ w\\end{matrix}\\right) = \\left(\\begin{matrix} 5 \\\\ 2 \\\\ -5 \\\\ 0\\end{matrix}\\right).$"
   ]
  },
  {
   "cell_type": "code",
   "execution_count": null,
   "metadata": {
    "slideshow": {
     "slide_type": "subslide"
    }
   },
   "outputs": [],
   "source": [
    "## In python, we use numpy arrays to store the needed matrices\n",
    "## the procedure linalg.solve, solves the system Ax = b\n",
    "## We could also calculate the inverse of A (linalg.inv), and then multiply. \n",
    "## But this is faster\n",
    "A = np.array([[1,5,3,-1],[1,-2,1,4],[-3,1,-1,2],[1,1,1,0]])\n",
    "\n",
    "b = np.array([5, 2, -5, 0])\n",
    "\n",
    "x = np.linalg.solve(A,b)\n",
    "\n",
    "print(x)\n",
    "\n",
    "print(np.matmul(A,x))"
   ]
  },
  {
   "cell_type": "code",
   "execution_count": null,
   "metadata": {
    "slideshow": {
     "slide_type": "subslide"
    }
   },
   "outputs": [],
   "source": [
    "A = sp.Matrix([[1,5,3,-1],[1,-2,1,4],[-3,1,-1,2],[1,1,1,0]])\n",
    "\n",
    "A.inv() * sp.Matrix([5, 2, -5, 0])\n"
   ]
  }
 ],
 "metadata": {
  "celltoolbar": "Slideshow",
  "kernelspec": {
   "display_name": "Python 3",
   "language": "python",
   "name": "python3"
  },
  "language_info": {
   "codemirror_mode": {
    "name": "ipython",
    "version": 3
   },
   "file_extension": ".py",
   "mimetype": "text/x-python",
   "name": "python",
   "nbconvert_exporter": "python",
   "pygments_lexer": "ipython3",
   "version": "3.8.5"
  }
 },
 "nbformat": 4,
 "nbformat_minor": 2
}
