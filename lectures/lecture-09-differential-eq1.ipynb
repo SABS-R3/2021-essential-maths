{
 "cells": [
  {
   "cell_type": "markdown",
   "metadata": {
    "slideshow": {
     "slide_type": "slide"
    }
   },
   "source": [
    "# Lecture 9\n",
    "\n",
    "## Differential Equations I:\n",
    "\n",
    "### Separation of Variables"
   ]
  },
  {
   "cell_type": "code",
   "execution_count": null,
   "metadata": {
    "slideshow": {
     "slide_type": "skip"
    }
   },
   "outputs": [],
   "source": [
    "import numpy as np\n",
    "import sympy as sp\n",
    "import scipy.integrate\n",
    "sp.init_printing()\n",
    "##################################################\n",
    "##### Matplotlib boilerplate for consistency #####\n",
    "##################################################\n",
    "from ipywidgets import interact\n",
    "from ipywidgets import FloatSlider\n",
    "from matplotlib import pyplot as plt\n",
    "\n",
    "%matplotlib inline\n",
    "\n",
    "from IPython.display import set_matplotlib_formats\n",
    "set_matplotlib_formats('svg')\n",
    "\n",
    "global_fig_width = 10\n",
    "global_fig_height = global_fig_width / 1.61803399\n",
    "font_size = 12\n",
    "\n",
    "plt.rcParams['axes.axisbelow'] = True\n",
    "plt.rcParams['axes.edgecolor'] = '0.8'\n",
    "plt.rcParams['axes.grid'] = True\n",
    "plt.rcParams['axes.labelpad'] = 8\n",
    "plt.rcParams['axes.linewidth'] = 2\n",
    "plt.rcParams['axes.titlepad'] = 16.0\n",
    "plt.rcParams['axes.titlesize'] = font_size * 1.4\n",
    "plt.rcParams['figure.figsize'] = (global_fig_width, global_fig_height)\n",
    "plt.rcParams['font.sans-serif'] = ['Computer Modern Sans Serif', 'DejaVu Sans', 'sans-serif']\n",
    "plt.rcParams['font.size'] = font_size\n",
    "plt.rcParams['grid.color'] = '0.8'\n",
    "plt.rcParams['grid.linestyle'] = 'dashed'\n",
    "plt.rcParams['grid.linewidth'] = 2\n",
    "plt.rcParams['lines.dash_capstyle'] = 'round'\n",
    "plt.rcParams['lines.dashed_pattern'] = [1, 4]\n",
    "plt.rcParams['xtick.labelsize'] = font_size\n",
    "plt.rcParams['xtick.major.pad'] = 4\n",
    "plt.rcParams['xtick.major.size'] = 0\n",
    "plt.rcParams['ytick.labelsize'] = font_size\n",
    "plt.rcParams['ytick.major.pad'] = 4\n",
    "plt.rcParams['ytick.major.size'] = 0\n",
    "##################################################"
   ]
  },
  {
   "cell_type": "markdown",
   "metadata": {
    "slideshow": {
     "slide_type": "slide"
    }
   },
   "source": [
    "## What is a Differential Equation?\n",
    "\n",
    "If $y$ is a variable that depends on the variable $x$, then a **differential equation in $x$ and $y$** is one that relates $\\displaystyle \\frac{{\\rm d}y}{{\\rm d}x}$ to $x$, to $y$, or to both.\n",
    "\n",
    "We write\n",
    "$$\\frac{{\\rm d}y}{{\\rm d}x}=f(x,y).$$"
   ]
  },
  {
   "cell_type": "markdown",
   "metadata": {
    "slideshow": {
     "slide_type": "slide"
    }
   },
   "source": [
    "## How do we Find the Solutions to a Differential Equation?\n",
    "\n",
    "The simplest differential equations are very similar to integration.\n",
    "\n",
    "$$\\frac{{\\rm d}y}{{\\rm d}x} = x^3 + 5x^2 + 1$$"
   ]
  },
  {
   "cell_type": "markdown",
   "metadata": {
    "slideshow": {
     "slide_type": "fragment"
    }
   },
   "source": [
    "Since all the terms in $y$ (just the derivative in this case) on the left, and all the terms involving $x$ on the right.\n",
    "\n",
    "$${\\rm d}y = (x^3 + 5x^2 + 1) ~{\\rm d}x$$\n"
   ]
  },
  {
   "cell_type": "markdown",
   "metadata": {
    "slideshow": {
     "slide_type": "subslide"
    }
   },
   "source": [
    "Then we integrate both sides\n",
    "$$\\int {\\rm d}y = \\int (x^3 + 5x^2 + 1) ~{\\rm d}x$$\n"
   ]
  },
  {
   "cell_type": "markdown",
   "metadata": {
    "slideshow": {
     "slide_type": "fragment"
    }
   },
   "source": [
    "The general solution to this equation is\n",
    "$$y + A = \\int x^3 + 5x^2 + 1\\,{\\rm d}x = {1\\over 4}x^4 + {5\\over 3}x^3 + x + B$$\n",
    "where $A$ and $B$ are a arbitrary constants.\n",
    "\n",
    "If we are given the **initial conditions**, say, $y=0$ when $x=0$ (often written as $y(0)=0$), \n",
    "we can determine the value for the constants; in this example $A=B$."
   ]
  },
  {
   "cell_type": "markdown",
   "metadata": {
    "slideshow": {
     "slide_type": "slide"
    }
   },
   "source": [
    "This approach can be generalised into what is known as the **Separation of Variables Method**.\n",
    "---------------------------------------------------------------------------------------------"
   ]
  },
  {
   "cell_type": "markdown",
   "metadata": {
    "slideshow": {
     "slide_type": "slide"
    }
   },
   "source": [
    "## Example 1:\n",
    "$${{\\rm d}y\\over {\\rm d}x} = 2x + c$$\n",
    "\n",
    "The equation is already separated, with all terms in $y$ (just the derivative in \n",
    "this case) on the left, and terms involving $x$ on the right.\n"
   ]
  },
  {
   "cell_type": "markdown",
   "metadata": {
    "slideshow": {
     "slide_type": "fragment"
    }
   },
   "source": [
    "We then integrate both sides with respect to $x$:\n",
    "\n",
    "$$ \\int \\frac{{\\rm d}y}{{\\rm d}x}\\,{\\rm d}x = \\int (2x + c)\\, {\\rm d}x $$\n",
    "\n",
    "$$y + k_1 = x^2 + cx + k_2$$\n",
    "\n",
    "$$y = x^2 + cx + A\\qquad\\mbox{with}\\qquad A=k_2-k_1$$"
   ]
  },
  {
   "cell_type": "markdown",
   "metadata": {
    "slideshow": {
     "slide_type": "slide"
    }
   },
   "source": [
    "### Initial conditions\n",
    "\n",
    "$$y = x^2 + cx + A$$\n",
    "\n",
    "If we are told that $y(1) = c$, can we calculate $A$?"
   ]
  },
  {
   "cell_type": "markdown",
   "metadata": {
    "slideshow": {
     "slide_type": "fragment"
    }
   },
   "source": [
    "We have that\n",
    "\n",
    "$$y = x^2 + cx + A\\;\\qquad\\mbox{with}\\qquad y(1) = c$$\n",
    "\n",
    "so:\n",
    "\n",
    "$$c = 1^2 + c\\cdot 1 + A$$\n",
    "\n",
    "$$A = -1$$\n",
    "\n",
    "Is this right?"
   ]
  },
  {
   "cell_type": "code",
   "execution_count": null,
   "metadata": {
    "slideshow": {
     "slide_type": "slide"
    }
   },
   "outputs": [],
   "source": [
    "c = 1.0\n",
    "A = -1.0\n",
    "x0 = 1.0\n",
    "x1 = 10.0\n",
    "x = np.linspace(x0,x1,100)\n",
    "y_exact = x**2 + c*x + A\n",
    "\n",
    "def dydx(y, x):\n",
    "    return 2*x + c\n",
    "y_numerical = scipy.integrate.odeint(dydx, c, x)\n"
   ]
  },
  {
   "cell_type": "code",
   "execution_count": null,
   "metadata": {
    "slideshow": {
     "slide_type": "subslide"
    }
   },
   "outputs": [],
   "source": [
    "plt.plot(x,y_exact,lw=2, c='r', label='exact')\n",
    "plt.plot(x,y_numerical,lw=2, c='k', ls='--',label='numerical')\n",
    "plt.xlabel('x')\n",
    "plt.ylabel('y')\n",
    "plt.legend()\n"
   ]
  },
  {
   "cell_type": "markdown",
   "metadata": {
    "slideshow": {
     "slide_type": "slide"
    }
   },
   "source": [
    "## Example 2:\n",
    "\n",
    "$${{\\rm d}y\\over {\\rm d}x} = 5 x^{{3\\over 2}} y $$\n",
    "\n",
    "Separate the variables so that all the terms in $x$ are on one side of the equation and all the terms in $y$ are on the other side:\n",
    "\n",
    "$${1\\over y}\\frac{{\\rm d}y}{{\\rm d}x} = 5 x^{{3\\over 2}} $$\n"
   ]
  },
  {
   "cell_type": "markdown",
   "metadata": {
    "slideshow": {
     "slide_type": "subslide"
    }
   },
   "source": [
    "$${1\\over y}\\frac{{\\rm d}y}{{\\rm d}x} = 5 x^{{3\\over 2}} $$\n",
    "\n",
    "Integrating both sides with respect to $x$:\n",
    "\n",
    "$$\\int {1\\over y}\\frac{{\\rm d}y}{{\\rm d}x}\\, {\\rm d}x = \\int 5x^{{3\\over 2}}\\,{\\rm d}x \\quad\n",
    "  \\Rightarrow\\quad \\int {1\\over y}\\,{\\rm d}y = \\int 5x^{{3\\over 2}}\\, {\\rm d}x$$"
   ]
  },
  {
   "cell_type": "markdown",
   "metadata": {
    "slideshow": {
     "slide_type": "fragment"
    }
   },
   "source": [
    "Now integrate on each side:\n",
    "$${\\ln y + A} = { 5x^{{5\\over 2}}\\over 5/2} + B = 2x^{{5\\over 2}} + B$$"
   ]
  },
  {
   "cell_type": "markdown",
   "metadata": {
    "slideshow": {
     "slide_type": "fragment"
    }
   },
   "source": [
    "So:\n",
    "\n",
    "$$\\ln y = 2x^{{5\\over 2}} + C{\\rm\\quad where\\quad}C=B-A$$"
   ]
  },
  {
   "cell_type": "markdown",
   "metadata": {
    "slideshow": {
     "slide_type": "slide"
    }
   },
   "source": [
    "## Example 3:\n",
    "\n",
    "$$e^x \\frac{{\\rm d}y}{{\\rm d}x} = {x \\over y}$$\n"
   ]
  },
  {
   "cell_type": "markdown",
   "metadata": {
    "slideshow": {
     "slide_type": "fragment"
    }
   },
   "source": [
    "Rearrange to get:\n",
    "\n",
    "$$\\int y\\,{\\rm d}y = \\int x e^{-x}\\,{\\rm d}x$$"
   ]
  },
  {
   "cell_type": "markdown",
   "metadata": {
    "slideshow": {
     "slide_type": "subslide"
    }
   },
   "source": [
    "We have\n",
    "\n",
    "$$\\int y\\,{\\rm d}y = \\int x e^{-x}\\,{\\rm d}x$$\n",
    "\n",
    "Now integrate by parts, $\\displaystyle\\biggl(\\int uv'\\,{\\rm d}x = [uv]-\\int u'v\\,{\\rm d}x\\biggr)$,\n",
    "\n",
    "with $u=x$ and $v'=e^{-x}$:\n",
    "\n",
    "\\begin{align*}\n",
    "{y^2\\over 2} + c_1 &= -x e ^{-x} + \\int e ^{-x}\\,{\\rm d}x \\\\\\\\\n",
    "      &= -x e ^{-x} - e ^{-x} + c_2 \\\\\\\\\n",
    "  y^2 &= -2 e ^{-x}(1+x) + c_3 \\\\\\\\\n",
    "  y &= \\pm\\sqrt{-2 e^{-x} (1+x) + c_3}\n",
    "\\end{align*}"
   ]
  },
  {
   "cell_type": "markdown",
   "metadata": {
    "slideshow": {
     "slide_type": "slide"
    }
   },
   "source": [
    "Let's check this answer: $y = \\pm\\sqrt{-2 e^{-x} (1+x) + c_3}$.\n",
    "\n",
    "Substitute in initial conditions $y(0) = 0$ gives $c_3 = 2$"
   ]
  },
  {
   "cell_type": "code",
   "execution_count": null,
   "metadata": {
    "slideshow": {
     "slide_type": "-"
    }
   },
   "outputs": [],
   "source": [
    "c3 = 2.0\n",
    "x0 = 0.0\n",
    "x1 = 1.0\n",
    "x = np.linspace(x0,x1,100)\n",
    "\n",
    "y_exact = np.sqrt(-2*np.exp(-x)*(1 + x) + c3)\n",
    "\n",
    "def dydx(y, x):\n",
    "    return np.exp(-x) * x / y\n",
    "\n",
    "y_numerical = scipy.integrate.odeint(dydx, 1e-8, x) # why 1e-8 instead of zero?\n"
   ]
  },
  {
   "cell_type": "code",
   "execution_count": null,
   "metadata": {
    "slideshow": {
     "slide_type": "slide"
    }
   },
   "outputs": [],
   "source": [
    "plt.plot(x,y_exact,lw=2, c='r', label='exact+')\n",
    "plt.plot(x,-y_exact,lw=2, c='r', label='exact-')\n",
    "plt.plot(x,y_numerical,lw=2, c='k', ls='--',label='numerical+')\n",
    "plt.plot(x,-y_numerical,lw=2, c='k', ls='--',label='numerical-')\n",
    "plt.xlabel('x')\n",
    "plt.ylabel('y')\n",
    "plt.legend()\n"
   ]
  },
  {
   "cell_type": "markdown",
   "metadata": {
    "slideshow": {
     "slide_type": "slide"
    }
   },
   "source": [
    "## Example 1: Biochemistry:\n",
    "\n",
    "The Michaelis-Menten equation relates the rate of an enzyme reaction to its \n",
    "substrate concentration, and has the form (if there is a large quantity of \n",
    "enzyme):\n",
    "\n",
    "$${{\\rm d}s\\over {\\rm d}t}=-{V.s\\over K+s}$$\n",
    "\n",
    "where $s=[S]$ is the substrate concentration, and $V$ and $K$ are constants.\n",
    "By integration, we will derive expressions relating substrate concentration to time when\n",
    "\n",
    "1. when $s\\gg K$\n",
    "1. when $s\\ll K$\n",
    "\n",
    "and sketch the graphs of $\\;s\\;$ against $\\;t\\;$ in each case."
   ]
  },
  {
   "cell_type": "markdown",
   "metadata": {
    "slideshow": {
     "slide_type": "slide"
    }
   },
   "source": [
    "## Case 1\n",
    "\n",
    "When $s\\gg K$, $K$ in the differential equation's denominator can be neglected:\n",
    "\n",
    "$$\\frac{{\\rm d}s}{{\\rm d}t} \\approx -{V.s\\over s} = -V$$\n",
    "\n",
    "The rate of change in concentration is a constant, so this is a **zeroth order process**.\n",
    "\n",
    "We can integrate directly to obtain\n",
    "$$ s = \\int -V\\,{\\rm d}t = -Vt + c$$\n",
    "where $c$ is a constant of integration.\n",
    "\n",
    "If $s(0)=s_0$, then $c=s_0$.\n",
    "\n",
    "The graph thus has slope $-V$ and crosses the vertical axis at $s=s_0$."
   ]
  },
  {
   "cell_type": "markdown",
   "metadata": {
    "slideshow": {
     "slide_type": "slide"
    }
   },
   "source": [
    "## Case 2\n",
    "\n",
    "When $s\\ll K$, $\\;s\\;$ in the differential equation's denominator can be neglected:\n",
    "$$\\frac{{\\rm d}s}{{\\rm d}t} = -{V.s\\over K+s}\\quad{\\rm~becomes:\\quad}\\frac{{\\rm d}s}{{\\rm d}t} = -{V.s\\over K}$$\n",
    "\n",
    "The rate of change in concentration depends on the concentration, so this is a **first order process**.\n",
    "\n",
    "$$\\int {1\\over s}\\,{\\rm d}s = -\\int {V\\over K}\\,{\\rm d}t$$\n",
    "\n",
    "$$\\Rightarrow\\quad\\ln s = -{V\\over K}t + D\\qquad{\\rm D~is~a~constant}$$\n",
    "\n",
    "$$\\Rightarrow\\quad s = Be^{-V t\\over K}\\qquad{\\rm B~is~a~constant}$$\n",
    "\n",
    "On a graph $\\;s\\;$ crosses the vertical axis at $\\;s=B\\;$ and decreases with time exponentially."
   ]
  },
  {
   "cell_type": "markdown",
   "metadata": {
    "slideshow": {
     "slide_type": "slide"
    }
   },
   "source": [
    "Lets look at this numerically using the original equation:\n",
    "\n",
    "$${{\\rm d}s\\over {\\rm d}t}=-{V.s\\over K+s}$$"
   ]
  },
  {
   "cell_type": "code",
   "execution_count": null,
   "metadata": {
    "slideshow": {
     "slide_type": "-"
    }
   },
   "outputs": [],
   "source": [
    "def solve(K):\n",
    "    V = 1.0\n",
    "    t0 = 0.0\n",
    "    t1 = 10.0\n",
    "    s0 = 1.0\n",
    "    t = np.linspace(t0,t1,1000)\n",
    "    def dsdt(s, t):\n",
    "        return -V * s / (K + s)\n",
    "    s = scipy.integrate.odeint(dsdt, s0, t)\n",
    "    plt.plot(t,s)\n",
    "    plt.xlabel('t')\n",
    "    plt.ylabel('s')\n",
    "    "
   ]
  },
  {
   "cell_type": "code",
   "execution_count": null,
   "metadata": {
    "slideshow": {
     "slide_type": "slide"
    }
   },
   "outputs": [],
   "source": [
    "interact(solve, K = FloatSlider(value=0.01,min=0.01,max=2.0,step=0.01, continuous_update=False))"
   ]
  },
  {
   "cell_type": "markdown",
   "metadata": {
    "slideshow": {
     "slide_type": "slide"
    }
   },
   "source": [
    "## Example 2: Bacterial growth:\n",
    "\n",
    "Suppose the growth rate of a bacterial colony is proportional to its size,\n",
    "and that we observe that the colony triples in size after 10 hours.\n",
    "How long will it take to reach 11 times its original size?\n",
    "\n",
    "Let $\\;N\\;$ represent the number of bacteria, and suppose there are $\\;N_0\\;$ at time $\\;t=0$.\n"
   ]
  },
  {
   "cell_type": "markdown",
   "metadata": {
    "slideshow": {
     "slide_type": "fragment"
    }
   },
   "source": [
    "We are given that when $\\;t=10\\;$ hours, $\\;N=3N_0$, and need to find the time at which $\\;N=11N_0\\;$.\n",
    "The equation of growth is:\n",
    "\n",
    "$$\\frac{{\\rm d}N}{{\\rm d}t} = kN$$"
   ]
  },
  {
   "cell_type": "markdown",
   "metadata": {
    "slideshow": {
     "slide_type": "slide"
    }
   },
   "source": [
    "We can solve this to obtain $\\;\\ln N = kt + c.\\;$ Using the $\\;t=0\\;$ condition, we have that $\\;\\ln N_0 = c,\\;$ so\n",
    "\n",
    "$$\\ln{N\\over N_0} = kt$$\n",
    "\n",
    "We can use the data from $\\;t=10\\;$ to find $\\;k:\\;$\n",
    "\n",
    "$$\\ln{3N_0\\over N_0} = k 10 \\qquad\\Rightarrow\\qquad k={\\ln 3\\over 10}=0.11{\\rm~hr^{-1}}$$\n",
    "\n",
    "To find $t$ when $N=11N_0$:\n",
    "\n",
    "$$\\ln{11N_0\\over N_0} = 0.11 t \\qquad\\Rightarrow\\qquad t={\\ln 11\\over 0.11}=21.8{\\rm~hours.}$$"
   ]
  },
  {
   "cell_type": "markdown",
   "metadata": {
    "slideshow": {
     "slide_type": "slide"
    }
   },
   "source": [
    "## Example 3: Radioactive decay:\n",
    "\n",
    "The rate at which a sample decays is proportional to the amount left, i.e.\n",
    "\n",
    "$$\\frac{{\\rm d}N}{{\\rm d}t} = -\\lambda N$$\n",
    "\n",
    "where $\\;N\\;$ is the mass of radioactive atoms at time $\\;t\\;$ and $\\;\\lambda\\;$ is called the *decay constant*.\n",
    "\n",
    "The element radium (atomic mass=226) has a decay constant of $\\;13.6 \\times 10^{-12}\\;$s$^{-1}$."
   ]
  },
  {
   "cell_type": "markdown",
   "metadata": {
    "slideshow": {
     "slide_type": "slide"
    }
   },
   "source": [
    "Solving the differential equation via separation of variables, we obtain the general solution\n",
    "\n",
    "$$N = Be^{-\\lambda t}  ~~~~~~~~(1)$$\n",
    "\n",
    "Consider an arbitrary initial condition: at $\\;t=t_0\\;$, $\\;N=N_0.\\;$ Then:\n",
    "\n",
    "$$N_0 = Be^{-\\lambda t_0} \\qquad\\Rightarrow\\qquad B = N_0 e^{\\lambda t_0}$$\n",
    "\n",
    "Substituting in (1) gives the solution\n",
    "\n",
    "$$ N = N_0 e^{-\\lambda(t-t_0)} ~~~~~~~~~(2)$$"
   ]
  },
  {
   "cell_type": "markdown",
   "metadata": {
    "slideshow": {
     "slide_type": "slide"
    }
   },
   "source": [
    "The **half-life**, $\\;t_{1\\over 2},\\;$ is the time taken for $\\;N\\;$ to reduce by half.\n",
    "\n",
    "Putting $\\;N=N_0/2\\;$ and $\\;t=t_0+t_{1\\over 2}\\;$ in (2) we get\n",
    "\n",
    "$$\\ln {N_0\\over2N_0} = -\\lambda t_{1\\over 2}$$\n",
    "\n",
    "$$t_{1\\over 2} = {\\ln 2\\over\\lambda} \\approx {0.693\\over\\lambda}$$\n",
    "\n",
    "Note that this time is **independent** of the initial value $N_0$,\n",
    "\n",
    "The half-life for radium is thus $\\;t_{1\\over 2}={\\ln2\\over13.6\\times10^{-12}}=5.10\\times10^{10}\\,s,\\;$ or about 1600 years."
   ]
  },
  {
   "cell_type": "markdown",
   "metadata": {
    "slideshow": {
     "slide_type": "slide"
    }
   },
   "source": [
    "## Example 4: More biochemistry:\n",
    "\n",
    "The power to which the concentration of a species is raised in a rate law\n",
    "is the **order** of the process/reaction with respect to that species.\n",
    "A reaction with the rate law\n",
    "\n",
    "$$\\frac{{\\rm d}X}{{\\rm d}t} = k_2~[A]~[B]$$\n",
    "\n",
    "is first order in $A$ and first order in $B$.\n",
    "\n",
    "The **overall order** of a process/reaction is the sum of the orders of all the \n",
    "components. This rate law is thus second-order overall.\n",
    "\n",
    "Note that this is **different** from the order of an ODE, which is given by the \n",
    "highest derivative.\n",
    "Both zeroth and first order *processes* are modelled below by *first order \n",
    "differential equations*."
   ]
  },
  {
   "cell_type": "markdown",
   "metadata": {
    "slideshow": {
     "slide_type": "slide"
    }
   },
   "source": [
    "## (A) Zeroth order processes:\n",
    "\n",
    "- rate of change is **independent** of concentration, i.e. the rate of change is proportional to concentration raised to power zero \n",
    "\n",
    "$$\\frac{{\\rm d}A}{{\\rm d}t} = k \\quad \\text{(growth)}$$\n",
    "\n",
    "$$\\frac{{\\rm d}A}{{\\rm d}t} = -k\\quad \\text{(decay)}$$\n",
    "\n",
    "General solutions:\n",
    "$$A = A_0 + k(t-t_0)$$\n",
    "\n",
    "$$A = A_0 - k(t-t_0)$$"
   ]
  },
  {
   "cell_type": "markdown",
   "metadata": {
    "slideshow": {
     "slide_type": "slide"
    }
   },
   "source": [
    "## (B) First order processes:\n",
    "\n",
    "- rate of change depends on the concentration of one species, i.e. the rate of change is proportional to concentration raised to first power.\n",
    "\n",
    "- Half-life is a constant, i.e. is INDEPENDENT of the amount there at the \n",
    "  beginning.\n",
    "\n",
    "$$\\frac{{\\rm d}A}{{\\rm d}t} = kA\\quad\\text{growth}$$\n",
    "$$\\frac{{\\rm d}A}{{\\rm d}t} = -kA\\quad\\text{decay}$$\n",
    "\n",
    "General solutions:\n",
    "\n",
    "$$A = A_0 e^{k(t-t_0)}$$\n",
    "$$A = A_0 e^{-k(t-t_0)}$$"
   ]
  },
  {
   "cell_type": "code",
   "execution_count": null,
   "metadata": {
    "slideshow": {
     "slide_type": "slide"
    }
   },
   "outputs": [],
   "source": [
    "def first_order_process(k):\n",
    "    t = np.linspace(0,1,1000)\n",
    "    \n",
    "    growth = np.exp(k*t)\n",
    "    decay = growth[-1]*np.exp(-k*t)\n",
    "    \n",
    "    plt.plot(t,growth,label='first order growth')\n",
    "    plt.plot(t,decay,label='first order decay')\n",
    "    plt.xlabel('x')\n",
    "    plt.ylabel('A')\n",
    "    plt.legend()\n",
    "    "
   ]
  },
  {
   "cell_type": "code",
   "execution_count": null,
   "metadata": {
    "slideshow": {
     "slide_type": "slide"
    }
   },
   "outputs": [],
   "source": [
    "interact(first_order_process, k = FloatSlider(value=0.01,min=2,max=10,step=0.01, continuous_update=False))"
   ]
  }
 ],
 "metadata": {
  "celltoolbar": "Slideshow",
  "kernelspec": {
   "display_name": "Python 3",
   "language": "python",
   "name": "python3"
  },
  "language_info": {
   "codemirror_mode": {
    "name": "ipython",
    "version": 3
   },
   "file_extension": ".py",
   "mimetype": "text/x-python",
   "name": "python",
   "nbconvert_exporter": "python",
   "pygments_lexer": "ipython3",
   "version": "3.8.5"
  }
 },
 "nbformat": 4,
 "nbformat_minor": 2
}
