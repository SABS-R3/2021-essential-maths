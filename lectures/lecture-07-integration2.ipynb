{
 "cells": [
  {
   "cell_type": "markdown",
   "metadata": {
    "slideshow": {
     "slide_type": "slide"
    }
   },
   "source": [
    "# Lecture 07\n",
    "\n",
    "## Integration II:\n",
    "\n",
    "### Integration by Parts and by Partial Fractions"
   ]
  },
  {
   "cell_type": "code",
   "execution_count": null,
   "metadata": {
    "slideshow": {
     "slide_type": "skip"
    }
   },
   "outputs": [],
   "source": [
    "import numpy as np\n",
    "import sympy as sp\n",
    "sp.init_printing()\n",
    "##################################################\n",
    "##### Matplotlib boilerplate for consistency #####\n",
    "##################################################\n",
    "from ipywidgets import interact\n",
    "from ipywidgets import FloatSlider\n",
    "from matplotlib import pyplot as plt\n",
    "\n",
    "%matplotlib inline\n",
    "\n",
    "from IPython.display import set_matplotlib_formats\n",
    "set_matplotlib_formats('svg')\n",
    "\n",
    "global_fig_width = 10\n",
    "global_fig_height = global_fig_width / 1.61803399\n",
    "font_size = 12\n",
    "\n",
    "plt.rcParams['axes.axisbelow'] = True\n",
    "plt.rcParams['axes.edgecolor'] = '0.8'\n",
    "plt.rcParams['axes.grid'] = True\n",
    "plt.rcParams['axes.labelpad'] = 8\n",
    "plt.rcParams['axes.linewidth'] = 2\n",
    "plt.rcParams['axes.titlepad'] = 16.0\n",
    "plt.rcParams['axes.titlesize'] = font_size * 1.4\n",
    "plt.rcParams['figure.figsize'] = (global_fig_width, global_fig_height)\n",
    "plt.rcParams['font.sans-serif'] = ['Computer Modern Sans Serif', 'DejaVu Sans', 'sans-serif']\n",
    "plt.rcParams['font.size'] = font_size\n",
    "plt.rcParams['grid.color'] = '0.8'\n",
    "plt.rcParams['grid.linestyle'] = 'dashed'\n",
    "plt.rcParams['grid.linewidth'] = 2\n",
    "plt.rcParams['lines.dash_capstyle'] = 'round'\n",
    "plt.rcParams['lines.dashed_pattern'] = [1, 4]\n",
    "plt.rcParams['xtick.labelsize'] = font_size\n",
    "plt.rcParams['xtick.major.pad'] = 4\n",
    "plt.rcParams['xtick.major.size'] = 0\n",
    "plt.rcParams['ytick.labelsize'] = font_size\n",
    "plt.rcParams['ytick.major.pad'] = 4\n",
    "plt.rcParams['ytick.major.size'] = 0\n",
    "##################################################"
   ]
  },
  {
   "cell_type": "markdown",
   "metadata": {
    "slideshow": {
     "slide_type": "slide"
    }
   },
   "source": [
    "## Wake Up Exercise\n",
    "\n",
    "$\\displaystyle \\int_1^2 x~dx=$\n",
    "\n",
    "$\\displaystyle \\int_1^{\\sqrt[3]3} t^2~dt =$\n",
    "\n",
    "$\\displaystyle \\int_2^4 \\frac{1}{\\sqrt z}~dz=$"
   ]
  },
  {
   "cell_type": "markdown",
   "metadata": {
    "slideshow": {
     "slide_type": "slide"
    }
   },
   "source": [
    "## Integration reverses the process of differentiation\n",
    "\n",
    "### In general:\n",
    "\n",
    "$${d(a\\thinspace x^{n+1})\\over dx}=(n+1)a\\thinspace~x^n~~~~~\n",
    "\\Rightarrow ~~~~\\int_{x_1}^{x_2} a\\thinspace x^n~dx = \\biggr[{a\\over\n",
    "(n+1)} \\thinspace x^{(n+1)}\\biggl]_{x_1}^{x_2}$$ \n",
    "\n",
    "### Reminder: method 1: integration by substitution\n",
    "\n",
    "This method can be thought of as an integral version of the chain rule.\n",
    "Suppose we wish to integrate:\n",
    "\n",
    "$$I=\\int f(g(x))~dx= \\int f(u)~dx$$\n",
    "\n",
    "$$I =\\int f(u){dx\\over du}~du$$"
   ]
  },
  {
   "cell_type": "markdown",
   "metadata": {
    "slideshow": {
     "slide_type": "slide"
    }
   },
   "source": [
    "## Integration Method 2: Integration by Parts\n",
    "\n",
    "Recall that:\n",
    "$${d\\over dx}f(x)~g(x)=f(x)~g'(x)+ g(x)~f'(x)$$\n",
    "Integrate and rearrange to get:\n",
    "\n",
    "$$ \\int\\limits_a^b\n",
    "f(x)~g'(x)~dx=\\biggr[\\;f(x)~g(x)\\;\\biggl]_a^b-\\int\\limits_a^b\n",
    "g(x)~f'(x)~dx $$\n",
    "\n",
    " This is known as the formula for\n",
    "**'integrating by parts'** "
   ]
  },
  {
   "cell_type": "markdown",
   "metadata": {
    "slideshow": {
     "slide_type": "slide"
    }
   },
   "source": [
    "can also be written:\n",
    "\n",
    "$$\\int\\limits_a^b u~{dv\\over dx}~dx ~~= ~~\n",
    "\\biggr[uv\\biggl]^b_a-\\int\\limits_a^b v~{du\\over dx}~dx$$\n",
    "\n",
    "or\n",
    "\n",
    "$$\\int\\limits_a^b u~v'~dx~~ =~~\n",
    "\\biggr[uv\\biggl]^b_a-\\int\\limits_a^b v~u'~dx$$ with $f(x) \\equiv u$ and $g(x) \\equiv v$"
   ]
  },
  {
   "cell_type": "markdown",
   "metadata": {
    "slideshow": {
     "slide_type": "slide"
    }
   },
   "source": [
    "## Example 1:\n",
    "\n",
    "$$\\int\\limits_a^b x~\\sqrt{(x+1)}~dx=\\int\\limits_a^b x~(x+1)^{1/2}~dx$$"
   ]
  },
  {
   "cell_type": "markdown",
   "metadata": {
    "slideshow": {
     "slide_type": "fragment"
    }
   },
   "source": [
    "Choose\n",
    "$$u=x\\qquad\\mbox{and}\\qquad v'=\\sqrt{(x+1)}$$\n",
    "\n",
    "so that:\n",
    "$$u'=1\\qquad\\mbox{and}\\qquad v={2 \\over 3}(x+1)^{3/2}$$"
   ]
  },
  {
   "cell_type": "markdown",
   "metadata": {
    "slideshow": {
     "slide_type": "subslide"
    }
   },
   "source": [
    "Choose\n",
    "$$u=x\\qquad\\mbox{and}\\qquad v'=\\sqrt{(x+1)}$$\n",
    "\n",
    "so that:\n",
    "$$u'=1\\qquad\\mbox{and}\\qquad v={2 \\over 3}(x+1)^{3/2}$$\n",
    "\n",
    "$$\\int\\limits_a^b x~\\sqrt{(x+1)}~dx =\\biggr[x~{2\\over 3}(x+1)^{3/2}\\biggl]_a^b - \\int\\limits_a^b 1 \\times {2\\over 3}(x+1)^{3/2}~dx$$\n",
    "\n",
    "$$=\\biggr[{2\\over 3}~x~(x+1)^{3/2}\\biggl]_a^b-\n",
    "\\biggr[{2\\over 3}\\cdot {2\\over 5}(x+1)^{5/2}\\biggl]_a^b$$"
   ]
  },
  {
   "cell_type": "markdown",
   "metadata": {
    "slideshow": {
     "slide_type": "subslide"
    }
   },
   "source": [
    "If choose the other option for $u$ and $v'$,\n",
    "get:\n",
    "\n",
    "$$\\biggr[(x+1)^{1/2}~{x^2\\over 2}\\biggl]_a^b\n",
    "- \\int\\limits_a^b {1\\over 2}~{1\\over \\sqrt{(x+1)}}~{x^2\\over\n",
    "2}~dx$$\n",
    "\n",
    "The second term is **worse** than the integral we started with!\n",
    "It's important to choose $u$ and $v$ carefully.\n",
    "This comes with practice."
   ]
  },
  {
   "cell_type": "markdown",
   "metadata": {
    "slideshow": {
     "slide_type": "slide"
    }
   },
   "source": [
    "## Example 2:\n",
    "\n",
    "Let us calculate the indefinite integral,\n",
    "\n",
    "$$\\int \\ln x~dx$$\n",
    " "
   ]
  },
  {
   "cell_type": "markdown",
   "metadata": {
    "slideshow": {
     "slide_type": "fragment"
    }
   },
   "source": [
    "We can do a bit of a trick.  Let:\n",
    "\n",
    "$$u=\\ln x \\quad\\Longrightarrow\\quad u'={1\\over x}\\qquad\\mbox{and}\\qquad v'=1\\Longrightarrow v=x$$"
   ]
  },
  {
   "cell_type": "markdown",
   "metadata": {
    "slideshow": {
     "slide_type": "fragment"
    }
   },
   "source": [
    "Putting these into our equation:\n",
    "$$\\int \\ln x~dx\\quad=\\quad\\ln x~\\cdot x - \\int x~\\frac{1}{x}dx\\quad=\\quad x \\ln x - \\int 1 dx\\quad=\\quad x \\ln x - x + C$$"
   ]
  },
  {
   "cell_type": "code",
   "execution_count": null,
   "metadata": {
    "slideshow": {
     "slide_type": "subslide"
    }
   },
   "outputs": [],
   "source": [
    "x = sp.symbols('x')\n",
    "sp.integrate(sp.log(x),x)\n"
   ]
  },
  {
   "cell_type": "markdown",
   "metadata": {
    "slideshow": {
     "slide_type": "slide"
    }
   },
   "source": [
    "## Example 3: $\\int\\limits^{\\infty}_0 x^3~e^{-x}~dx$:"
   ]
  },
  {
   "cell_type": "markdown",
   "metadata": {
    "slideshow": {
     "slide_type": "fragment"
    }
   },
   "source": [
    "$$\\biggl(\\int u\\thinspace v'\\thinspace dx = [u\\thinspace v]-\\int v\\thinspace u'\\thinspace dx\\biggr)$$\n",
    "\n",
    "Choose\n",
    "$$u=x^3\\qquad\\mbox{and}\\qquad v'=e^{-x}$$\n",
    "\n",
    "so that:\n",
    "$$u'=3x^2\\qquad\\mbox{and}\\qquad v=-e^{-x}$$"
   ]
  },
  {
   "cell_type": "markdown",
   "metadata": {
    "slideshow": {
     "slide_type": "fragment"
    }
   },
   "source": [
    "$$\\int\\limits^{\\infty}_0 x^3~e^{-x}~dx=-\\biggr[x^3~e^{-x}\\biggl]^{\\infty}_0\n",
    "+\\int\\limits^{\\infty}_0 3x^2~e^{-x}~dx$$"
   ]
  },
  {
   "cell_type": "markdown",
   "metadata": {
    "slideshow": {
     "slide_type": "subslide"
    }
   },
   "source": [
    "Now apply integration by parts to the right-hand side:\n",
    "\n",
    "Choose\n",
    "$$u=3x^2\\qquad\\mbox{and}\\qquad v'=e^{-x}$$\n",
    "\n",
    "so that:\n",
    "$$u'=6x\\qquad\\mbox{and}\\qquad v=-e^{-x}$$\n",
    "\n",
    "$$\\int\\limits^{\\infty}_0 3x^2~e^{-x}~dx=-\\biggr[3x^2~e^{-x}\\biggl]^{\\infty}_0 +\\int\\limits^{\\infty}_0 6x~e^{-x}~dx$$ "
   ]
  },
  {
   "cell_type": "markdown",
   "metadata": {
    "slideshow": {
     "slide_type": "subslide"
    }
   },
   "source": [
    "And, once more:\n",
    "\n",
    "Choose\n",
    "$$u=6x\\qquad\\mbox{and}\\qquad v'=e^{-x}$$\n",
    "\n",
    "so that:\n",
    "$$u'=6\\qquad\\mbox{and}\\qquad v=-e^{-x}$$\n",
    "\n",
    "$$\\int\\limits^{\\infty}_0 6x~e^{-x}~dx =-\\biggr[6x~e^{-x}\\biggl]^{\\infty}_0 +\\int\\limits^{\\infty}_0 6~e^{-x}~dx$$\n",
    "\n",
    "$$\\Longrightarrow \\int\\limits^{\\infty}_0 6~e^{-x}~dx=\n",
    "-\\biggr[6~e^{-x}\\biggl]^{\\infty}_0=-6e^{-\\infty}+6e^0=6$$\n",
    "\n",
    "(Since $e^{-\\infty}=0$ and $e^0=1$)"
   ]
  },
  {
   "cell_type": "markdown",
   "metadata": {
    "slideshow": {
     "slide_type": "subslide"
    }
   },
   "source": [
    "The other terms all go to zero:\n",
    "\n",
    "$$-\\bigr[x^3~e^{-x}\\bigl]^{\\infty}_0 =-{\\infty}^3~e^{-\\infty} + 0 =0$$\n",
    "\n",
    "$$-\\bigr[3x^2~e^{-x}\\bigl]^{\\infty}_0 =-3{\\infty}^2~e^{-\\infty} + 0 =0$$\n",
    "\n",
    "So, to answer our original question:\n",
    "$$\\int\\limits^{\\infty}_0 x^3~e^{-x}~dx=6$$"
   ]
  },
  {
   "cell_type": "code",
   "execution_count": null,
   "metadata": {
    "slideshow": {
     "slide_type": "fragment"
    }
   },
   "outputs": [],
   "source": [
    "sp.integrate(x**3 * sp.exp(-x),(x,0,sp.oo))\n"
   ]
  },
  {
   "cell_type": "markdown",
   "metadata": {
    "slideshow": {
     "slide_type": "slide"
    }
   },
   "source": [
    "and in general:\n",
    "$$\\int\\limits^{\\infty}_0 x^n~e^{-x}~dx=n!$$"
   ]
  },
  {
   "cell_type": "markdown",
   "metadata": {
    "slideshow": {
     "slide_type": "slide"
    }
   },
   "source": [
    "## Example 4. Integrating Trig functions by parts.\n",
    "\n",
    "Recall that:\n",
    "$${d\\over dx}(\\sin x)=\\cos x$$\n",
    "\n",
    "$${d\\over dx}(\\cos x)=-\\sin x$$\n",
    "\n",
    "$$\\int\\limits^b_a~\\cos x\\;e^{-x}~dx = I$$"
   ]
  },
  {
   "cell_type": "markdown",
   "metadata": {
    "slideshow": {
     "slide_type": "subslide"
    }
   },
   "source": [
    "Choose\n",
    "$$u=\\cos x\\qquad\\mbox{and}\\qquad v'=e^{-x}$$\n",
    "\n",
    "so that:\n",
    "$$u'=-\\sin x\\qquad\\mbox{and}\\qquad v=-e^{-x}$$\n",
    "\n",
    "$$I =\\biggr[-\\cos x~\\; e^{-x}\\biggl]^b_a\n",
    "-\\int\\limits^b_a ~(-)\\sin x~(-)e^{-x}~dx$$"
   ]
  },
  {
   "cell_type": "markdown",
   "metadata": {
    "slideshow": {
     "slide_type": "subslide"
    }
   },
   "source": [
    "$$I =\\biggr[-\\cos x~\\; e^{-x}\\biggl]^b_a~~-~~\\int\\limits^b_a ~(-)\\sin x~(-)e^{-x}~dx$$\n",
    "\n",
    "Choose\n",
    "$$u=\\sin x\\qquad\\mbox{and}\\qquad v'=e^{-x}$$\n",
    "\n",
    "so that:\n",
    "$$u'=\\cos x\\qquad\\mbox{and}\\qquad v=-e^{-x}$$\n",
    "\n",
    "$$I =\\biggr[-\\cos x~\\;~e^{-x}\\biggl]^b_a~~-~~\\biggr[\\sin x~(-)e^{-x}\\biggl]^b_a ~~+~~\\int\\limits^b_a ~\\cos x~(-)e^{-x}~dx$$\n",
    "\n",
    "The last term is the integral we started with:\n",
    "$$\\Longrightarrow~~~2~\\int\\limits^b_a ~\\cos x~e^{-x}~dx~ =~\\biggr[\\sin x~\\; e^{-x}\\biggl]^b_a~~ -~~\\biggr[\\cos x~\\; e^{-x}\\biggl]^b_a$$"
   ]
  },
  {
   "cell_type": "markdown",
   "metadata": {
    "slideshow": {
     "slide_type": "slide"
    }
   },
   "source": [
    "## Integration Method 3: Partial Fractions\n",
    "\n",
    "**Example 7**\n",
    "\n",
    "$$\\int {dx \\over (2x+1)(x-5)}$$\n",
    "$${\\rm Let~~~~~} {1 \\over (2x+1)(x-5)}={A\\over (2x+1)} + {B\\over (x-5)}$$\n",
    "\n",
    "Multiply both sides by $(2x+1)(x-5)$ to get:\n",
    "$A(x-5)+B(2x+1)=1$ so $Ax-5A+B2x+B=1$\n",
    "\n",
    " Equate coefficients of $x$:\n",
    "$$A+2B=0~~~~{\\rm thus~~} A=-2B~~~~~~~~~~\\rm (A)$$\n",
    "Equate units (coefficients of $x^0$):\n",
    "$$-5A+B=1 ~~{\\rm~~so~from~(A):~~} 10B+B=1,~~B={1\\over 11}~,~~A=-{2\\over 11}$$"
   ]
  },
  {
   "cell_type": "markdown",
   "metadata": {
    "slideshow": {
     "slide_type": "subslide"
    }
   },
   "source": [
    "Thus:\n",
    "$$\\int {dx \\over (2x+1)(x-5)}=-\\int {2 dx\\over 11(2x+1)} + \\int {dx\\over 11(x-5)}$$\n",
    "Now use method of substitution on this: \n",
    "\n",
    "$u=2x+1$\n",
    "and $du/dx=2$ so $dx/du=1/2$\n",
    " \n",
    " \n",
    " $w=x-5$ so $dw/dx=1$ and $dx/dw=1$\n",
    "\n",
    "$$\\int {2 du \\over 2 \\times 11 \\times u} + \\int {dw\\over 11w}= -{\\ln u\\over 11} + {\\ln w \\over 11}$$\n",
    "\n",
    "$$=-{\\ln |2x+1|\\over 11} + {\\ln |x-5| \\over 11}$$"
   ]
  },
  {
   "cell_type": "code",
   "execution_count": null,
   "metadata": {
    "slideshow": {
     "slide_type": "subslide"
    }
   },
   "outputs": [],
   "source": [
    "sp.integrate(1/((2*x + 1)*(x - 5)),x) # answer seems different because of the arbitrary constant!\n"
   ]
  }
 ],
 "metadata": {
  "celltoolbar": "Slideshow",
  "kernelspec": {
   "display_name": "Python 3",
   "language": "python",
   "name": "python3"
  },
  "language_info": {
   "codemirror_mode": {
    "name": "ipython",
    "version": 3
   },
   "file_extension": ".py",
   "mimetype": "text/x-python",
   "name": "python",
   "nbconvert_exporter": "python",
   "pygments_lexer": "ipython3",
   "version": "3.8.5"
  }
 },
 "nbformat": 4,
 "nbformat_minor": 2
}
