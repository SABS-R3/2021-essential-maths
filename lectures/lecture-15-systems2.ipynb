{
 "cells": [
  {
   "cell_type": "markdown",
   "metadata": {
    "slideshow": {
     "slide_type": "slide"
    }
   },
   "source": [
    "# Lecture 15\n",
    "\n",
    "## Systems of Differential Equations II:\n",
    "\n",
    "### System Simplification"
   ]
  },
  {
   "cell_type": "code",
   "execution_count": null,
   "metadata": {
    "slideshow": {
     "slide_type": "skip"
    }
   },
   "outputs": [],
   "source": [
    "import numpy as np\n",
    "import sympy as sp\n",
    "import scipy.integrate\n",
    "sp.init_printing()\n",
    "##################################################\n",
    "##### Matplotlib boilerplate for consistency #####\n",
    "##################################################\n",
    "from ipywidgets import interact\n",
    "from ipywidgets import FloatSlider\n",
    "from matplotlib import pyplot as plt\n",
    "\n",
    "import cmath\n",
    "\n",
    "%matplotlib inline\n",
    "\n",
    "from IPython.display import set_matplotlib_formats\n",
    "set_matplotlib_formats('svg')\n",
    "\n",
    "global_fig_width = 8\n",
    "global_fig_height = global_fig_width / 1.61803399\n",
    "font_size = 12\n",
    "\n",
    "plt.rcParams['axes.axisbelow'] = True\n",
    "plt.rcParams['axes.edgecolor'] = '0.8'\n",
    "plt.rcParams['axes.grid'] = True\n",
    "plt.rcParams['axes.labelpad'] = 8\n",
    "plt.rcParams['axes.linewidth'] = 2\n",
    "plt.rcParams['axes.titlepad'] = 16.0\n",
    "plt.rcParams['axes.titlesize'] = font_size * 1.4\n",
    "plt.rcParams['figure.figsize'] = (global_fig_width, global_fig_height)\n",
    "plt.rcParams['font.sans-serif'] = ['Computer Modern Sans Serif', 'DejaVu Sans', 'sans-serif']\n",
    "plt.rcParams['font.size'] = font_size\n",
    "plt.rcParams['grid.color'] = '0.8'\n",
    "plt.rcParams['grid.linestyle'] = 'dashed'\n",
    "plt.rcParams['grid.linewidth'] = 2\n",
    "plt.rcParams['lines.dash_capstyle'] = 'round'\n",
    "plt.rcParams['lines.dashed_pattern'] = [1, 4]\n",
    "plt.rcParams['xtick.labelsize'] = font_size\n",
    "plt.rcParams['xtick.major.pad'] = 4\n",
    "plt.rcParams['xtick.major.size'] = 0\n",
    "plt.rcParams['ytick.labelsize'] = font_size\n",
    "plt.rcParams['ytick.major.pad'] = 4\n",
    "plt.rcParams['ytick.major.size'] = 0\n",
    "##################################################"
   ]
  },
  {
   "cell_type": "markdown",
   "metadata": {
    "slideshow": {
     "slide_type": "slide"
    }
   },
   "source": [
    "## Plan for this lecture\n",
    "Recap\n",
    "\n",
    "- So far we have looked at systems of **first order**, **linear** ODEs in **two dimensions**\n",
    "    - Are you comfortable with the words in bold?\n",
    "\n",
    "- These systems can be solved analytically\n",
    "    - 3 methods of solving systems of first order ODEs\n",
    "    - Diagonalisation extends to $N$-dimensional systems"
   ]
  },
  {
   "cell_type": "markdown",
   "metadata": {
    "slideshow": {
     "slide_type": "slide"
    }
   },
   "source": [
    "Plan\n",
    "\n",
    "- Aim to look at systems of **first order**, **nonlinear** ODEs in **more dimensions**\n",
    "- How we go about modelling a problem\n",
    "- Simplifying systems of ODEs \n",
    "    - Reducing number of parameters\n",
    "    - Reducing number of equations\n",
    "\n",
    "- Phase plane analysis"
   ]
  },
  {
   "cell_type": "markdown",
   "metadata": {
    "slideshow": {
     "slide_type": "slide"
    }
   },
   "source": [
    "## System simplification --- Rescaling\n",
    "\n",
    "\n",
    "This predator-prey model is in dimensional terms and contains 5 parameters.\n",
    "\n",
    "\\begin{eqnarray*}\n",
    "\\frac{{\\rm d}N}{{\\rm d}T} &=& rN\\left(1-\\frac{N}{K}\\right) - bNP,\\\\\n",
    "\\frac{{\\rm d}P}{{\\rm d}T} &=& ebNP - mP.\n",
    "\\end{eqnarray*}\n",
    "\n",
    "- $r$: prey intrinsic growth rate\n",
    "- $K$: prey carrying capacity (bound to logistic growth) \n",
    "- $b$: predation rate \n",
    "- $e$: conversion efficiency \n",
    "- $m$: per capita predator mortality rate"
   ]
  },
  {
   "cell_type": "markdown",
   "metadata": {
    "slideshow": {
     "slide_type": "subslide"
    }
   },
   "source": [
    "We substitute\n",
    "\n",
    "- $N=\\theta{n}$\n",
    "- $P=\\phi{p}$\n",
    "- $T=\\tau{t}$\n",
    "\n",
    "where $n,p,t$ are nondimensional, and the $\\theta$ is a typical value for $N$ etc.\n",
    "\n",
    "Note that $\\frac{{\\rm d}}{{\\rm d}T} = \\frac{{\\rm d}}{{\\rm d}t}\\frac{{\\rm d}t}{{\\rm d}T} = \\frac{1}{\\tau}  \\frac{{\\rm d}}{{\\rm d}t}.$"
   ]
  },
  {
   "cell_type": "markdown",
   "metadata": {
    "slideshow": {
     "slide_type": "subslide"
    }
   },
   "source": [
    "Original:\n",
    "\n",
    "\\begin{eqnarray*}\n",
    "\\frac{{\\rm dN}}{{\\rm dT}} &=& rN\\left(1-\\frac{N}{K}\\right) - bNP,\\\\\n",
    "\\frac{{\\rm dP}}{{\\rm dT}} &=& ebNP - mP.\n",
    "\\end{eqnarray*}\n",
    "\n",
    "\n",
    "Rescaled:\n",
    "\n",
    "\\begin{eqnarray*}\n",
    "\\frac{\\theta}{\\tau}\\frac{{\\rm d}n}{{\\rm d}t} &=& {\\theta}rn\\left(1-\\frac{{\\theta}n}{K}\\right) - bnp{\\theta}{\\phi},\\\\\n",
    "\\frac{\\phi}{\\tau}\\frac{{\\rm d}p}{{\\rm d}t} &=& ebnp{\\theta}{\\phi} - mp{\\phi}.\n",
    "\\end{eqnarray*}\n",
    "\n",
    "\n",
    "Note that $\\theta,$ $\\phi,$ and $\\tau$  are arbitrary values for\n",
    "scaling $N,$ $P,$ and $T$. "
   ]
  },
  {
   "cell_type": "markdown",
   "metadata": {
    "slideshow": {
     "slide_type": "subslide"
    }
   },
   "source": [
    "\n",
    "\\begin{eqnarray*}\n",
    "\\frac{{\\rm d}n}{{\\rm d}t} &=& \\tau\\left( rn\\left(1-\\frac{{\\theta}n}{K}\\right) - bnp{\\phi}\\right),\\\\\n",
    "\\frac{{\\rm d}p}{{\\rm d}t} &=& \\tau\\left( ebnp{\\theta} - mp\\right).\n",
    "\\end{eqnarray*}\n",
    "\n",
    "\n",
    "After rearranging we note that choosing $\\theta=K$ will remove the\n",
    "parameter $K$ from the equations.  Choosing $\\tau = 1/m$ (or $\\tau =\n",
    "1/r$) will remove a further parameter.\n",
    "\n",
    "\n",
    "\\begin{eqnarray*}\n",
    "\\dot{n} &=& \\left( \\frac{r}{m}n(1-n) - \\frac{b{\\phi}}{m}np\\right),\\\\\n",
    "\\dot{p} &=& \\left( \\frac{ebpK}{m}n - p\\right).\n",
    "\\end{eqnarray*}\n"
   ]
  },
  {
   "cell_type": "markdown",
   "metadata": {
    "slideshow": {
     "slide_type": "subslide"
    }
   },
   "source": [
    "$\\phi=m/b$ gives the two parameter system:\n",
    "\n",
    "\n",
    "\\begin{eqnarray*}\n",
    "\\dot{n} &=& \\left( \\frac{r}{m}n(1-n) - np\\right),\\\\\n",
    "\\dot{p} &=& \\left( \\frac{ebpK}{m}n - p\\right),\n",
    "\\end{eqnarray*}\n",
    "\n",
    "\n",
    "where we have shifted the groups of parameters to only two places.\n",
    "\n",
    "We could make it more obvious that there are only two \"tuning dials\" by writing it as:\n",
    "\n",
    "\n",
    "\\begin{eqnarray*}\n",
    "\\dot{n} &=&  v_1 n(1-n) - np,\\\\\n",
    "\\dot{p} &=&  p(v_2 n - 1),\n",
    "\\end{eqnarray*}\n"
   ]
  },
  {
   "cell_type": "markdown",
   "metadata": {
    "slideshow": {
     "slide_type": "slide"
    }
   },
   "source": [
    "## System simplification --- Conservation\n",
    "\n",
    "Consider a chemical system where a product is formed from a substrate\n",
    "via an intermediate complex involving an enzyme.\n",
    "$$\n",
    "S + E\n",
    "\\overset{k_1}{\\underset{k_{-1}}\\rightleftharpoons}\n",
    "C\n",
    "\\overset{k_2}\\rightarrow\n",
    "P + E\n",
    "$$\n",
    "\n",
    "This system can be written as a system of 4 ODEs for $s, e, c,\n",
    "p$ which describe the concentrations of $S, E, C$ and $P$.\n",
    "\\begin{eqnarray*}\n",
    "\\dot{s} &=& -k_1 se + k_{-1}c, \\\\\n",
    "\\dot{e} &=& -k_1 se + k_{-1}c + k_{2}c,\\\\\n",
    "\\dot{c} &=& k_1 se - k_{-1}c - k_{2}c, \\\\ \n",
    "\\dot{p} &=& k_{2}c.\n",
    "\\end{eqnarray*}\n",
    "\n",
    "However the enzyme is recycled: it is used in the complex and then\n",
    "released.  This means that \n",
    "$e + c = e_{tot}$ where $e_{tot}$ is constant."
   ]
  },
  {
   "cell_type": "markdown",
   "metadata": {
    "slideshow": {
     "slide_type": "subslide"
    }
   },
   "source": [
    "Making the substitution $e =  e_{tot} - c$ to eliminate $e$ we arrive at the 3 ODE\n",
    "system:\n",
    "\n",
    "\n",
    "\\begin{eqnarray}\n",
    "\\dot{s} &=& -k_1 s(e_{tot} - c) + k_{-1}c, \\\\\n",
    "\\dot{c} &=& k_1 s(e_{tot} - c) - k_{-1}c - k_{2}c,  \\label{eq:cdot}\\\\\n",
    "\\dot{p} &=& k_{2}c.\n",
    "\\end{eqnarray}\n"
   ]
  },
  {
   "cell_type": "markdown",
   "metadata": {
    "slideshow": {
     "slide_type": "slide"
    }
   },
   "source": [
    "## System simplification --- Quasi-steady state\n",
    "\n",
    "In the previous example it may be known that the rate of conversion to\n",
    "complex (from $k_1$ and $k_{-1}$) is much faster than the degradation\n",
    "of complex into product (rate $k_2$).\n",
    "\n",
    "If this is the case then we can assume that the concentration of $C$\n",
    "arrives at some level $c^*$ (a quasi-steady state) and then moves very\n",
    "slowly.\n",
    "\n",
    "Solve equation on previous slide for $\\dot{c}=0$:\n",
    "\n",
    "\\begin{eqnarray*}\n",
    "\\dot{c} &=& k_1 s(e_{tot} - c) - k_{-1}c - k_{2}c = 0, \\\\\n",
    "\\implies \n",
    "c^*&=&\\frac{k_1  e_{tot} s}{k_{-1} + k_2   + k_1 s},\n",
    "\\end{eqnarray*}\n",
    "which is **not a steady-state**: it moves slowly with $s$."
   ]
  },
  {
   "cell_type": "markdown",
   "metadata": {
    "slideshow": {
     "slide_type": "subslide"
    }
   },
   "source": [
    "Substituting this quasi-steady state into the remaining equations gives\n",
    "an **approximate** system of 2 ODEs:\n",
    "\n",
    "\n",
    "\\begin{eqnarray*}\n",
    "\\dot{s} &=& -\\frac{k_1 k_2 e_{tot} s}{ k_{-1} + k_2 + k_1 s}, \\\\\n",
    "\\dot{p} &=& \\frac{k_1 k_2 e_{tot} s}{ k_{-1} + k_2 + k_1 s}.\n",
    "\\end{eqnarray*}\n",
    "\n",
    "\n",
    "This means that we have used conservation and quasi-steady state to go\n",
    "from a 4-dimensional system $(s,e,c,p)$ to a two-dimensional approximation\n",
    "which captures some of the behaviour.\n",
    "\n",
    "Two dimensions are good because we can plot their behaviour on a phase\n",
    "plane diagram..."
   ]
  },
  {
   "cell_type": "markdown",
   "metadata": {
    "slideshow": {
     "slide_type": "slide"
    }
   },
   "source": [
    "## Phase planes and nullclines\n",
    "A system of **nonlinear** ODEs may have more than one  fixed\n",
    "point (or may have none).  Finding fixed points in two-dimensional\n",
    "systems is aided by **nullclines**.\n",
    "\n",
    "A $x$-nullcline is a line where $\\dot{x}=0$ and  a $y$-nullcline is a\n",
    "line where $\\dot{y}=0$. (These are straight lines in the linear case.)\n",
    "\n",
    "For example\n",
    "\n",
    "\n",
    "\\begin{eqnarray*}\n",
    "\\dot{x} &=& x(1-x) -xy,\\\\\n",
    "\\dot{y} &=& 2y\\left(1-\\frac{y}{2}\\right) - 3xy,\n",
    "\\end{eqnarray*}\n",
    "\n",
    "\n",
    "has $x$-nullclines at $x=0$ and $1-x-y=0$; and $y$-nullclines at $y=0$ and\n",
    "$2-3x-y=0$.\n",
    "\n",
    "Nullcline intersections give us the fixed points.  Nullclines can be\n",
    "annotated to give the direction (and magnitude) of the non-zero derivative."
   ]
  },
  {
   "cell_type": "code",
   "execution_count": null,
   "metadata": {
    "slideshow": {
     "slide_type": "skip"
    }
   },
   "outputs": [],
   "source": [
    "def plot_nullclines():\n",
    "    \n",
    "    plt.figure(figsize=(10,10))\n",
    "    \n",
    "    # plot nullclines\n",
    "    x = np.linspace(-0.1,1.1,24)\n",
    "    y = np.linspace(-0.1,2.1,24)\n",
    "    \n",
    "    plt.hlines(0,-1,15, color='#F39200', lw=4, label='y-nullcline 1')\n",
    "    plt.plot(x,1 - x, color='#0072bd', lw=4, label='x-nullcline 2')\n",
    "    plt.vlines(0,-1,15, color='#0072bd', lw=4, label='x-nullcline 1')\n",
    "    plt.plot(x,2 - 3*x, color='#F39200', lw=4, label='y-nullcline 2')\n",
    "\n",
    "    plt.xlim(-0.05,1.1)\n",
    "    plt.ylim(-0.05,2.1)\n",
    "    plt.xlabel('x')\n",
    "    plt.ylabel('y')"
   ]
  },
  {
   "cell_type": "code",
   "execution_count": null,
   "metadata": {
    "slideshow": {
     "slide_type": "subslide"
    }
   },
   "outputs": [],
   "source": [
    "plot_nullclines()"
   ]
  },
  {
   "cell_type": "code",
   "execution_count": null,
   "metadata": {
    "slideshow": {
     "slide_type": "skip"
    }
   },
   "outputs": [],
   "source": [
    "def dX_dt(X, t):\n",
    "    return np.array([ X[0]*(1. - X[0]) - X[0]*X[1],\n",
    "                     2.*X[1]*(1.-X[1]/2.) -3*X[0]*X[1]])\n",
    "\n",
    "def plot_phase_plane():\n",
    "    \n",
    "    plt.figure(figsize=(10,10))\n",
    "    \n",
    "    init_x = [1.05, 0.9, 0.7, 0.5, 0.5, 0.32, 0.1]\n",
    "    init_y = [1.0, 1.3, 1.6, 1.8, 0.2, 0.2, 0.2]\n",
    "    \n",
    "    plt.plot(init_x, init_y, 'g*', markersize=20)\n",
    "    \n",
    "    for v in zip(init_x,init_y):\n",
    "        X0 = v                              # starting point\n",
    "        X = scipy.integrate.odeint( dX_dt, X0, np.linspace(0,10,100))         # we don't need infodict here\n",
    "        plt.plot( X[:,0], X[:,1], lw=3, color='green')\n",
    "    \n",
    "    \n",
    "    \n",
    "    # plot nullclines\n",
    "    x = np.linspace(-0.1,1.1,24)\n",
    "    y = np.linspace(-0.1,2.1,24)\n",
    "    \n",
    "    plt.hlines(0,-1,15, color='#F39200', lw=4, label='y-nullcline 1')\n",
    "    plt.plot(x,1 - x, color='#0072bd', lw=4, label='x-nullcline 2')\n",
    "    plt.vlines(0,-1,15, color='#0072bd', lw=4, label='x-nullcline 1')\n",
    "    plt.plot(x,2 - 3*x, color='#F39200', lw=4, label='y-nullcline 2')\n",
    "\n",
    "    # quiverplot - define a grid and compute direction at each point\n",
    "    X , Y  = np.meshgrid(x, y)                  # create a grid\n",
    "    DX = X*(1-X) - X*Y                          # evaluate dx/dt\n",
    "    DY = 2*Y*(1 - Y/2.0) - 3*X*Y                # evaluate dy/dt               \n",
    "    M = (np.hypot(DX, DY))                      # norm growth rate \n",
    "    M[ M == 0] = 1.                             # avoid zero division errors \n",
    "\n",
    "    plt.quiver(X, Y, DX/M, DY/M, M)\n",
    "    plt.xlim(-0.05,1.1)\n",
    "    plt.ylim(-0.05,2.1)\n",
    "    plt.xlabel('x')\n",
    "    plt.ylabel('y')"
   ]
  },
  {
   "cell_type": "code",
   "execution_count": null,
   "metadata": {
    "slideshow": {
     "slide_type": "slide"
    }
   },
   "outputs": [],
   "source": [
    "plot_phase_plane()"
   ]
  },
  {
   "cell_type": "markdown",
   "metadata": {
    "slideshow": {
     "slide_type": "slide"
    }
   },
   "source": [
    "## Summary\n",
    "\n",
    "- Simplification\n",
    "    - Rescaling to dimensionless quantities\n",
    "    - Conservation\n",
    "    - Quasi-steady state approximation\n",
    "  \n",
    "- Nullclines for finding steady states and phase flow"
   ]
  }
 ],
 "metadata": {
  "celltoolbar": "Slideshow",
  "kernelspec": {
   "display_name": "Python 3",
   "language": "python",
   "name": "python3"
  },
  "language_info": {
   "codemirror_mode": {
    "name": "ipython",
    "version": 3
   },
   "file_extension": ".py",
   "mimetype": "text/x-python",
   "name": "python",
   "nbconvert_exporter": "python",
   "pygments_lexer": "ipython3",
   "version": "3.8.5"
  }
 },
 "nbformat": 4,
 "nbformat_minor": 2
}
