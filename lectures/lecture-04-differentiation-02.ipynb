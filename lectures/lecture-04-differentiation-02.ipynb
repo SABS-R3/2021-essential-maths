{
 "cells": [
  {
   "cell_type": "markdown",
   "metadata": {
    "slideshow": {
     "slide_type": "slide"
    }
   },
   "source": [
    "# Lecture 4\n",
    "\n",
    "## Differentiation II:\n",
    "\n",
    "### Product, Chain and Quotient Rules"
   ]
  },
  {
   "cell_type": "code",
   "execution_count": null,
   "metadata": {
    "scrolled": false,
    "slideshow": {
     "slide_type": "skip"
    }
   },
   "outputs": [],
   "source": [
    "import numpy as np\n",
    "import sympy as sp\n",
    "sp.init_printing()\n",
    "\n",
    "##################################################\n",
    "##### Matplotlib boilerplate for consistency #####\n",
    "##################################################\n",
    "from ipywidgets import interact\n",
    "from ipywidgets import FloatSlider\n",
    "from matplotlib import pyplot as plt\n",
    "\n",
    "\n",
    "%matplotlib inline\n",
    "\n",
    "from IPython.display import set_matplotlib_formats\n",
    "set_matplotlib_formats('svg')\n",
    "\n",
    "global_fig_width = 10\n",
    "global_fig_height = global_fig_width / 1.61803399\n",
    "font_size = 12\n",
    "\n",
    "plt.rcParams['axes.axisbelow'] = True\n",
    "plt.rcParams['axes.edgecolor'] = '0.8'\n",
    "plt.rcParams['axes.grid'] = True\n",
    "plt.rcParams['axes.labelpad'] = 8\n",
    "plt.rcParams['axes.linewidth'] = 2\n",
    "plt.rcParams['axes.titlepad'] = 16.0\n",
    "plt.rcParams['axes.titlesize'] = font_size * 1.4\n",
    "plt.rcParams['figure.figsize'] = (global_fig_width, global_fig_height)\n",
    "plt.rcParams['font.sans-serif'] = ['Computer Modern Sans Serif', 'DejaVu Sans', 'sans-serif']\n",
    "plt.rcParams['font.size'] = font_size\n",
    "plt.rcParams['grid.color'] = '0.8'\n",
    "plt.rcParams['grid.linestyle'] = 'dashed'\n",
    "plt.rcParams['grid.linewidth'] = 2\n",
    "plt.rcParams['lines.dash_capstyle'] = 'round'\n",
    "plt.rcParams['lines.dashed_pattern'] = [1, 4]\n",
    "plt.rcParams['xtick.labelsize'] = font_size\n",
    "plt.rcParams['xtick.major.pad'] = 4\n",
    "plt.rcParams['xtick.major.size'] = 0\n",
    "plt.rcParams['ytick.labelsize'] = font_size\n",
    "plt.rcParams['ytick.major.pad'] = 4\n",
    "plt.rcParams['ytick.major.size'] = 0\n",
    "##################################################"
   ]
  },
  {
   "cell_type": "markdown",
   "metadata": {
    "slideshow": {
     "slide_type": "slide"
    }
   },
   "source": [
    "## Wake Up Exercise\n",
    "When $y = ax^n$, $y' = a n x^{n-1}$. So find $y'(x)$, when:\n",
    "\n",
    "(a) $y = 6$\n",
    "\n",
    "(b) $y = x$\n",
    "\n",
    "(c) $y = 13x -1$\n",
    "\n",
    "(d) $y = \\sqrt{x^7}$\n",
    "\n",
    "(e) $y = -\\frac{2}{x}$\n",
    "\n"
   ]
  },
  {
   "cell_type": "markdown",
   "metadata": {
    "slideshow": {
     "slide_type": "slide"
    }
   },
   "source": [
    "## Linear approximation and the derivative\n",
    "\n",
    "By definition, the derivative of a function $f(x)$ is\n",
    "\n",
    "$f'(x) = \\lim_{h \\rightarrow 0} \\frac{f(x+h) - f(x)}{h}$\n",
    "\n",
    "This means that for small $h$, this expression approximates the derivative. By rearranging this, we have\n",
    "\n",
    "$f(x + h) \\approx f(x) + h f'(x)$\n",
    "\n",
    "In other words, $f(x+h)$ can be approximated by starting at $f(x)$ and moving a distance $h$ along the tangent $f'(x)$. "
   ]
  },
  {
   "cell_type": "markdown",
   "metadata": {
    "slideshow": {
     "slide_type": "subslide"
    }
   },
   "source": [
    "### Example\n",
    "Estimate $\\sqrt{5218}$\n",
    "\n",
    "To do this, we first need an $f(x)$ that is easy to calculate, and close to 5218. For this we can take that $70^2 = 4900$.\n",
    "\n",
    "\n",
    "To calculate the approximation, we need $\\;f'(x)\\;$, where $\\;f(x) = \\sqrt{x}\\;$. \n",
    "\n",
    "$$f'(x) = \\frac{1}{2 \\sqrt{x}}$$"
   ]
  },
  {
   "cell_type": "markdown",
   "metadata": {
    "slideshow": {
     "slide_type": "subslide"
    }
   },
   "source": [
    "$$f'(x) = \\frac{1}{2 \\sqrt{x}}$$\n",
    "\n",
    "Since 5218 = 4900 + 318, we can set $x = 4900$ and $h = 318$. \n",
    "\n",
    "Using the approximation, we have:\n",
    "\n",
    "$f(5218) \\approx f(4900) + 318 \\times f'(4900)$\n",
    "\n",
    "$f(5218) \\approx 70 + 318 \\times \\frac{1}{140} \\approx 72.27$\n",
    "\n",
    "$\\sqrt{5218} = 72.2357252$ - not a bad appriximation!"
   ]
  },
  {
   "cell_type": "markdown",
   "metadata": {
    "slideshow": {
     "slide_type": "slide"
    }
   },
   "source": [
    "## Standard derivatives\n",
    "It's useful to know the derivatives of all the standard functions, and some basic rules. \n",
    "\n",
    "$\\frac{d}{dx} (x^n) = n x^{n-1}$\n",
    "\n",
    "$\\frac{d}{dx} (\\sin x) = \\cos x$\n",
    "\n",
    "$\\frac{d}{dx} (\\cos x) = -\\sin x$\n",
    "\n",
    "$\\frac{d}{dx} (e^x) = e^x$\n",
    "\n",
    "To understand the derivative of sin and cos, consider their graphs, and when they are changing positively (increasing), negatively (decreasing) or not at all (no rate of change)."
   ]
  },
  {
   "cell_type": "code",
   "execution_count": null,
   "metadata": {
    "scrolled": false,
    "slideshow": {
     "slide_type": "subslide"
    }
   },
   "outputs": [],
   "source": [
    "x = np.linspace(0, 8, 100)\n",
    "y_1 = np.sin(x)\n",
    "y_2 = np.cos(x)\n",
    "plt.plot(x, y_1, label = 'sin(x)')\n",
    "plt.plot(x, y_2, label = 'cos(x)')\n",
    "plt.legend()"
   ]
  },
  {
   "cell_type": "markdown",
   "metadata": {
    "slideshow": {
     "slide_type": "slide"
    }
   },
   "source": [
    "## Other Differentiation Rules"
   ]
  },
  {
   "cell_type": "markdown",
   "metadata": {
    "slideshow": {
     "slide_type": "slide"
    }
   },
   "source": [
    "## Differentiation of sums, and scalar multiples:\n",
    "\n",
    "$(f(x) \\pm g(x))' = f'(x) \\pm g'(x)$\n",
    "\n",
    "$(a f(x))' = a f'(x) $"
   ]
  },
  {
   "cell_type": "markdown",
   "metadata": {
    "slideshow": {
     "slide_type": "subslide"
    }
   },
   "source": [
    "## Differentiation of products\n",
    "\n",
    "While differentiating sums, and scalar multiples is straightforward, differentiating products is more complex\n",
    "\n",
    "$(f(x) g(x) )' \\neq f'(x) g'(x)$\n",
    "\n",
    "$(f(x) g(x) )' = f'(x) g(x) + g'(x) f(x)$"
   ]
  },
  {
   "cell_type": "markdown",
   "metadata": {
    "slideshow": {
     "slide_type": "subslide"
    }
   },
   "source": [
    "### Example\n",
    "To illustrate that this works, consider $y = (2x^3 - 1)(3x^3 + 2x)$\n",
    "\n",
    "If we expand this out, we have that $y = 6x^6 + 4x^4 - 3x^3 - 2x$\n",
    "\n",
    "From this, clearly, $y' = 36 x^5 + 16x^3 - 9 x^2 - 2$"
   ]
  },
  {
   "cell_type": "markdown",
   "metadata": {
    "slideshow": {
     "slide_type": "subslide"
    }
   },
   "source": [
    "To use the product rule, instead we say $y = f \\times g$, where $f = 2x^3 - 1$, and $g = 3x^3 + 2x$. Therefore\n",
    "\n",
    "$f'(x) = 6x^2$\n",
    "\n",
    "$g'(x) = 9x^2 + 2$\n",
    "\n",
    "$y' = f'g + g'f = 6x^2 (3x^3 + 2x) + (9x^2 + 2)(2x^3 - 1)$\n",
    "\n",
    "$y' = 18x^5 + 12x^3 + 18x^5 + 4x^3 - 9x^2 - 2 = 36x^5 + 16x^3 - 9x^2 - 2$\n",
    "\n",
    "So both rules produce the same result. While for simple examples the product rule requires more work, as functions get more complex it saves a lot of time. "
   ]
  },
  {
   "cell_type": "markdown",
   "metadata": {
    "slideshow": {
     "slide_type": "slide"
    }
   },
   "source": [
    "## Differentiating a function of a function - The Chain Rule\n",
    "\n",
    "One of the most useful rules is differentiating a function that has another function inside it $y = f(g(x))$. For this we use the chain rule:\n",
    "\n",
    "$y = f(g(x))$\n",
    "\n",
    "$y'(x) = f'(g(x))\\; g'(x) = \\frac{df}{dg} \\frac{dg}{dx}$\n"
   ]
  },
  {
   "cell_type": "markdown",
   "metadata": {
    "slideshow": {
     "slide_type": "subslide"
    }
   },
   "source": [
    "### Example 1: $y = (5x^2 + 2)^4$\n",
    "We can write this as $y = g^4$, where $g = 5x^2 + 2$. Given this, we have that\n",
    "\n",
    "$\\frac{dy}{dg} = 4g^3 = 4(5x^2 + 2)^3$\n",
    "\n",
    "$\\frac{dg}{dx} = 10x$\n",
    "\n",
    "This means that\n",
    "\n",
    "$\\frac{dy}{dx} = \\frac{dy}{dg} \\frac{dg}{dx} = 4 (5x^2 + 2)^3 10 x = 40 x (5x^3 + 2)^3$\n",
    "\n",
    "This extends infinitely to nested functions, meaning\n",
    "$\\frac{d}{dx}(a(b(c)) = \\frac{d a}{d b} \\frac{d}{dx} (b(c)) = \\frac{d a}{db} \\frac{d b}{dc}\\frac{dc}{dx}$"
   ]
  },
  {
   "cell_type": "markdown",
   "metadata": {
    "slideshow": {
     "slide_type": "slide"
    }
   },
   "source": [
    "## Differentiating the ratio of two functions - The Quotient Rule\n",
    "If $y(x) = \\frac{f(x)}{g(x)}$, then by using the product rule, and setting $h(x) = (g(x))^{-1}$, we can show that\n",
    "\n",
    "$y'(x) = \\frac{f'g - g'f}{g^2}$"
   ]
  },
  {
   "cell_type": "markdown",
   "metadata": {
    "slideshow": {
     "slide_type": "subslide"
    }
   },
   "source": [
    "### Example\n",
    "$y = \\frac{3x-1}{4x + 2}$\n",
    "\n",
    "$f = 3x - 1, \\rightarrow f' = 3$\n",
    "\n",
    "$g = 4x + 2, \\rightarrow g' = 4$\n",
    "\n",
    "$y' = \\frac{f'g - g'f}{g^2} = \\frac{3(4x+2) - 4(3x-1)}{(4x+2)^2}$\n",
    "$y' = \\frac{12x + 6 - 12 x + 4}{(4x+2)^2} = \\frac{10}{(4x+2)^2}$"
   ]
  },
  {
   "cell_type": "markdown",
   "metadata": {
    "slideshow": {
     "slide_type": "slide"
    }
   },
   "source": [
    "## Differentiating inverses - implicit differentiation\n",
    "For any function $y = f(x)$, with a well defined inverse $f^{-1}(x)$ (not to be confused with $(f(x))^{-1})$), we have by definition that\n",
    "\n",
    "$x = f^{-1}(f(x)) = f^{-1}(y)$.\n",
    "\n",
    "This means that we can apply the chain rule\n",
    "\n",
    "$\\frac{d}{dx}(x) = \\frac{d}{dx}(f^{-1}(y)) = \\frac{d}{dy}(f^{-1}(y)) \\frac{dy}{dx}$\n",
    "\n",
    "But since $\\frac{d}{dx}(x) = 1$\n",
    "\n",
    "$\\frac{d}{dy}(f^{-1}(y)) = \\frac{1}{\\frac{dy}{dx}}$"
   ]
  },
  {
   "cell_type": "markdown",
   "metadata": {
    "slideshow": {
     "slide_type": "subslide"
    }
   },
   "source": [
    "### Example:  $y = ln(x)$\n",
    "If $y = ln(x)$, this means that $f^{-1}(y) = e^y = x$\n",
    "\n",
    "By definition ($f^{-1}(y))' = e^y$, as $e^y$ doesn't change under differentiation. This means that\n",
    "\n",
    "$\\frac{d}{dx}(ln(x)) = \\frac{1}{\\frac{d}{dy}(f^{-1}(y))} = \\frac{1}{e^y}$\n",
    "\n",
    "But since $y = ln(x)$:\n",
    "\n",
    "$\\frac{d}{dx}(ln(x)) = \\frac{1}{e^{ln(x)}} = \\frac{1}{x}$"
   ]
  },
  {
   "cell_type": "markdown",
   "metadata": {
    "slideshow": {
     "slide_type": "slide"
    }
   },
   "source": [
    "### Example - Differentiating using sympy. \n",
    "\n",
    "In Python, there is a special package for calculating derivatives symbolically, called sympy. \n",
    "\n",
    "This can quickly and easily calculate derivatives (as well as do all sorts of other analytic calculations). "
   ]
  },
  {
   "cell_type": "code",
   "execution_count": null,
   "metadata": {
    "scrolled": false,
    "slideshow": {
     "slide_type": "subslide"
    }
   },
   "outputs": [],
   "source": [
    "import sympy as sp\n",
    "  \n",
    "x = sp.symbols('x') #This creates a variable x, which is symbolically represented as the string x.\n",
    "\n",
    "# Calculate the derivative of x^2\n",
    "sp.diff(x**2, x)"
   ]
  },
  {
   "cell_type": "code",
   "execution_count": null,
   "metadata": {
    "scrolled": false,
    "slideshow": {
     "slide_type": "fragment"
    }
   },
   "outputs": [],
   "source": [
    "sp.diff(sp.cos(x), x)"
   ]
  },
  {
   "cell_type": "code",
   "execution_count": null,
   "metadata": {
    "scrolled": false,
    "slideshow": {
     "slide_type": "fragment"
    }
   },
   "outputs": [],
   "source": [
    "f = (x+1)**3 * sp.cos(x**2 - 5)\n",
    "sp.diff(f,x) "
   ]
  },
  {
   "cell_type": "code",
   "execution_count": null,
   "metadata": {
    "scrolled": false,
    "slideshow": {
     "slide_type": "subslide"
    }
   },
   "outputs": [],
   "source": [
    "f = (x+1)**3 * (x-2)**2 * (x**2 + 4*x + 1)**4\n",
    "sp.diff(f, x)"
   ]
  },
  {
   "cell_type": "code",
   "execution_count": null,
   "metadata": {
    "scrolled": true,
    "slideshow": {
     "slide_type": "fragment"
    }
   },
   "outputs": [],
   "source": [
    "sp.expand(sp.diff(f, x)) # expand out in polynomial form"
   ]
  },
  {
   "cell_type": "markdown",
   "metadata": {
    "slideshow": {
     "slide_type": "-"
    }
   },
   "source": [
    "You can look at the documentation for Sympy to see many other possibilities (e.g. we will use Sympy to do symbolic integration later on in this course)\n",
    "    \n",
    "- https://docs.sympy.org/latest/index.html\n",
    "\n",
    "Try out Sympy to verify your pen & paper answers to the problem sheets"
   ]
  }
 ],
 "metadata": {
  "kernelspec": {
   "display_name": "Python 3",
   "language": "python",
   "name": "python3"
  },
  "language_info": {
   "codemirror_mode": {
    "name": "ipython",
    "version": 3
   },
   "file_extension": ".py",
   "mimetype": "text/x-python",
   "name": "python",
   "nbconvert_exporter": "python",
   "pygments_lexer": "ipython3",
   "version": "3.8.5"
  }
 },
 "nbformat": 4,
 "nbformat_minor": 2
}
