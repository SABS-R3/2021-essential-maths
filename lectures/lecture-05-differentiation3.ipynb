{
 "cells": [
  {
   "cell_type": "markdown",
   "metadata": {
    "slideshow": {
     "slide_type": "slide"
    }
   },
   "source": [
    "# Lecture 5\n",
    "\n",
    "## Differentiation III:\n",
    "\n",
    "### Exponentials and Partial Differentiation"
   ]
  },
  {
   "cell_type": "code",
   "execution_count": null,
   "metadata": {
    "slideshow": {
     "slide_type": "skip"
    }
   },
   "outputs": [],
   "source": [
    "import numpy as np\n",
    "import sympy as sp\n",
    "sp.init_printing()\n",
    "\n",
    "##################################################\n",
    "##### Matplotlib boilerplate for consistency #####\n",
    "##################################################\n",
    "from ipywidgets import interact\n",
    "from ipywidgets import FloatSlider\n",
    "from matplotlib import pyplot as plt\n",
    "\n",
    "\n",
    "%matplotlib inline\n",
    "\n",
    "from IPython.display import set_matplotlib_formats\n",
    "set_matplotlib_formats('svg')\n",
    "\n",
    "global_fig_width = 10\n",
    "global_fig_height = global_fig_width / 1.61803399\n",
    "font_size = 12\n",
    "\n",
    "plt.rcParams['axes.axisbelow'] = True\n",
    "plt.rcParams['axes.edgecolor'] = '0.8'\n",
    "plt.rcParams['axes.grid'] = True\n",
    "plt.rcParams['axes.labelpad'] = 8\n",
    "plt.rcParams['axes.linewidth'] = 2\n",
    "plt.rcParams['axes.titlepad'] = 16.0\n",
    "plt.rcParams['axes.titlesize'] = font_size * 1.4\n",
    "plt.rcParams['figure.figsize'] = (global_fig_width, global_fig_height)\n",
    "plt.rcParams['font.sans-serif'] = ['Computer Modern Sans Serif', 'DejaVu Sans', 'sans-serif']\n",
    "plt.rcParams['font.size'] = font_size\n",
    "plt.rcParams['grid.color'] = '0.8'\n",
    "plt.rcParams['grid.linestyle'] = 'dashed'\n",
    "plt.rcParams['grid.linewidth'] = 2\n",
    "plt.rcParams['lines.dash_capstyle'] = 'round'\n",
    "plt.rcParams['lines.dashed_pattern'] = [1, 4]\n",
    "plt.rcParams['xtick.labelsize'] = font_size\n",
    "plt.rcParams['xtick.major.pad'] = 4\n",
    "plt.rcParams['xtick.major.size'] = 0\n",
    "plt.rcParams['ytick.labelsize'] = font_size\n",
    "plt.rcParams['ytick.major.pad'] = 4\n",
    "plt.rcParams['ytick.major.size'] = 0\n",
    "##################################################"
   ]
  },
  {
   "cell_type": "markdown",
   "metadata": {
    "slideshow": {
     "slide_type": "slide"
    }
   },
   "source": [
    "## Wake Up Exercise\n",
    "\n",
    "Find $\\displaystyle y' = \\frac{{\\rm d}y}{{\\rm d}x}$ when $y$ is given by:\n",
    "\n",
    "1. $y=5x^2$\n",
    "2. $y=\\root 4\\of x$\n",
    "3. $y=x+{1\\over\\sqrt{x^3}}$\n",
    "4. $y=\\sqrt{6x^4+2}$\n",
    "5. $y={x\\over 3x+2}$\n",
    "6. $y=x^2\\sin x$"
   ]
  },
  {
   "cell_type": "markdown",
   "metadata": {
    "slideshow": {
     "slide_type": "slide"
    }
   },
   "source": [
    "## Examples of applying chain rule to the exponential function.\n",
    "\n",
    "1. $y=e^{-ax}$. Let $u=-ax\\Rightarrow\\frac{{\\rm d}u}{{\\rm d}x}=-a$. Thus $y=e^u$ and\n",
    "\n",
    "$$\\frac{{\\rm d}y}{{\\rm d}u}=e^u~~\\Rightarrow~~\\frac{{\\rm d}y}{{\\rm d}x}=\\frac{{\\rm d}y}{{\\rm d}u}\\times\\frac{{\\rm d}u}{{\\rm d}x}=e^u\\times \n",
    "(-a)=-ae^{-ax}.$$"
   ]
  },
  {
   "cell_type": "markdown",
   "metadata": {
    "slideshow": {
     "slide_type": "fragment"
    }
   },
   "source": [
    "2. $\\displaystyle y = e^{x^2}$. Then, letting $u = x^2$:\n",
    "\n",
    "$$\\frac{{\\rm d}}{{\\rm d}x}e^{x^2}=\\frac{{\\rm d}y}{{\\rm d}x}=\\frac{{\\rm d}y}{{\\rm d}u}\\times\\frac{{\\rm d}u}{{\\rm d}x}=e^u\\cdot 2x = \n",
    "e^{x^2}\\cdot 2x.$$"
   ]
  },
  {
   "cell_type": "markdown",
   "metadata": {
    "slideshow": {
     "slide_type": "fragment"
    }
   },
   "source": [
    "An important generalization: \n",
    "\n",
    "$\\frac{{\\rm d}}{{\\rm d}x}e^{f(x)}=e^{f(x)}f'(x)$ for any function $f(x)$."
   ]
  },
  {
   "cell_type": "markdown",
   "metadata": {
    "slideshow": {
     "slide_type": "slide"
    }
   },
   "source": [
    "## Example with the natural logarithm.\n",
    "\n",
    "1. $y=\\ln(a-x)^2=2\\ln(a-x)=2\\ln u$. Let $u=(a-x)$:\n",
    "\n",
    "$$\\Rightarrow {{\\rm d}u\\over {\\rm d}x}=-1~~{\\rm and~~~~~}{{\\rm d}y\\over {\\rm d}u}={2\\over u}~~~\n",
    "{\\rm Thus~~~~}{{\\rm d}y\\over {\\rm d}x}={2\\over u}\\times (-1)={-2\\over a-x}$$"
   ]
  },
  {
   "cell_type": "markdown",
   "metadata": {
    "slideshow": {
     "slide_type": "fragment"
    }
   },
   "source": [
    "This also generalises:\n",
    "\n",
    "$$\\frac{{\\rm d}}{{\\rm d}x}\\ln(f(x)) = {f'(x)\\over f(x)}$$"
   ]
  },
  {
   "cell_type": "markdown",
   "metadata": {
    "slideshow": {
     "slide_type": "slide"
    }
   },
   "source": [
    "## The Derivative of $a^x$:\n",
    "\n",
    "By the properties of logarithms and indices we have\n",
    "$\\displaystyle a^x = \\left({e^{\\ln a}}\\right)^x=e^{\\left({x\\cdot\\ln a}\\right)}$.\n",
    "\n",
    "Thus, as we saw above we have:\n",
    "\n",
    "$$\\frac{{\\rm d}}{{\\rm d}x}a^x\n",
    "   = \\frac{{\\rm d}}{{\\rm d}x}e^{\\left({x\\cdot\\ln a}\\right)}\n",
    "   = e^{\\left({x\\cdot\\ln a}\\right)}\\frac{{\\rm d}}{{\\rm d}x}{\\left({x\\cdot\\ln a}\\right)}\n",
    "   =a^x\\cdot\\ln a$$"
   ]
  },
  {
   "cell_type": "markdown",
   "metadata": {
    "slideshow": {
     "slide_type": "fragment"
    }
   },
   "source": [
    "Similarly, in general:\n",
    "\n",
    "$$\\frac{{\\rm d}}{{\\rm d}x}a^{f(x)} = a^{f(x)}\\cdot \\ln a\\cdot f'(x)$$"
   ]
  },
  {
   "cell_type": "markdown",
   "metadata": {
    "slideshow": {
     "slide_type": "slide"
    }
   },
   "source": [
    "## Sympy Example\n",
    "\n",
    "Lets try and use Sympy to prove the rule:\n",
    "$$\\frac{{\\rm d}}{{\\rm d}x}a^{f(x)} = a^{f(x)}\\cdot \\ln a\\cdot f'(x)$$"
   ]
  },
  {
   "cell_type": "code",
   "execution_count": null,
   "metadata": {
    "slideshow": {
     "slide_type": "fragment"
    }
   },
   "outputs": [],
   "source": [
    "x, a = sp.symbols('x a') # declare the variables x and a\n",
    "f = sp.Function('f')     # declare a function dependent on another variable\n",
    "sp.diff(a**f(x),x)       # write the expression we wish to evaluate"
   ]
  },
  {
   "cell_type": "markdown",
   "metadata": {
    "slideshow": {
     "slide_type": "slide"
    }
   },
   "source": [
    "## The Derivative of $\\log_a x\\,\\,$:\n",
    "\n",
    "Recall the conversion formula $\\displaystyle \\log_a x = {{\\ln x}\\over {\\ln a}}$\n",
    "and note that $\\ln a$ is a constant.  Thus:\n",
    "\n",
    "$$\\frac{{\\rm d}}{{\\rm d}x}\\log_a x\n",
    "  = \\frac{{\\rm d}}{{\\rm d}x}\\left({1\\over{\\ln a}}\\cdot\\ln x\\right)\n",
    "  = \\left({1\\over{\\ln a}}\\right)\\cdot\\frac{{\\rm d}}{{\\rm d}x}\\ln x\n",
    "  = \\left({1\\over{\\ln a}}\\right)\\cdot{1\\over {x}}\n",
    "  = {1\\over{x\\cdot\\ln a}}$$"
   ]
  },
  {
   "cell_type": "markdown",
   "metadata": {
    "slideshow": {
     "slide_type": "fragment"
    }
   },
   "source": [
    "In general:\n",
    "\n",
    "$$\\displaystyle \\frac{{\\rm d}}{{\\rm d}x}\\log_a f(x) = {{f'(x)} \\over {f(x){(\\ln a)}}}$$"
   ]
  },
  {
   "cell_type": "markdown",
   "metadata": {
    "slideshow": {
     "slide_type": "slide"
    }
   },
   "source": [
    "## Sympy Example\n",
    "\n",
    "Lets try and use Sympy again to prove the rule:\n",
    "$$\\frac{{\\rm d}}{{\\rm d}x}\\log_a f(x) = {{f'(x)} \\over {f(x){(\\ln a)}}}$$"
   ]
  },
  {
   "cell_type": "code",
   "execution_count": null,
   "metadata": {
    "slideshow": {
     "slide_type": "fragment"
    }
   },
   "outputs": [],
   "source": [
    "sp.diff(sp.log(f(x),a),x)"
   ]
  },
  {
   "cell_type": "markdown",
   "metadata": {
    "slideshow": {
     "slide_type": "slide"
    }
   },
   "source": [
    "## Further examples:\n",
    "\n",
    "1.  Product Rule:  Let $\\displaystyle y = x^2\\,e^x$.  Then:\n",
    "\n",
    "$${{dy\\over dx}}={d\\over dx}x^2e^x={d\\over dx}x^2\\cdot e^x+x^2\\cdot{d\\over dx}e^x = (2x + x^2)e^x$$"
   ]
  },
  {
   "cell_type": "markdown",
   "metadata": {
    "slideshow": {
     "slide_type": "subslide"
    }
   },
   "source": [
    "2.  Quotient Rule:  Let $\\displaystyle y = {{e^x}\\over x}$.  Then:\n",
    "\n",
    "$${{dy\\over dx}}={{{{d\\over dx}e^x}\\cdot x - e^x\\cdot {d\\over dx}x}\\over {x^2}}={{e^x\\cdot x - e^x\\cdot 1\\over {x^2}}}={{x - 1}\\over x^2}e^x$$"
   ]
  },
  {
   "cell_type": "markdown",
   "metadata": {
    "slideshow": {
     "slide_type": "subslide"
    }
   },
   "source": [
    "3. Chain Rule: $\\displaystyle y = e^{x^2}$.  Then, letting $f(x) = x^2$:\n",
    "\n",
    "$$\\frac{{\\rm d}}{{\\rm d}x}e^{x^2} = e^{f(x)}f'(x) = e^{x^2}\\cdot 2x$$"
   ]
  },
  {
   "cell_type": "markdown",
   "metadata": {
    "slideshow": {
     "slide_type": "subslide"
    }
   },
   "source": [
    "4. $\\displaystyle y=\\ln (x^2 + 1)$.  Then, letting $f(x) = x^2+1$:\n",
    "\n",
    "$$\\frac{{\\rm d}}{{\\rm d}x}\\ln(x^2+1) = {f'(x)\\over f(x)} = {2x\\over {x^2+1}}$$"
   ]
  },
  {
   "cell_type": "markdown",
   "metadata": {
    "slideshow": {
     "slide_type": "subslide"
    }
   },
   "source": [
    "5. $\\displaystyle {{\\rm d}\\over {\\rm d}x}2^{x^3}=2^{x^3}\\cdot\\ln 2\\cdot 3x^2$"
   ]
  },
  {
   "cell_type": "markdown",
   "metadata": {
    "slideshow": {
     "slide_type": "subslide"
    }
   },
   "source": [
    "6. $\\displaystyle {{\\rm d}\\over {\\rm d}x}10^{x^2+1}=10^{x^2+1}\\cdot\\ln 10\\cdot 2x$"
   ]
  },
  {
   "cell_type": "markdown",
   "metadata": {
    "slideshow": {
     "slide_type": "subslide"
    }
   },
   "source": [
    "7. $\\displaystyle \\frac{{\\rm d}}{{\\rm d}x}\\log_{10}(7x+5)={7\\over {(7x+5)\\cdot \\ln10}}$"
   ]
  },
  {
   "cell_type": "markdown",
   "metadata": {
    "slideshow": {
     "slide_type": "subslide"
    }
   },
   "source": [
    "8. $\\displaystyle \\frac{{\\rm d}}{{\\rm d}x}\\log_2(3^x+x^4)={{3^x\\cdot\\ln3 + 4x^3}\\over{\\ln 2\\cdot(3^x+x^4)}}$"
   ]
  },
  {
   "cell_type": "markdown",
   "metadata": {
    "slideshow": {
     "slide_type": "slide"
    }
   },
   "source": [
    "## Functions of several variables: Partial Differentiation\n",
    "\n",
    "**Definition:**  Given a function $z=f(x,y)$ of two variables $x$ and $y$, the **partial derivative of $z$ with respect to $x$** is the function obtained by differentiating $f(x,y)$ with respect to $x$, holding $y$ constant.\n",
    "\n",
    "We denote this using $\\partial$ (the \"curly\" delta, sometimes pronounced \"del\") as shown below:\n",
    "\n",
    "$$\\frac{\\partial z}{\\partial x}=\\frac{\\partial}{\\partial x}f(x,y) = f_x(x,y)$$"
   ]
  },
  {
   "cell_type": "markdown",
   "metadata": {
    "slideshow": {
     "slide_type": "slide"
    }
   },
   "source": [
    "## Example 1\n",
    "\n",
    "$f(x,y)=z=x^2-2y^2$\n",
    "\n",
    "$$f_x={\\partial z\\over \\partial x}=2x\\qquad\\mbox{and}\\qquad f_y={\\partial z\\over \\partial y}=-4y$$"
   ]
  },
  {
   "cell_type": "markdown",
   "metadata": {
    "slideshow": {
     "slide_type": "slide"
    }
   },
   "source": [
    "## Example 2\n",
    "\n",
    "Let $z=3x^2y+5xy^2$. Then the partial derivative of $z$ with respect to $x$, holding $y$ fixed, is:\n",
    "\n",
    "\\begin{align*}\n",
    "\\frac{\\partial z}{\\partial x}&=\\frac{\\partial}{\\partial x}\\,\\left(3x^2y+5xy^2\\right) \\\\\n",
    "&=3y\\cdot 2x + 5y^2\\cdot 1 \\\\\n",
    "&=6xy+5y^2\n",
    "\\end{align*}\n",
    "\n",
    "while the partial of $z$ with respect to $y$ holding $x$ fixed is:\n",
    "\n",
    "\\begin{align*}\n",
    "\\frac{\\partial z}{\\partial y}&=\\frac{\\partial}{\\partial y}\\,\\left(3x^2y+5xy^2\\right)\\, \n",
    " =3x^2\\cdot 1 + 5x\\cdot 2y = 3x^2+10xy \n",
    "\\end{align*}"
   ]
  },
  {
   "cell_type": "markdown",
   "metadata": {
    "slideshow": {
     "slide_type": "slide"
    }
   },
   "source": [
    "## Sympy example\n",
    "\n",
    "In the previous slide we had:\n",
    "\n",
    "$$\\frac{\\partial}{\\partial x}\\,\\left(3x^2y+5xy^2\\right)\\, = 6xy+5y^2$$\n",
    "\n",
    "Lets redo this in Sympy:"
   ]
  },
  {
   "cell_type": "code",
   "execution_count": null,
   "metadata": {
    "slideshow": {
     "slide_type": "-"
    }
   },
   "outputs": [],
   "source": [
    "x, y = sp.symbols('x y')\n",
    "sp.diff(3*x**2*y + 5*x*y**2,x)"
   ]
  },
  {
   "cell_type": "markdown",
   "metadata": {
    "slideshow": {
     "slide_type": "slide"
    }
   },
   "source": [
    "## Higher-Order Partial Derivatives: \n",
    "\n",
    "Given $z = f(x,y)$ there are now four distinct possibilities for the \n",
    "second-order partial derivatives.\n",
    "\n",
    "(a)  With respect to $x$ twice: \n",
    "\n",
    "$$\\frac{\\partial}{\\partial x}\\left(\\frac{\\partial z}{\\partial x}\\right)\n",
    "    =\\frac{\\partial^2z}{\\partial x^2}\n",
    "    =z_{xx}$$\n",
    "\n",
    "(b)  With respect to $y$ twice:\n",
    "\n",
    "$$\\frac{\\partial}{\\partial y}\\left(\\frac{\\partial z}{\\partial y}\\right)\n",
    "    =\\frac{\\partial^2z}{\\partial y^2}\n",
    "    =z_{yy}$$"
   ]
  },
  {
   "cell_type": "markdown",
   "metadata": {
    "slideshow": {
     "slide_type": "subslide"
    }
   },
   "source": [
    "(c)  First with respect to $x$, then with respect to $y$: \n",
    "     \n",
    "$$\\frac{\\partial}{\\partial y}\\left(\\frac{\\partial z}{\\partial x}\\right)\n",
    "    =\\frac{\\partial^2z}{\\partial y\\partial x}\n",
    "    =z_{xy}$$\n",
    "\n",
    "(d)  First with respect to $y$, then with respect to $x$:\n",
    "\n",
    "$$\\frac{\\partial}{\\partial x}\\left(\\frac{\\partial z}{\\partial y}\\right)\n",
    "    =\\frac{\\partial^2z}{\\partial x\\partial y}\n",
    "    =z_{yx}$$"
   ]
  },
  {
   "cell_type": "markdown",
   "metadata": {
    "slideshow": {
     "slide_type": "slide"
    }
   },
   "source": [
    "## Example\n",
    "\n",
    "(LaPlace's Equation for Equilibrium Temperature Distribution on a Copper Plate.)\n",
    "\n",
    "Let $T(x,y)$ give the temperature at the point $(x,y)$.\n",
    "\n",
    "According to a result of the French mathematician Pierre LaPlace (1749 - 1827), at every point $(x,y)$ the second-order partials of $T$ must satisfy the equation\n",
    "\n",
    "$$T_{xx} + T_{yy} = 0$$"
   ]
  },
  {
   "cell_type": "markdown",
   "metadata": {
    "slideshow": {
     "slide_type": "subslide"
    }
   },
   "source": [
    "The function $T(x,y)=y^2-x^2$ satisfies LaPlace's equation:\n",
    "\n",
    "First with respect to $x$: \n",
    "\n",
    "$$T_x(x,y)=0-2x=-2x\\qquad\\mbox{so}\\qquad T_{xx}(x,y)=-2$$\n",
    "\n",
    "Then with respect to $y$: \n",
    "\n",
    "$$T_y(x,y)=2y-0=2y\\qquad\\mbox{so}\\qquad T_{yy}(x,y)=2$$\n",
    "\n",
    "Finally: \n",
    "\n",
    "$$T_{xx}(x,y)+T_{yy}(x,y) = 2 + (-2) = 0$$\n",
    "\n",
    "which proves the result."
   ]
  },
  {
   "cell_type": "markdown",
   "metadata": {
    "slideshow": {
     "slide_type": "subslide"
    }
   },
   "source": [
    "The function $z=x^2y - xy^2$ does *not* satisfy LaPlace's equation (and so \n",
    "cannot be a model for thermal equilibrium).\n",
    "\n",
    "First note that \n",
    "\n",
    "$$z_x = 2xy - y^2$$\n",
    "\n",
    "$$z_{xx}=2y$$ \n",
    "\n",
    "and \n",
    "\n",
    "$$z_y = x^2 - 2xy$$\n",
    "\n",
    "$$z_{yy} =-2x$$\n",
    "\n",
    "Therefore:\n",
    "\n",
    "$$z_{xx}+z_{yy}=2y-2x\\ne 0$$"
   ]
  },
  {
   "cell_type": "markdown",
   "metadata": {
    "slideshow": {
     "slide_type": "subslide"
    }
   },
   "source": [
    "We can verify this in Sympy like so:"
   ]
  },
  {
   "cell_type": "code",
   "execution_count": null,
   "metadata": {
    "slideshow": {
     "slide_type": "-"
    }
   },
   "outputs": [],
   "source": [
    "T1 = y**2 - x**2\n",
    "sp.diff(T1, x, x) + sp.diff(T1, y, y)"
   ]
  },
  {
   "cell_type": "markdown",
   "metadata": {
    "slideshow": {
     "slide_type": "-"
    }
   },
   "source": [
    "and for the second function:"
   ]
  },
  {
   "cell_type": "code",
   "execution_count": null,
   "metadata": {
    "slideshow": {
     "slide_type": "-"
    }
   },
   "outputs": [],
   "source": [
    "T2 = x**2*y - x*y**2\n",
    "sp.diff(T2, x, x) + sp.diff(T2, y, y)"
   ]
  },
  {
   "cell_type": "markdown",
   "metadata": {
    "slideshow": {
     "slide_type": "slide"
    }
   },
   "source": [
    "## A Note on the Mixed Partials $f_{xy}$ and $f_{yx}$: \n",
    "\n",
    "If all of the partials of $f(x,y)$ exist, then $f_{xy}=f_{yx}$ for all $(x,y)$."
   ]
  },
  {
   "cell_type": "markdown",
   "metadata": {
    "slideshow": {
     "slide_type": "subslide"
    }
   },
   "source": [
    "### Example: \n",
    "\n",
    "Let $z = x^2y^3+3x^2-2y^4$.  Then $z_x=2xy^3+6x$ and $z_y = 3x^2y^2-8y^3$.\n",
    "\n",
    "Taking the partial of $z_x$ with respect to $y$ we get \n",
    "\n",
    "$$z_{xy}=\\frac{\\partial}{\\partial y}\\left(2xy^3+6x\\right)=6xy^2$$\n",
    "\n",
    "Taking the partial of $z_y$ with respect to $x$ we get the same thing:  \n",
    "\n",
    "$$z_{yx}=\\frac{\\partial}{\\partial x}\\left(3x^2y^2-8y^3\\right)=6xy^2$$"
   ]
  },
  {
   "cell_type": "markdown",
   "metadata": {
    "slideshow": {
     "slide_type": "subslide"
    }
   },
   "source": [
    "So the operators ${\\partial \\over \\partial x}$ and ${\\partial \\over \\partial y}$ are **commutative**:\n",
    "\n",
    "$${\\rm~i.e.~~~~}~{\\partial\\over \\partial x}\\biggr({\\partial z\\over \\partial y}\\biggl)~~~~\n",
    "={\\partial\\over \\partial y}\\biggr({\\partial z\\over \\partial\n",
    "x}\\biggl)$$"
   ]
  }
 ],
 "metadata": {
  "celltoolbar": "Slideshow",
  "kernelspec": {
   "display_name": "Python 3",
   "language": "python",
   "name": "python3"
  },
  "language_info": {
   "codemirror_mode": {
    "name": "ipython",
    "version": 3
   },
   "file_extension": ".py",
   "mimetype": "text/x-python",
   "name": "python",
   "nbconvert_exporter": "python",
   "pygments_lexer": "ipython3",
   "version": "3.8.5"
  }
 },
 "nbformat": 4,
 "nbformat_minor": 2
}
