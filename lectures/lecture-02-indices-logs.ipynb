{
 "cells": [
  {
   "cell_type": "markdown",
   "metadata": {
    "slideshow": {
     "slide_type": "slide"
    }
   },
   "source": [
    "# Lecture 2\n",
    "\n",
    "## Indices, Logs and Exponentials"
   ]
  },
  {
   "cell_type": "code",
   "execution_count": null,
   "metadata": {
    "slideshow": {
     "slide_type": "skip"
    }
   },
   "outputs": [],
   "source": [
    "import numpy as np\n",
    "\n",
    "##################################################\n",
    "##### Matplotlib boilerplate for consistency #####\n",
    "##################################################\n",
    "from ipywidgets import interact\n",
    "from ipywidgets import FloatSlider\n",
    "from matplotlib import pyplot as plt\n",
    "\n",
    "%matplotlib inline\n",
    "\n",
    "from IPython.display import set_matplotlib_formats\n",
    "set_matplotlib_formats('svg')\n",
    "\n",
    "global_fig_width = 10\n",
    "global_fig_height = global_fig_width / 1.61803399\n",
    "font_size = 12\n",
    "\n",
    "plt.rcParams['axes.axisbelow'] = True\n",
    "plt.rcParams['axes.edgecolor'] = '0.8'\n",
    "plt.rcParams['axes.grid'] = True\n",
    "plt.rcParams['axes.labelpad'] = 8\n",
    "plt.rcParams['axes.linewidth'] = 2\n",
    "plt.rcParams['axes.titlepad'] = 16.0\n",
    "plt.rcParams['axes.titlesize'] = font_size * 1.4\n",
    "plt.rcParams['figure.figsize'] = (global_fig_width, global_fig_height)\n",
    "plt.rcParams['font.sans-serif'] = ['Computer Modern Sans Serif', 'DejaVu Sans', 'sans-serif']\n",
    "plt.rcParams['font.size'] = font_size\n",
    "plt.rcParams['grid.color'] = '0.8'\n",
    "plt.rcParams['grid.linestyle'] = 'dashed'\n",
    "plt.rcParams['grid.linewidth'] = 2\n",
    "plt.rcParams['lines.dash_capstyle'] = 'round'\n",
    "plt.rcParams['lines.dashed_pattern'] = [1, 4]\n",
    "plt.rcParams['xtick.labelsize'] = font_size\n",
    "plt.rcParams['xtick.major.pad'] = 4\n",
    "plt.rcParams['xtick.major.size'] = 0\n",
    "plt.rcParams['ytick.labelsize'] = font_size\n",
    "plt.rcParams['ytick.major.pad'] = 4\n",
    "plt.rcParams['ytick.major.size'] = 0\n",
    "##################################################"
   ]
  },
  {
   "cell_type": "markdown",
   "metadata": {
    "slideshow": {
     "slide_type": "slide"
    }
   },
   "source": [
    "## Indices\n",
    "\n",
    "### (1) Multiplication.\n"
   ]
  },
  {
   "cell_type": "code",
   "execution_count": null,
   "metadata": {
    "slideshow": {
     "slide_type": "fragment"
    }
   },
   "outputs": [],
   "source": [
    "5*5*5"
   ]
  },
  {
   "cell_type": "code",
   "execution_count": null,
   "metadata": {
    "slideshow": {
     "slide_type": "fragment"
    }
   },
   "outputs": [],
   "source": [
    "5**3"
   ]
  },
  {
   "cell_type": "code",
   "execution_count": null,
   "metadata": {
    "slideshow": {
     "slide_type": "fragment"
    }
   },
   "outputs": [],
   "source": [
    "5**3 * 5**2"
   ]
  },
  {
   "cell_type": "code",
   "execution_count": null,
   "metadata": {
    "slideshow": {
     "slide_type": "fragment"
    }
   },
   "outputs": [],
   "source": [
    "5**5"
   ]
  },
  {
   "cell_type": "markdown",
   "metadata": {
    "slideshow": {
     "slide_type": "fragment"
    }
   },
   "source": [
    "So by extension:\n",
    "$$a^m\\times~a^n=a^{m+n} ~~~~~~~(Add)$$"
   ]
  },
  {
   "cell_type": "markdown",
   "metadata": {
    "slideshow": {
     "slide_type": "slide"
    }
   },
   "source": [
    "### (2) Division."
   ]
  },
  {
   "cell_type": "code",
   "execution_count": null,
   "metadata": {
    "slideshow": {
     "slide_type": "fragment"
    }
   },
   "outputs": [],
   "source": [
    "5**3 / 5**2"
   ]
  },
  {
   "cell_type": "code",
   "execution_count": null,
   "metadata": {
    "slideshow": {
     "slide_type": "fragment"
    }
   },
   "outputs": [],
   "source": [
    "(5*5*5) / (5*5)"
   ]
  },
  {
   "cell_type": "markdown",
   "metadata": {
    "slideshow": {
     "slide_type": "fragment"
    }
   },
   "source": [
    "So by extension:\n",
    "$${a^n\\over a^m}=a^{n-m} ~~~~~~~~(Subtract)$$"
   ]
  },
  {
   "cell_type": "markdown",
   "metadata": {
    "slideshow": {
     "slide_type": "slide"
    }
   },
   "source": [
    "### (3) Powers."
   ]
  },
  {
   "cell_type": "code",
   "execution_count": null,
   "metadata": {
    "slideshow": {
     "slide_type": "fragment"
    }
   },
   "outputs": [],
   "source": [
    "(5**3)**4"
   ]
  },
  {
   "cell_type": "code",
   "execution_count": null,
   "metadata": {
    "slideshow": {
     "slide_type": "fragment"
    }
   },
   "outputs": [],
   "source": [
    "(5*5*5)*(5*5*5)*(5*5*5)*(5*5*5)"
   ]
  },
  {
   "cell_type": "code",
   "execution_count": null,
   "metadata": {
    "slideshow": {
     "slide_type": "fragment"
    }
   },
   "outputs": [],
   "source": [
    "5**12"
   ]
  },
  {
   "cell_type": "markdown",
   "metadata": {
    "slideshow": {
     "slide_type": "fragment"
    }
   },
   "source": [
    "$$(a^n)^m=a^{nm} ~~~~~~~~(Multiply)$$"
   ]
  },
  {
   "cell_type": "markdown",
   "metadata": {
    "slideshow": {
     "slide_type": "slide"
    }
   },
   "source": [
    "### (4) Negative Indices."
   ]
  },
  {
   "cell_type": "code",
   "execution_count": null,
   "metadata": {
    "slideshow": {
     "slide_type": "fragment"
    }
   },
   "outputs": [],
   "source": [
    "a = 3.0\n",
    "a**3 / a**5"
   ]
  },
  {
   "cell_type": "code",
   "execution_count": null,
   "metadata": {
    "slideshow": {
     "slide_type": "fragment"
    }
   },
   "outputs": [],
   "source": [
    "(a*a*a)/(a*a*a*a*a)"
   ]
  },
  {
   "cell_type": "code",
   "execution_count": null,
   "metadata": {
    "slideshow": {
     "slide_type": "fragment"
    }
   },
   "outputs": [],
   "source": [
    "1.0/(a**2)"
   ]
  },
  {
   "cell_type": "markdown",
   "metadata": {
    "slideshow": {
     "slide_type": "fragment"
    }
   },
   "source": [
    "Thus\n",
    "\n",
    "$$a^{-2}={1\\over a^2}~~~~{\\rm~and~in~general:}~~~~a^{-n} ={1\\over a^n}$$\n",
    "\n",
    "where $n$ is a positive integer"
   ]
  },
  {
   "cell_type": "markdown",
   "metadata": {
    "slideshow": {
     "slide_type": "slide"
    }
   },
   "source": [
    "### (5) Zero index."
   ]
  },
  {
   "cell_type": "code",
   "execution_count": null,
   "metadata": {
    "slideshow": {
     "slide_type": "fragment"
    }
   },
   "outputs": [],
   "source": [
    "a**3 / a**3"
   ]
  },
  {
   "cell_type": "code",
   "execution_count": null,
   "metadata": {
    "slideshow": {
     "slide_type": "fragment"
    }
   },
   "outputs": [],
   "source": [
    "a**0"
   ]
  },
  {
   "cell_type": "markdown",
   "metadata": {
    "slideshow": {
     "slide_type": "fragment"
    }
   },
   "source": [
    "Thus anything to the power of zero equals one, except $0^0$\n",
    "which is undefined and:\n",
    "$$a^0=1 $$"
   ]
  },
  {
   "cell_type": "markdown",
   "metadata": {
    "slideshow": {
     "slide_type": "slide"
    }
   },
   "source": [
    "### (6) Fractional (rational) indices.\n",
    "$$a^1 = a^{1/2} \\times a^{1/2} {\\rm ~~~~so~~~~}a^{1/2} = \\root \\of {a} $$\n",
    "$$a^{1\\over n} = \\root n \\of {a} $$\n",
    "$$a^{n\\over m} = \\left(\\root m \\of {a}\\right)^n ~~~~~{\\rm or}~~~\\root m \\of {a^n}$$\n",
    "$$a^{-{n\\over m}} = {1\\over {\\left(\\root m \\of {a}\\right)^n}}~~~{\\rm or}~\n",
    "~~~{1\\over {\\root m \\of {a^n}}}$$"
   ]
  },
  {
   "cell_type": "markdown",
   "metadata": {
    "slideshow": {
     "slide_type": "slide"
    }
   },
   "source": [
    "e.g.\n",
    "$$a^{n\\over m} = a^{3\\over 4}=\\root 4 \\of {a^3} ~~~~~{\\rm or}~~~\\left(\\root 4 \\of {a}\\right)^3$$"
   ]
  },
  {
   "cell_type": "code",
   "execution_count": null,
   "metadata": {
    "slideshow": {
     "slide_type": "fragment"
    }
   },
   "outputs": [],
   "source": [
    "a = 5.0\n",
    "a**(3.0/4.0)"
   ]
  },
  {
   "cell_type": "code",
   "execution_count": null,
   "metadata": {
    "slideshow": {
     "slide_type": "fragment"
    }
   },
   "outputs": [],
   "source": [
    "(a**3.0)**0.25"
   ]
  },
  {
   "cell_type": "code",
   "execution_count": null,
   "metadata": {
    "slideshow": {
     "slide_type": "fragment"
    }
   },
   "outputs": [],
   "source": [
    "(a**0.25)**3.0"
   ]
  },
  {
   "cell_type": "markdown",
   "metadata": {
    "slideshow": {
     "slide_type": "fragment"
    }
   },
   "source": [
    "i.e. For indices the order in which these mathematical operations are performed \n",
    "does not\n",
    "matter."
   ]
  },
  {
   "cell_type": "markdown",
   "metadata": {
    "slideshow": {
     "slide_type": "slide"
    }
   },
   "source": [
    "## Exercises. Simplify:\n",
    "\n",
    "$$y=8^{1\\over 6}\\times 2^6 \\times 2^{-{1\\over \n",
    "2}}=~~~~~~~~~~~~~~~~~~~~~~~~~~~~~~~~~~~~~~~~~~~$$"
   ]
  },
  {
   "cell_type": "code",
   "execution_count": null,
   "metadata": {
    "slideshow": {
     "slide_type": "fragment"
    }
   },
   "outputs": [],
   "source": [
    "8**(1.0/6.0) * 2**6 * 2**(-0.5)"
   ]
  },
  {
   "cell_type": "markdown",
   "metadata": {
    "slideshow": {
     "slide_type": "fragment"
    }
   },
   "source": [
    "$$ y= {\\left(p^{1\\over 3}\\right)^2 \\times \\left(p^2\\right)^{1\\over 3}\\over \\root 3 \\of \n",
    "p}=~~~~~~~~~~~~~~~~~~~~~~~~~~~~~~~~~~~~~~~~~~~$$"
   ]
  },
  {
   "cell_type": "code",
   "execution_count": null,
   "metadata": {
    "slideshow": {
     "slide_type": "fragment"
    }
   },
   "outputs": [],
   "source": [
    "p = 2.0\n",
    "(p**(1.0/3.0))**2 * (p**2)**(1.0/3.0) / p**(1.0/3.0)"
   ]
  },
  {
   "cell_type": "markdown",
   "metadata": {
    "slideshow": {
     "slide_type": "slide"
    }
   },
   "source": [
    "### (7) Different bases, same index"
   ]
  },
  {
   "cell_type": "code",
   "execution_count": null,
   "metadata": {
    "slideshow": {
     "slide_type": "fragment"
    }
   },
   "outputs": [],
   "source": [
    "a = 2.0\n",
    "b = 4.0\n",
    "(a * b)**3"
   ]
  },
  {
   "cell_type": "code",
   "execution_count": null,
   "metadata": {
    "slideshow": {
     "slide_type": "fragment"
    }
   },
   "outputs": [],
   "source": [
    "a**3 * b**3"
   ]
  },
  {
   "cell_type": "markdown",
   "metadata": {
    "slideshow": {
     "slide_type": "fragment"
    }
   },
   "source": [
    "$$(a\\cdot b)^x = a^x\\cdot b^x\\qquad {\\rm and}\\qquad\\Bigl( {a\\over b}\\Bigr)^x={{\\,a^x}\\over{\\,b^x}}$$"
   ]
  },
  {
   "cell_type": "markdown",
   "metadata": {
    "slideshow": {
     "slide_type": "slide"
    }
   },
   "source": [
    "### (8) Two Cautionary remarks:\n",
    "1.  Powers of sums are **not** pretty:  $(a+b)^x \\ne a^x + b^x$\n",
    "2.  Powers of differences are **not** pretty: $(a-b)^x \\ne a^x - b^x$\n",
    "\n",
    "A useful formula for products of sums:\n",
    "$(p+q)\\cdot(s+t) = ps + pt+qs + qt$\n",
    "\n",
    "Three important consequences:\n",
    "\n",
    "1. $(a+b)^2=(a+b)(a+b)=a^2+2ba+b^2$\n",
    "1. $(a-b)^2=(a-b)(a-b)=a^2-2ba+b^2$\n",
    "1. $(a+b)(a-b)=a^2-b^2$"
   ]
  },
  {
   "cell_type": "markdown",
   "metadata": {
    "slideshow": {
     "slide_type": "slide"
    }
   },
   "source": [
    "## Logarithms\n",
    "\n",
    "1. If $y=a^x$, $\\;x\\;$ is the **power** to which the **base** $\\;a\\;$ must be raised to give \n",
    "   $y$, OR \n",
    "2. $\\;x\\;$ is the **logarithm** which, with **base** $\\;a,\\;$ gives $\\;y\\;$.\n",
    "\n",
    "In general we write $\\quad x = \\log_a y \\quad \\Leftrightarrow \\quad y=a^x$.\n",
    "\n",
    "The base of a logarithm may be any number. Commonly, logarithms either have **base** 10 or **base** $e$.\n",
    "It is almost always a good idea to explicitly state the base, e.g. $\\;\\log_3 9=2\\;$ implies $\\;3^2=9\\;$."
   ]
  },
  {
   "cell_type": "markdown",
   "metadata": {
    "slideshow": {
     "slide_type": "slide"
    }
   },
   "source": [
    "## Getting a feel for logarithms.\n",
    "\n",
    "Here's a graph of $y=\\log_{10}x$:"
   ]
  },
  {
   "cell_type": "code",
   "execution_count": null,
   "metadata": {
    "slideshow": {
     "slide_type": "subslide"
    }
   },
   "outputs": [],
   "source": [
    "x = np.linspace(0.01,10,1000)\n",
    "y = np.log10(x)\n",
    "plt.xlabel('$x$')\n",
    "plt.ylabel('$log_{10}(x)$')\n",
    "plt.plot(x,y)"
   ]
  },
  {
   "cell_type": "markdown",
   "metadata": {
    "slideshow": {
     "slide_type": "slide"
    }
   },
   "source": [
    "Some physical phenomena use log metrics due to their huge dynamic range:\n",
    "\n",
    "- volume of sound (decibels)\n",
    "- pitch (1 octave is doubling of frequency, 2 octaves is quadrupling of \n",
    "   frequency)\n",
    "- earth quakes (Richter scale)\n",
    "- pH ($[H^+]$ ion concentration)\n",
    "- Used a lot in computer programming to improve the speed and/or accuracy of calculations."
   ]
  },
  {
   "cell_type": "markdown",
   "metadata": {
    "slideshow": {
     "slide_type": "slide"
    }
   },
   "source": [
    "## The laws of logarithms\n",
    "\n",
    "### (1) Using the same base $a$ for both operations:\n",
    "\n",
    "- *Taking the logarithm* undoes *raising to a power*: \n",
    "    \n",
    " $$\\log_a\\,a^r=r$$\n",
    "\n",
    "- *Raising to a power* undoes *taking the logarithm*: \n",
    "\n",
    "$$a^{\\log_a\\,b}=b$$"
   ]
  },
  {
   "cell_type": "markdown",
   "metadata": {
    "slideshow": {
     "slide_type": "subslide"
    }
   },
   "source": [
    "## The laws of logarithms\n",
    "\n",
    "### (2) Multiplication.\n",
    "\n",
    "$$\\log_a (bc) = \\log_a b + \\log_a c ~~~~~(Add) $$\n",
    "\n",
    "### (3) Division. In a similar way to multiplication,\n",
    "\n",
    "$$\\log_a \\left({b \\over c}\\right) = \\log_a b - \\log_a c ~~~~~(Subtract)$$"
   ]
  },
  {
   "cell_type": "markdown",
   "metadata": {
    "slideshow": {
     "slide_type": "subslide"
    }
   },
   "source": [
    "### (4) Powers. \n",
    "\n",
    "$$\\log_a b^n = n \\log_a b  ~~~~~~ (Multiply)$$\n",
    "\n",
    "### (5) Changing the base of  a logarithm:\n",
    "$$\\log_a c = {\\log_b c\\over \\log_b a}$$\n",
    "\n",
    "### (6) Special case: if $b$ and $c$ are the same, (5) reduces to\n",
    "\n",
    "\n",
    "$$ \\log_a b ={\\log_b b\\over \\log_b a}={1\\over \\log_b a}$$"
   ]
  },
  {
   "cell_type": "markdown",
   "metadata": {
    "slideshow": {
     "slide_type": "subslide"
    }
   },
   "source": [
    "### (7) The log of any number to the base itself is 1:\n",
    "\n",
    "$$\\log_a a =1 $$\n",
    "\n",
    "### (8) The log of 1 is 0 (unless a=0, in which case it is undefined):\n",
    "\n",
    "$$\\log_a 1 = 0 \\quad{\\rm since~~~}\\quad a^0=1$$"
   ]
  },
  {
   "cell_type": "markdown",
   "metadata": {
    "slideshow": {
     "slide_type": "subslide"
    }
   },
   "source": [
    "\n",
    "### (9) Inverse operation: \n",
    "\n",
    "$$\\log_a a^x = x$$\n",
    "\n",
    "### (10) Or,\n",
    "\n",
    "$$a^{\\log_a x}=x$$\n",
    "\n",
    "### (11) Negative logs.\n",
    "$$\\log_a {1\\over x} = \\log_a1-\\log_ax= 0 - \\log_a x =-\\log_ax$$"
   ]
  },
  {
   "cell_type": "markdown",
   "metadata": {
    "slideshow": {
     "slide_type": "subslide"
    }
   },
   "source": [
    "### (12)  Two cautionary remarks:\n",
    "1. $\\;\\log_a (x + y)\\;$ and $\\;\\log_a (x-y)\\;$ cannot be simplified any further, and should be left as they are.\n",
    "\n",
    "2. Neither can $\\;\\log_a\\,x \\cdot \\log_a\\,y\\;$ or $\\;\\displaystyle{{\\log_a\\,x}\\over {\\log_a\\,y}}.\\;$ Leave them as they are.\n",
    "         "
   ]
  },
  {
   "cell_type": "markdown",
   "metadata": {
    "slideshow": {
     "slide_type": "slide"
    }
   },
   "source": [
    "## Example 1: graphs\n",
    "\n",
    "Can the data below be fitted to the form: $y=Ax^n$?"
   ]
  },
  {
   "cell_type": "code",
   "execution_count": null,
   "metadata": {
    "slideshow": {
     "slide_type": "subslide"
    }
   },
   "outputs": [],
   "source": [
    "x = np.array([4.0, 16.0, 25.0, 64.0])\n",
    "y = np.array([6.0, 12.0, 15.0, 24.0])\n",
    "plt.plot(x,y)\n",
    "plt.xlabel('x')\n",
    "plt.ylabel('y')"
   ]
  },
  {
   "cell_type": "markdown",
   "metadata": {
    "slideshow": {
     "slide_type": "subslide"
    }
   },
   "source": [
    "- Take logs of both sides: This is the equation of a straight line (cf. $y=mx+c$)\n",
    "\n",
    "$$\\log y =\\log Ax^n = \\log A + \\log x^n= \\log A + n \\log x$$\n",
    "\n"
   ]
  },
  {
   "cell_type": "code",
   "execution_count": null,
   "metadata": {
    "slideshow": {
     "slide_type": "subslide"
    }
   },
   "outputs": [],
   "source": [
    "W = np.log10(x)\n",
    "Z = np.log10(y)\n",
    "plt.xlabel('$W = \\log_{10}(x)$')\n",
    "plt.ylabel('$Z = \\log_{10}(y)$')\n",
    "plt.plot(W,Z)"
   ]
  },
  {
   "cell_type": "code",
   "execution_count": null,
   "metadata": {
    "slideshow": {
     "slide_type": "slide"
    }
   },
   "outputs": [],
   "source": [
    "gradient = (Z[-1] - Z[0])/(W[-1] - W[0])\n",
    "print('gradient =',gradient)"
   ]
  },
  {
   "cell_type": "markdown",
   "metadata": {
    "slideshow": {
     "slide_type": "-"
    }
   },
   "source": [
    "Gradient = 0.5 = $n$\n",
    "\n",
    "Intercept = $0.48 = \\log_{10}A$ so $A=3.0$\n",
    "\n",
    "- Data fit curve of the form:\n",
    "$$y=3.0\\times  x^{1/2}$$ "
   ]
  },
  {
   "cell_type": "markdown",
   "metadata": {
    "slideshow": {
     "slide_type": "slide"
    }
   },
   "source": [
    "## Example 2: pH\n",
    "\n",
    "1. What is the pH of a 0.011M solution of HCl?\n",
    "\n",
    "$$pH = -\\log_{10}[H^+]$$"
   ]
  },
  {
   "cell_type": "code",
   "execution_count": null,
   "metadata": {
    "slideshow": {
     "slide_type": "fragment"
    }
   },
   "outputs": [],
   "source": [
    "pH = -np.log10(0.011)\n",
    "print('pH =',pH)"
   ]
  },
  {
   "cell_type": "markdown",
   "metadata": {
    "slideshow": {
     "slide_type": "subslide"
    }
   },
   "source": [
    "2. What is the H$^+$ concentration of a solution of HCl with a pH of 3?"
   ]
  },
  {
   "cell_type": "markdown",
   "metadata": {
    "slideshow": {
     "slide_type": "fragment"
    }
   },
   "source": [
    "$$pH = -\\log [H^+] = 3~~~~{\\rm~so~~~}$$"
   ]
  },
  {
   "cell_type": "code",
   "execution_count": null,
   "metadata": {
    "slideshow": {
     "slide_type": "fragment"
    }
   },
   "outputs": [],
   "source": [
    "hydrogen = 10**(-3)\n",
    "print('[H+] =',hydrogen,'M')"
   ]
  },
  {
   "cell_type": "markdown",
   "metadata": {
    "slideshow": {
     "slide_type": "slide"
    }
   },
   "source": [
    "## Example 3: Simplifying logs\n",
    "\n",
    "Write an expression for $x$ without using logarithms\n",
    "$$\\log(x) = \\log(p) + 2 \\log(q) - \\log(k) -3$$\n",
    "\n",
    "\n",
    "$$\\log(x) =~~~~~~~~~~~~~~~~~~~~~~~~~~~~~~~~~~~~~~~~~~~~~~~~$$\n",
    "\n",
    "\n",
    "$$x=~~~~~~~~~~~~~~~~~~~~~~~~~~~~~~~~~~~~~~~~$$\n",
    "\n",
    "1. Use the laws of logarithms (above) to put all terms on the right hand side \n",
    "   **within** the logarithm. This means we have to rewrite $\\;3\\;$ as $\\;3\\log(10)\\;$.\n",
    "1. Raise both sides to the (same) power which will **undo** the logarithm function. (i.e. raise both sides to the power of 10)"
   ]
  },
  {
   "cell_type": "markdown",
   "metadata": {
    "slideshow": {
     "slide_type": "slide"
    }
   },
   "source": [
    "## The exponential function and the real number e\n",
    "\n",
    "### Definition of the Real Number $e$:\n",
    "\n",
    "The real number $e$, also known as Euler's number, is that base for which the graph $y=e^x$\n",
    "passes through the point $\\;(0, 1)\\;$ with gradient exactly equal to $\\;1$."
   ]
  },
  {
   "cell_type": "code",
   "execution_count": null,
   "metadata": {
    "slideshow": {
     "slide_type": "subslide"
    }
   },
   "outputs": [],
   "source": [
    "x = np.linspace(-1,1,1000)\n",
    "y = np.exp(x)\n",
    "z = x + 1\n",
    "plt.plot(x,y, label='$y=\\exp(x)$')\n",
    "plt.plot(x,z, label='$y=x+1$', ls='--')\n",
    "plt.scatter([0],[1])\n",
    "plt.legend()"
   ]
  },
  {
   "cell_type": "markdown",
   "metadata": {
    "slideshow": {
     "slide_type": "subslide"
    }
   },
   "source": [
    "So for the function (called the **exponential function**):\n",
    "\n",
    "$$y=e^x ~~~{\\rm the~gradient~at~(0,1)~is~~}1 = e^0.$$\n",
    "\n",
    "This turns out to be true at **any** point on the curve.\n",
    "The function $y=e^x$ is the **only** function that is unchanged when differentiated (more tomorrow).\n",
    "\n",
    "$e$ has been found to arise in many branches of mathematics. It is also used as a **base** for logarithms. e.g.:\n",
    "\n",
    "$$y=\\log_e10=\\ln 10 {\\rm~~and~~~} y=\\log_ex=\\ln x$$\n",
    "\n",
    "Logs to base $e$ are called **natural logarithms**."
   ]
  },
  {
   "cell_type": "markdown",
   "metadata": {
    "slideshow": {
     "slide_type": "slide"
    }
   },
   "source": [
    "## Definition of the natural logarithm:\n",
    "\n",
    "The **natural logarithm** of a number is the logarithm of that number taken using the base $\\;e\\;$.\n",
    "We usually write $\\;\\ln(x)\\;$ for $\\log_e(x)$.  Here are some examples:\n",
    "\n",
    "- $\\ln(e)=\\log_e(e)=1$\n",
    "- $\\ln(10)=\\log_e(10)$ = \"The power I need to raise $e$ to in order to get 10\"\n",
    "- $\\ln(10)\\approx 2.303$. Which means that $e^{2.303}\\approx 10$\n",
    "- $\\ln(\\exp(b)) = \\ln e^b  =\\log_e e^b = b$\n",
    "- $\\exp(\\ln(b))=e^{\\ln(b)}=e^{\\log_e b}=b$\n",
    "\n",
    "Note that examples (d) and (e) confirm the property that\n",
    "the functions  \"$\\exp$\"  and \"$\\ln$\"  are *functional\n",
    "inverses* of one another."
   ]
  }
 ],
 "metadata": {
  "kernelspec": {
   "display_name": "Python 3",
   "language": "python",
   "name": "python3"
  },
  "language_info": {
   "codemirror_mode": {
    "name": "ipython",
    "version": 3
   },
   "file_extension": ".py",
   "mimetype": "text/x-python",
   "name": "python",
   "nbconvert_exporter": "python",
   "pygments_lexer": "ipython3",
   "version": "3.8.5"
  }
 },
 "nbformat": 4,
 "nbformat_minor": 2
}
