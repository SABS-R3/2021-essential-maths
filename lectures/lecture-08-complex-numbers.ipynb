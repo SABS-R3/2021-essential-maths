{
 "cells": [
  {
   "cell_type": "markdown",
   "metadata": {
    "slideshow": {
     "slide_type": "slide"
    }
   },
   "source": [
    "# Lecture 8\n",
    "\n",
    "## Complex Numbers"
   ]
  },
  {
   "cell_type": "code",
   "execution_count": null,
   "metadata": {
    "slideshow": {
     "slide_type": "skip"
    }
   },
   "outputs": [],
   "source": [
    "import numpy as np\n",
    "import sympy as sp\n",
    "import scipy.integrate\n",
    "sp.init_printing()\n",
    "##################################################\n",
    "##### Matplotlib boilerplate for consistency #####\n",
    "##################################################\n",
    "from ipywidgets import interact\n",
    "from ipywidgets import IntSlider\n",
    "from ipywidgets import FloatSlider\n",
    "from matplotlib import pyplot as plt\n",
    "\n",
    "import cmath\n",
    "\n",
    "%matplotlib inline\n",
    "\n",
    "from IPython.display import set_matplotlib_formats\n",
    "set_matplotlib_formats('svg')\n",
    "\n",
    "global_fig_width = 8\n",
    "global_fig_height = global_fig_width / 1.61803399\n",
    "font_size = 12\n",
    "\n",
    "plt.rcParams['axes.axisbelow'] = True\n",
    "plt.rcParams['axes.edgecolor'] = '0.8'\n",
    "plt.rcParams['axes.grid'] = True\n",
    "plt.rcParams['axes.labelpad'] = 8\n",
    "plt.rcParams['axes.linewidth'] = 2\n",
    "plt.rcParams['axes.titlepad'] = 16.0\n",
    "plt.rcParams['axes.titlesize'] = font_size * 1.4\n",
    "plt.rcParams['figure.figsize'] = (global_fig_width, global_fig_height)\n",
    "plt.rcParams['font.sans-serif'] = ['Computer Modern Sans Serif', 'DejaVu Sans', 'sans-serif']\n",
    "plt.rcParams['font.size'] = font_size\n",
    "plt.rcParams['grid.color'] = '0.8'\n",
    "plt.rcParams['grid.linestyle'] = 'dashed'\n",
    "plt.rcParams['grid.linewidth'] = 2\n",
    "plt.rcParams['lines.dash_capstyle'] = 'round'\n",
    "plt.rcParams['lines.dashed_pattern'] = [1, 4]\n",
    "plt.rcParams['xtick.labelsize'] = font_size\n",
    "plt.rcParams['xtick.major.pad'] = 4\n",
    "plt.rcParams['xtick.major.size'] = 0\n",
    "plt.rcParams['ytick.labelsize'] = font_size\n",
    "plt.rcParams['ytick.major.pad'] = 4\n",
    "plt.rcParams['ytick.major.size'] = 0\n",
    "##################################################"
   ]
  },
  {
   "cell_type": "markdown",
   "metadata": {
    "slideshow": {
     "slide_type": "slide"
    }
   },
   "source": [
    "## Imaginary numbers\n",
    "\n",
    "**The Imaginary Number $i$:**\n",
    "\n",
    "- The polynomial $~~x^2-1=0~~$ has two real roots:  $~~1~~$ and $~~-1~~$\n",
    "- The polynomial $~~x^2+1=0~~$ has **no** real roots.\n",
    "\n",
    "Consider solving:\n",
    "$$x^2 = 1\\qquad\\mbox{and}\\qquad x^2 = -1$$"
   ]
  },
  {
   "cell_type": "markdown",
   "metadata": {
    "slideshow": {
     "slide_type": "fragment"
    }
   },
   "source": [
    "- We introduce an \"imaginary\" number $~~i~~$ so that there are two solutions to $~~x^2 = -1~~$: $~~i~~$ and $~~-i~~$.  That is, $~~i~~$ is a number with the property that $~~i^2=-1$."
   ]
  },
  {
   "cell_type": "markdown",
   "metadata": {
    "slideshow": {
     "slide_type": "slide"
    }
   },
   "source": [
    "## Complex numbers\n",
    "\n",
    "The complex numbers are  the set of all expressions of the form $a + bi$ where $i^2=-1$ and $a$ and $b$ are real numbers:\n",
    "\n",
    "$$\\mathbb{C}=\\left\\{a + bi~~\\vert~~a,~b~\\in\\mathbb{R}\\right\\}$$"
   ]
  },
  {
   "cell_type": "markdown",
   "metadata": {
    "slideshow": {
     "slide_type": "fragment"
    }
   },
   "source": [
    "For $z=a+bi\\in\\mathbb{C}$ we define the *real* and *imaginary*\n",
    "parts of $z$ to be ${\\Re}(z) = a$ and $\\Im(z)=b$.\n",
    "\n",
    "The imaginary number $i$ has no home on the real number line.\n",
    "Instead, we locate it on the **complex plane** at the point $(0,1)$."
   ]
  },
  {
   "cell_type": "markdown",
   "metadata": {
    "slideshow": {
     "slide_type": "fragment"
    }
   },
   "source": [
    "- we can represent any complex number $z=a+bi$  as the\n",
    "point $(a,b)$ in the complex plane.  \n",
    "- The coordinates $(a,b)$ are\n",
    "usually called the *cartesian* coordinates for $z$.  (Named\n",
    "after the mathematician and philosopher Rene Descartes).  \n",
    "- In this\n",
    "plane, the real numbers lie on the horizontal axis.  We usually\n",
    "refer to the horizontal axis of $\\mathbb{C}$ as the **real axis**."
   ]
  },
  {
   "cell_type": "code",
   "execution_count": null,
   "metadata": {
    "slideshow": {
     "slide_type": "skip"
    }
   },
   "outputs": [],
   "source": [
    "def plot_imag_axis(a,b):\n",
    "    plt.scatter([a],[b])\n",
    "    plt.plot([0,a],[b,b],ls='--')\n",
    "    plt.axvline(x=0,c='k')\n",
    "    plt.axhline(y=0,c='k')\n",
    "    plt.plot([0,a],[b,b],ls='--')\n",
    "    plt.plot([a,a],[0,b],ls='--')\n",
    "    plt.xlabel('Real Axis')\n",
    "    plt.ylabel('Imaginary Axis')\n",
    "    plt.xlim(left=-5, right=25)\n",
    "    plt.ylim(bottom=-5, top=25)"
   ]
  },
  {
   "cell_type": "code",
   "execution_count": null,
   "metadata": {
    "slideshow": {
     "slide_type": "slide"
    }
   },
   "outputs": [],
   "source": [
    "interact(plot_imag_axis, a = IntSlider(value=10, min=0, max=20, continuous_update=False), b = IntSlider(value=10, min=0, max=20, continuous_update=False))"
   ]
  },
  {
   "cell_type": "markdown",
   "metadata": {
    "slideshow": {
     "slide_type": "slide"
    }
   },
   "source": [
    "## Complex conjugates\n",
    "\n",
    "- The complex plane $\\mathbb{C}$ contain **all** of the roots of **every** polynomial.  \n",
    "\n",
    "E.g.\n",
    "\n",
    "$$x^2-8x+25 = 0 =ax^2 +bx +c \\iff x= {-b \\pm\\sqrt{b^2-4ac}\\over 2a} $$"
   ]
  },
  {
   "cell_type": "markdown",
   "metadata": {
    "slideshow": {
     "slide_type": "fragment"
    }
   },
   "source": [
    "$$={{8\\pm\\sqrt{64-100}}\\over2}={{8\\pm\\sqrt{-36}}\\over2}={{8\\pm\n",
    "6i}\\over2}=4\\pm3i$$"
   ]
  },
  {
   "cell_type": "markdown",
   "metadata": {
    "slideshow": {
     "slide_type": "fragment"
    }
   },
   "source": [
    "- Note that these two roots are reflections of one another through the\n",
    "real axis. They are *conjugates* of one another.  \n",
    "\n",
    "- In general, let $z=a + bi$. The **conjugate** of $z$ is the complex number \n",
    "  $\\bar{z}=a-bi$."
   ]
  },
  {
   "cell_type": "markdown",
   "metadata": {
    "slideshow": {
     "slide_type": "slide"
    }
   },
   "source": [
    "We can also use Sympy's `solve` method to solve polynomials:"
   ]
  },
  {
   "cell_type": "code",
   "execution_count": null,
   "metadata": {
    "slideshow": {
     "slide_type": "fragment"
    }
   },
   "outputs": [],
   "source": [
    "x = sp.symbols('x')\n",
    "sp.solve(x**2 - 8*x + 25)\n"
   ]
  },
  {
   "cell_type": "markdown",
   "metadata": {
    "slideshow": {
     "slide_type": "slide"
    }
   },
   "source": [
    "## Modulus (size) of a complex number\n",
    "\n",
    "- The distance to a point on the complex plane from 0 is called its **modulus**, and we find this by calculating the hypotenuse of the triange with base  ${\\Re}(z)$ and height $\\Im(z)$:\n",
    "\n",
    "E.g. The modulus of $4\\pm3i$ is $\\sqrt{3^2+4^2}=\\sqrt{9+16}=\\sqrt{25}=5$\n"
   ]
  },
  {
   "cell_type": "markdown",
   "metadata": {
    "slideshow": {
     "slide_type": "fragment"
    }
   },
   "source": [
    "- In general, the **modulus** of $z=a+bi$ is the real number \n",
    "  $|z|=\\sqrt{a^2+b^2}$.\n"
   ]
  },
  {
   "cell_type": "markdown",
   "metadata": {
    "slideshow": {
     "slide_type": "fragment"
    }
   },
   "source": [
    "- The **modulus** is connected to the **conjugate** by means of the formula \n",
    "  $z\\cdot \\bar{z}=|z|^2$.  Indeed:\n",
    "\n",
    "\\begin{align}\n",
    "    z\\cdot\\bar{z}&=(a+bi)(a-bi)=a^2-(bi)^2=a^2-b^2\\cdot i^2\\\\\n",
    "                 &=a^2-b^2(-1)=a^2+b^2=|z|^2\n",
    "\\end{align}"
   ]
  },
  {
   "cell_type": "markdown",
   "metadata": {
    "slideshow": {
     "slide_type": "slide"
    }
   },
   "source": [
    "## Complex numbers in Python"
   ]
  },
  {
   "cell_type": "code",
   "execution_count": null,
   "metadata": {
    "slideshow": {
     "slide_type": "fragment"
    }
   },
   "outputs": [],
   "source": [
    "x = 1 + 2j\n",
    "print(f'x = {x}     Re(x) = {x.real}     Im(x) = {x.imag}     |x| = {abs(x)}')\n"
   ]
  },
  {
   "cell_type": "markdown",
   "metadata": {
    "slideshow": {
     "slide_type": "fragment"
    }
   },
   "source": [
    "Complex numbers using `Sympy`:"
   ]
  },
  {
   "cell_type": "code",
   "execution_count": null,
   "metadata": {
    "slideshow": {
     "slide_type": "fragment"
    }
   },
   "outputs": [],
   "source": [
    "x = 1 + 2 * sp.I\n",
    "print(f'x = {x}     Re(x) = {sp.re(x)}     Im(x) = {sp.im(x)}     |x| = {sp.Abs(x)}')\n"
   ]
  },
  {
   "cell_type": "markdown",
   "metadata": {
    "slideshow": {
     "slide_type": "slide"
    }
   },
   "source": [
    "## Addition and Subtraction: \n",
    "\n",
    "Addition and subtraction of complex numbers work as you would expect:\n",
    "\n",
    "$$(a+bi)\\pm(c+di)=(a\\pm c) + (b\\pm d)i$$\n",
    "\n",
    "and\n",
    "\n",
    "$$-(a+bi)=-a-bi$$"
   ]
  },
  {
   "cell_type": "markdown",
   "metadata": {
    "slideshow": {
     "slide_type": "slide"
    }
   },
   "source": [
    "Try adding: $(5+6i)+(1-i)$="
   ]
  },
  {
   "cell_type": "code",
   "execution_count": null,
   "metadata": {
    "slideshow": {
     "slide_type": "fragment"
    }
   },
   "outputs": [],
   "source": [
    "print((5 + 6j) + (1 - 1j))\n"
   ]
  },
  {
   "cell_type": "markdown",
   "metadata": {
    "slideshow": {
     "slide_type": "fragment"
    }
   },
   "source": [
    "Try subtracting: $(5+6i)-(1-i)$="
   ]
  },
  {
   "cell_type": "code",
   "execution_count": null,
   "metadata": {
    "slideshow": {
     "slide_type": "fragment"
    }
   },
   "outputs": [],
   "source": [
    "print((5 + 6j) - (1 - 1j))\n"
   ]
  },
  {
   "cell_type": "markdown",
   "metadata": {
    "slideshow": {
     "slide_type": "slide"
    }
   },
   "source": [
    "## Multiplication: \n",
    "\n",
    "Multiplication is not quite so convenient in cartesian coordinates:\n",
    "\n",
    "\\begin{align*}\n",
    "    (a+bi)(c+di)&=ac + adi + bci + bidi \\\\ &= ac + adi + bci -bd \\\\ &= \n",
    "    (ac-bd)+(ad+bc)i\n",
    "    \\end{align*}\n",
    "\n",
    "Try multiplying: $(5+6i)(1-i)$="
   ]
  },
  {
   "cell_type": "code",
   "execution_count": null,
   "metadata": {
    "slideshow": {
     "slide_type": "fragment"
    }
   },
   "outputs": [],
   "source": [
    "print((5 + 6j) * (1 - 1j))\n"
   ]
  },
  {
   "cell_type": "markdown",
   "metadata": {
    "slideshow": {
     "slide_type": "slide"
    }
   },
   "source": [
    "## Division: \n",
    "\n",
    "Division is even more awkward in cartesian\n",
    "coordinates: we have to multiply the numerator and the denominator\n",
    "by the complex conjugate of the denominator.\n",
    "\n",
    "\\begin{align*}\n",
    "    {{a+bi}\\over{c+di}}&={{(a+bi)(c-di)}\\over{(c+di)(c-di)}}\\\\\n",
    "    &={{(ac+bd)+(bc-ad)i}\\over{c^2+d^2}}=\\left({{ac+bd}\\over{c^2+d^2}}\\right)+\n",
    "\\left({{bc-ad}\\over{c^2+d^2}}\\right)i\n",
    "    \\end{align*}\n",
    "\n",
    "Try dividing: $${(-4+7i)\\over (2+3i)}=$$\n"
   ]
  },
  {
   "cell_type": "code",
   "execution_count": null,
   "metadata": {
    "slideshow": {
     "slide_type": "fragment"
    }
   },
   "outputs": [],
   "source": [
    "print((-4 + 7*sp.I) / (2 + 3*sp.I))\n"
   ]
  },
  {
   "cell_type": "markdown",
   "metadata": {
    "slideshow": {
     "slide_type": "slide"
    }
   },
   "source": [
    "## Polar Coordinates\n",
    "\n",
    "It's often convenient to represent  the complex number\n",
    "$z = a + bi$ in terms of its polar coordinates $\\langle r,\\theta\n",
    "\\rangle$.\n",
    "- The angle $\\theta$ is called the *argument* of $z$.\n",
    "  \n",
    "- The real number $r=|z|$ is sometimes denoted mod$(z)$."
   ]
  },
  {
   "cell_type": "code",
   "execution_count": null,
   "metadata": {
    "slideshow": {
     "slide_type": "slide"
    }
   },
   "outputs": [],
   "source": [
    "ax = plt.subplot(121)\n",
    "ax.plot([0,1],[0,1],'o-')\n",
    "ax = plt.subplot(122,projection='polar')\n",
    "ax.plot([0,np.pi/4.0],[0,np.sqrt(2)],'o-')"
   ]
  },
  {
   "cell_type": "markdown",
   "metadata": {
    "slideshow": {
     "slide_type": "slide"
    }
   },
   "source": [
    "## Connection between cartesian and polar\n",
    "\n",
    "Let $z=x+iy$.   If we are given the polar coordinates of\n",
    "$z$ and want to express the cartesian coordinates use\n",
    "$$\\displaylines{x=r\\cos\\theta\\cr\n",
    "    y=r\\sin\\theta\\cr\n",
    "    z=r\\cos\\theta + ri\\sin\\theta=r(\\cos\\theta + i\\sin\\theta)\\cr}$$"
   ]
  },
  {
   "cell_type": "markdown",
   "metadata": {
    "slideshow": {
     "slide_type": "slide"
    }
   },
   "source": [
    "If we are given the cartesian coordinates and want to find the polar\n",
    "coordinates use:\n",
    "\n",
    "$$\n",
    "r={\\rm mod}(z)=|z|=\\sqrt{x^2+y^2}\n",
    "$$"
   ]
  },
  {
   "cell_type": "markdown",
   "metadata": {
    "slideshow": {
     "slide_type": "fragment"
    }
   },
   "source": [
    "\\begin{align*}\n",
    "\\theta={\\rm arg}(z)=\\tan^{-1}{y\\over x}=\n",
    "\\begin{cases}\\pi/2,&\\mbox{ if }~~ x=0,y>0 \\\\\n",
    "    -\\pi/2,&\\mbox{ if }~~ x=0,y<0 \\\\\n",
    "    \\arctan\\left({y\\over x}\\right),&\\mbox{ if }~~ x>0\\\\\n",
    "    \\arctan\\left({y\\over x}\\right)+\\pi,&\\mbox{ if }~~ x<0, y\\geq 0\\\\\n",
    "    \\arctan\\left({y\\over x}\\right)-\\pi,&\\mbox{ if }~~ x<0, y<0\\\\\n",
    "   \\end{cases}\n",
    "    \\end{align*}\n",
    "\n",
    "\n",
    "<!--N.B. All of the fuss about the value of $\\theta$ in the formula\n",
    "above is to make sure that $z$ gets into the proper quadrant. Beware\n",
    "of the sign of this tangent: depends on which quadrant you are in.\n",
    "The positive $x$ axis is defined as having $\\theta=0$ and positive\n",
    "$\\theta$ goes in an anticlockwise sense around the $xy$\n",
    "plane.-->"
   ]
  },
  {
   "cell_type": "markdown",
   "metadata": {
    "slideshow": {
     "slide_type": "slide"
    }
   },
   "source": [
    "## Some examples:\n",
    "\n",
    "- Find the cartesian coordinates for the complex number $z$ with polar \n",
    "  coordinates $r=2$ and $\\theta=\\pi/6$."
   ]
  },
  {
   "cell_type": "markdown",
   "metadata": {
    "slideshow": {
     "slide_type": "fragment"
    }
   },
   "source": [
    "$$\\Re(z)=x=r\\cos\\theta=2\\cos(\\pi/6)=2\\left({{\\sqrt{3}\\over2}}\\right)=\\sqrt{3}$$\n",
    "$$\\Im(z)=y=r\\sin\\theta=2\\sin(\\pi/6)=2\\left({{1\\over2}}\\right)=1$$\n",
    "$${\\rm Therefore\\ } z = \\sqrt{3} + i$$"
   ]
  },
  {
   "cell_type": "code",
   "execution_count": null,
   "metadata": {
    "slideshow": {
     "slide_type": "fragment"
    }
   },
   "outputs": [],
   "source": [
    "print(cmath.rect(2, np.pi/6))\n"
   ]
  },
  {
   "cell_type": "markdown",
   "metadata": {
    "slideshow": {
     "slide_type": "slide"
    }
   },
   "source": [
    "## Some examples:\n",
    "- Find the polar coordinates for the complex number $z= -3+4i$."
   ]
  },
  {
   "cell_type": "markdown",
   "metadata": {
    "slideshow": {
     "slide_type": "fragment"
    }
   },
   "source": [
    "$$|z|=r = $$\n",
    "\n",
    "$$\\sqrt{(-3)^2+4^2}=\\sqrt{25}=5$$\n",
    "\n",
    "$${\\rm arg}(z)=\\theta=\\arctan\\left({{y}\\over{x}}\\right)=$$\n",
    "\n",
    "$$-0.93+\\pi{\\rm ~radians}\\approx 127^\\circ$$"
   ]
  },
  {
   "cell_type": "code",
   "execution_count": null,
   "metadata": {
    "slideshow": {
     "slide_type": "fragment"
    }
   },
   "outputs": [],
   "source": [
    "print(cmath.polar(-3 + 4j))\n"
   ]
  },
  {
   "cell_type": "markdown",
   "metadata": {
    "slideshow": {
     "slide_type": "slide"
    }
   },
   "source": [
    "## Some examples:\n",
    "- Find the polar coordinates for the complex number $z= -2i$."
   ]
  },
  {
   "cell_type": "markdown",
   "metadata": {
    "slideshow": {
     "slide_type": "fragment"
    }
   },
   "source": [
    "$${\\rm mod}(z)=r = |z|=2$$\n",
    "\n",
    "$${\\rm arg}(z)=\\theta=-{{\\pi}\\over2}$$"
   ]
  },
  {
   "cell_type": "code",
   "execution_count": null,
   "metadata": {
    "slideshow": {
     "slide_type": "fragment"
    }
   },
   "outputs": [],
   "source": [
    "print(cmath.polar(-2j))\n"
   ]
  },
  {
   "cell_type": "markdown",
   "metadata": {
    "slideshow": {
     "slide_type": "slide"
    }
   },
   "source": [
    "## Multiplication in Polar Coordinates:  \n",
    "\n",
    "First a reminder of three useful and important identities:\n",
    "\n",
    "$$\\cos^2\\theta + \\sin^2\\theta = 1$$\n",
    "\n",
    "$$\\cos(\\theta_1+\\theta_2)=\\cos\\theta_1\\cos \\theta_2 - \\sin\\theta_1\\sin\\theta_2$$\n",
    "    \n",
    "$$\\sin(\\theta_1+\\theta_2)=\\sin\\theta_1\\cos \\theta_2 + \\sin\\theta_2\\cos\\theta_1$$"
   ]
  },
  {
   "cell_type": "markdown",
   "metadata": {
    "slideshow": {
     "slide_type": "subslide"
    }
   },
   "source": [
    "Now let $z_1=r_1\\cos\\theta_1+ir_1\\sin\\theta_1$ and $z_2=r_2\\cos\\theta_2+ir_2\\sin\\theta_2$.\n",
    "\n",
    "We first compute the real part of the product $z_1\\cdot z_2$:\n",
    "\n",
    "\\begin{align*}\n",
    "\\Re(z_1\\cdot z_2) &= r_1\\cos\\theta_1\\cdot r_2\\cos\\theta_2 - r_1\\sin\\theta_1\\cdot \n",
    "r_2\\sin\\theta_2\\cr\n",
    "&=r_1r_2(\\cos\\theta_1\\cos\\theta_2 - \\sin\\theta_1\\sin\\theta_2)\\cr\n",
    "&=r_1r_2\\cos(\\theta_1 + \\theta_2)\n",
    "\\end{align*}\n",
    "\n",
    "Note that for the real part the moduli have been multiplied and the\n",
    "arguments added.  "
   ]
  },
  {
   "cell_type": "markdown",
   "metadata": {
    "slideshow": {
     "slide_type": "subslide"
    }
   },
   "source": [
    "Now we compute the imaginary part of $z_1\\cdot z_2$:\n",
    "\n",
    "\\begin{align*}\n",
    "\\Im(z_1\\cdot z_2) &= r_1\\sin\\theta_1\\cdot r_2\\cos\\theta_2 + r_2\\sin\\theta_2\\cdot \n",
    "    r_1\\cos\\theta_1\\cr\n",
    "&=r_1r_2(\\sin\\theta_1\\cos\\theta_2 - \\sin\\theta_2\\cos\\theta_1)\\cr\n",
    "&=r_1r_2\\sin(\\theta_1 + \\theta_2)\n",
    "    \\end{align*}\n",
    "\n",
    "For the imaginary part too, the  moduli multiply while the arguments\n",
    "add.   "
   ]
  },
  {
   "cell_type": "markdown",
   "metadata": {
    "slideshow": {
     "slide_type": "subslide"
    }
   },
   "source": [
    "This gives a relatively compact and highly geometric result\n",
    "for the product:\n",
    "\n",
    "$$z_1\\cdot z_2 = r_1r_2(\\cos(\\theta_1 + \\theta_2)+i\\sin(\\theta_1 + \\theta_2))$$\n"
   ]
  },
  {
   "cell_type": "markdown",
   "metadata": {
    "slideshow": {
     "slide_type": "fragment"
    }
   },
   "source": [
    "It is **multiplicative** in the modulus and **additive** in the argument:\n",
    "\n",
    "$$|z_1z_2|= |z_1\\cdot |z_2|$$\n",
    "$$\\arg(z_1z_2)=\\arg (z_1)+ \\arg( z_2)$$\n",
    "\n",
    "\n",
    "This means that when we multiply by $z$, we are **rotating** through the angle $\\arg(z)$ and  **radially stretching** by a factor of $|z|$."
   ]
  },
  {
   "cell_type": "markdown",
   "metadata": {
    "slideshow": {
     "slide_type": "slide"
    }
   },
   "source": [
    "## A Remarkable Connection with $e^{i\\theta}$:\n",
    "\n",
    "First, think of $z=\\cos\\theta + i\\sin\\theta$ as a function of $\\theta$ and differentiate with respect to $\\theta$:\n",
    "\n",
    "$${\\rm~~(1)~~~~}\\frac{{\\rm d}z}{{\\rm d}\\theta}=\\frac{{\\rm d}}{{\\rm d}\\theta}\\left(\\cos\\theta+i\\sin\\theta\\right)=-\\sin\\theta+i\\cos\\theta$$"
   ]
  },
  {
   "cell_type": "markdown",
   "metadata": {
    "slideshow": {
     "slide_type": "fragment"
    }
   },
   "source": [
    "Next notice that the right-hand side is just the product $iz$:\n",
    "\n",
    "$${\\rm~~(2)~~~~}iz=i(\\cos\\theta+i\\sin\\theta)=i\\cos\\theta+i^2\\sin\\theta=-\\sin\\theta+i\\cos\\theta$$"
   ]
  },
  {
   "cell_type": "markdown",
   "metadata": {
    "slideshow": {
     "slide_type": "fragment"
    }
   },
   "source": [
    "Thus from (1) and (2) $$\\frac{{\\rm d}z}{{\\rm d}\\theta}=iz$$"
   ]
  },
  {
   "cell_type": "markdown",
   "metadata": {
    "slideshow": {
     "slide_type": "slide"
    }
   },
   "source": [
    "This is a separable differential equation. Thus:\n",
    "$$\\int{dz\\over iz}=\\int d\\theta~~~~~~~~~\\Rightarrow~~~~~~{1\\over\n",
    "i}~\\ln z =\\theta +c~~~~\\Rightarrow~~~~\\ln z =i\\theta +ic$$ In\n",
    "exponential form:\n",
    "$$z=e^{i\\theta+ic}~~=~~e^{i\\theta}~e^{ic}~~=~~Ae^{i\\theta}~~~~{\\rm~ with}~~~~\n",
    "A=e^{ic}$$"
   ]
  },
  {
   "cell_type": "markdown",
   "metadata": {
    "slideshow": {
     "slide_type": "fragment"
    }
   },
   "source": [
    "When $\\theta=0$, $z=1$ giving $A=1$, so:\n",
    "$$z=\\cos\\theta + i \\sin\\theta=e^{i\\theta}~~~~~~~~~~~~\\rm (1)$$\n"
   ]
  },
  {
   "cell_type": "markdown",
   "metadata": {
    "slideshow": {
     "slide_type": "fragment"
    }
   },
   "source": [
    "Similarly we can show that:\n",
    "$$z=\\cos\\theta - i \\sin\\theta=e^{-i\\theta}~~~~~~~~~~~~\\rm (2)$$\n"
   ]
  },
  {
   "cell_type": "markdown",
   "metadata": {
    "slideshow": {
     "slide_type": "fragment"
    }
   },
   "source": [
    "Adding  (1) and (2) and subtracting (1) and (2) gives:\n",
    "$$\\cos\\theta ={e^{i\\theta}+ e^{-i\\theta}\\over 2}~~~~~~~~~~~~~~~~~~~~~~~~~\n",
    "\\sin\\theta ={ e^{i\\theta}-e^{-i\\theta}\\over 2i}$$"
   ]
  },
  {
   "cell_type": "markdown",
   "metadata": {
    "slideshow": {
     "slide_type": "slide"
    }
   },
   "source": [
    "Thus **any complex number** can now be written:\n",
    "$$z=x+iy=r(\\cos\\theta + i\\sin\\theta)=r~e^{i\\theta}$$\n"
   ]
  },
  {
   "cell_type": "markdown",
   "metadata": {
    "slideshow": {
     "slide_type": "fragment"
    }
   },
   "source": [
    "Several important consequences:\n",
    "\n",
    "1. Any complex number can be written in the polar form $z = re^{i\\theta}$ where $r=|z|$ and $\\theta=\\arg(z)$.\n",
    "\n",
    "2. The unit circle in $\\mathbb{C}$ consists exactly of those complex numbers with \n",
    "   modulus equal to 1, that is the numbers $e^{i\\theta}$.\n",
    "\n",
    "3. Multiplication on the unit circle $r=1$ can be carried out by adding the \n",
    "   angles:\n",
    "\n",
    "$$e^{i\\theta_1}\\cdot e^{i\\theta_2} = e^{i(\\theta_1+\\theta_2)}$$"
   ]
  },
  {
   "cell_type": "markdown",
   "metadata": {
    "slideshow": {
     "slide_type": "slide"
    }
   },
   "source": [
    "$$z=x+iy=r(\\cos\\theta + i\\sin\\theta)=r~e^{i\\theta}$$\n",
    "\n",
    "\n",
    "Other important consequences:\n",
    "\n",
    "\n",
    "4. Exponentiation on the unit circle $r=1$ can be done by multiplying the angle \n",
    "   by the index:\n",
    "\n",
    "$$\\left(e^{i\\theta}\\right)^n = e^{i\\theta n}=e^{i(n\\theta)}$$\n",
    "\n",
    "5. This result is known as **DeMoivre's Theorem**.  It is usually stated in its \n",
    "   cartesian form:\n",
    "\n",
    "$$(\\cos\\theta + i\\sin\\theta)^n=\\cos(n\\theta) + i\\sin(n\\theta)$$"
   ]
  },
  {
   "cell_type": "markdown",
   "metadata": {
    "slideshow": {
     "slide_type": "slide"
    }
   },
   "source": [
    "6.  Finally, the famous identity by Leonhard Euler \n",
    "\n",
    "$$e^{\\pi i}+1=0$$"
   ]
  }
 ],
 "metadata": {
  "celltoolbar": "Slideshow",
  "kernelspec": {
   "display_name": "Python 3",
   "language": "python",
   "name": "python3"
  },
  "language_info": {
   "codemirror_mode": {
    "name": "ipython",
    "version": 3
   },
   "file_extension": ".py",
   "mimetype": "text/x-python",
   "name": "python",
   "nbconvert_exporter": "python",
   "pygments_lexer": "ipython3",
   "version": "3.8.5"
  }
 },
 "nbformat": 4,
 "nbformat_minor": 2
}
