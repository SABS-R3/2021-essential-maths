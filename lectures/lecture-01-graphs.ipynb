{
 "cells": [
  {
   "cell_type": "markdown",
   "metadata": {
    "hideCode": false,
    "hidePrompt": false,
    "slideshow": {
     "slide_type": "slide"
    }
   },
   "source": [
    "# Lecture 1\n",
    "\n",
    "## Graphs"
   ]
  },
  {
   "cell_type": "code",
   "execution_count": null,
   "metadata": {
    "hideCode": false,
    "hidePrompt": false,
    "scrolled": false,
    "slideshow": {
     "slide_type": "skip"
    }
   },
   "outputs": [],
   "source": [
    "import numpy as np\n",
    "\n",
    "##################################################\n",
    "##### Matplotlib boilerplate for consistency #####\n",
    "##################################################\n",
    "from ipywidgets import interact\n",
    "from ipywidgets import FloatSlider\n",
    "from matplotlib import pyplot as plt\n",
    "\n",
    "%matplotlib inline\n",
    "\n",
    "from IPython.display import set_matplotlib_formats\n",
    "set_matplotlib_formats('svg')\n",
    "\n",
    "global_fig_width = 10\n",
    "global_fig_height = global_fig_width / 1.61803399\n",
    "font_size = 12\n",
    "\n",
    "plt.rcParams['axes.axisbelow'] = True\n",
    "plt.rcParams['axes.edgecolor'] = '0.8'\n",
    "plt.rcParams['axes.grid'] = True\n",
    "plt.rcParams['axes.labelpad'] = 8\n",
    "plt.rcParams['axes.linewidth'] = 2\n",
    "plt.rcParams['axes.titlepad'] = 16.0\n",
    "plt.rcParams['axes.titlesize'] = font_size * 1.4\n",
    "plt.rcParams['figure.figsize'] = (global_fig_width, global_fig_height)\n",
    "plt.rcParams['font.sans-serif'] = ['Computer Modern Sans Serif', 'DejaVu Sans', 'sans-serif']\n",
    "plt.rcParams['font.size'] = font_size\n",
    "plt.rcParams['grid.color'] = '0.8'\n",
    "plt.rcParams['grid.linestyle'] = 'dashed'\n",
    "plt.rcParams['grid.linewidth'] = 2\n",
    "plt.rcParams['lines.dash_capstyle'] = 'round'\n",
    "plt.rcParams['lines.dashed_pattern'] = [1, 4]\n",
    "plt.rcParams['xtick.labelsize'] = font_size\n",
    "plt.rcParams['xtick.major.pad'] = 4\n",
    "plt.rcParams['xtick.major.size'] = 0\n",
    "plt.rcParams['ytick.labelsize'] = font_size\n",
    "plt.rcParams['ytick.major.pad'] = 4\n",
    "plt.rcParams['ytick.major.size'] = 0\n",
    "##################################################"
   ]
  },
  {
   "cell_type": "markdown",
   "metadata": {
    "hideCode": false,
    "hidePrompt": false,
    "slideshow": {
     "slide_type": "slide"
    }
   },
   "source": [
    "# Basics\n",
    "\n",
    "Terminology:\n",
    "\n",
    "- $Y$ or $y$ is the *dependent* variable, sometimes called the *ordinate*\n",
    "  marked on the vertical axis\n",
    "- $X$ or $x$ is the *independent* variable, sometimes called the *abscissa*\n",
    "  marked on the horizontal axis\n",
    "- The dependent variable is said to be graphed *against* the independent \n",
    "  variable\n",
    "\n",
    "Essential Features:\n",
    "\n",
    "- Title\n",
    "- Axis labels (and units if appropriate)"
   ]
  },
  {
   "cell_type": "code",
   "execution_count": null,
   "metadata": {
    "scrolled": false,
    "slideshow": {
     "slide_type": "skip"
    }
   },
   "outputs": [],
   "source": [
    "# Fake data for example plot\n",
    "x = np.linspace(0, 25, 100)\n",
    "e = np.random.normal(0, 0.2, 100)\n",
    "y = np.sin(x) + e"
   ]
  },
  {
   "cell_type": "code",
   "execution_count": null,
   "metadata": {
    "hideCode": false,
    "hideOutput": false,
    "hidePrompt": false,
    "scrolled": false,
    "slideshow": {
     "slide_type": "subslide"
    }
   },
   "outputs": [],
   "source": [
    "import matplotlib.pyplot as plt\n",
    "plt.title('Plot title')   \n",
    "plt.xlabel('x-label (units)')\n",
    "plt.ylabel('y-label (units)')\n",
    "plt.plot(x, y, 'o');"
   ]
  },
  {
   "cell_type": "markdown",
   "metadata": {
    "hideCode": false,
    "hidePrompt": false,
    "slideshow": {
     "slide_type": "slide"
    }
   },
   "source": [
    "\n",
    "# Equation of a straight line\n",
    "\n",
    "Defined by a gradient, $m$, and a $y$-axis intercept, $c$:\n",
    "\n",
    "$$y = m x + c$$\n",
    "\n",
    "Interpretation:\n",
    "\n",
    "- The intercept of this line on the $y$ axis is given by $y=c$, since at $x=0$, \n",
    "  $y = c$\n",
    "\n",
    "\n",
    "- The gradient of this line (also called its \"slope\") is given by \n",
    "  $$m = {y_2-y_1\\over x_2 - x_1}$$\n",
    "  (\"change in $y$ divided by change in $x$\")\n",
    "\n",
    "\n",
    "- The intercept of this line on the $x$ axis is given by $x = -{c \\over m}$, \n",
    "  since at $y=0$ we must have $mx=-c$"
   ]
  },
  {
   "cell_type": "markdown",
   "metadata": {
    "hideCode": false,
    "hidePrompt": false,
    "slideshow": {
     "slide_type": "slide"
    }
   },
   "source": [
    "# Graphs of Polynomials\n",
    "\n",
    "An expression involving higher powers of $x$ is called a *polynomial* in $x$.\n",
    "\n"
   ]
  },
  {
   "cell_type": "markdown",
   "metadata": {
    "slideshow": {
     "slide_type": "subslide"
    }
   },
   "source": [
    "## Example\n",
    "\n",
    "$y=x^5-5x^3+4x$\n",
    "\n"
   ]
  },
  {
   "cell_type": "code",
   "execution_count": null,
   "metadata": {
    "scrolled": false,
    "slideshow": {
     "slide_type": "subslide"
    }
   },
   "outputs": [],
   "source": [
    "import numpy as np\n",
    "x = np.linspace(-2.2, 2.2, 100) # use 100 regularly spaced x-points from -2.2 to 2.2\n",
    "y = x**5 - 5.0*x**3 + 4*x       # generate y values of polynomial from x\n",
    "plt.title('Example polynomial')\n",
    "plt.xlabel('$x$')\n",
    "plt.ylabel('$y=x^5-5x^3+4x$')\n",
    "plt.plot(x, y);"
   ]
  },
  {
   "cell_type": "markdown",
   "metadata": {
    "slideshow": {
     "slide_type": "subslide"
    }
   },
   "source": [
    "## In general\n",
    "\n",
    "$$y = a_n x^n + a_{n-1} x^{n-1} + a_{n-2} x^{n-2}+\\ldots+a_1 x^1 + a_0x^0$$\n",
    "\n",
    "The graph of a polynomial of degree $n$ has at most $n-1$ bends in it."
   ]
  },
  {
   "cell_type": "markdown",
   "metadata": {
    "hideCode": false,
    "hidePrompt": false,
    "slideshow": {
     "slide_type": "slide"
    }
   },
   "source": [
    "# Transforming from non-linear to linear\n",
    "\n",
    "If we wish to test visually whether some data fit a particular relationship, we can transform the data to plot something which should be linear if the relationship holds.\n",
    "\n",
    "## e.g. Test for *parabolic* shape for data in $(x,y)$: i.e. $y = x^2$\n",
    "\n",
    "- We can plot $Y$ against $X$ where we let $Y=y$ and $X=x^2$."
   ]
  },
  {
   "cell_type": "code",
   "execution_count": null,
   "metadata": {
    "hideCode": false,
    "hidePrompt": false,
    "scrolled": false,
    "slideshow": {
     "slide_type": "skip"
    }
   },
   "outputs": [],
   "source": [
    "# Generate figs for \"transforming from non-linear to linear\"\n",
    "\n",
    "x = np.random.uniform(0, 8, 100)\n",
    "e = np.random.normal(0, 8.0, 100)\n",
    "y = 5. * x * x + 87. + e\n",
    "\n"
   ]
  },
  {
   "cell_type": "markdown",
   "metadata": {
    "hideCode": false,
    "hidePrompt": false,
    "slideshow": {
     "slide_type": "subslide"
    }
   },
   "source": [
    "### First plot the original data\n",
    "There's a definite curve, and we may suspect the trend is quadratic"
   ]
  },
  {
   "cell_type": "code",
   "execution_count": null,
   "metadata": {
    "hideCode": false,
    "hidePrompt": false,
    "scrolled": false,
    "slideshow": {
     "slide_type": "subslide"
    }
   },
   "outputs": [],
   "source": [
    "plt.title('Nonlinear trend')\n",
    "plt.xlabel('$X=x$')\n",
    "plt.ylabel('$Y=y$')\n",
    "plt.plot(x, y, 'o');"
   ]
  },
  {
   "cell_type": "markdown",
   "metadata": {
    "hideCode": false,
    "hidePrompt": false,
    "slideshow": {
     "slide_type": "subslide"
    }
   },
   "source": [
    "### Now plot the data nonlinearly\n",
    "\n",
    "If the parabolic relationship holds, plotting $Y=y$ against $X=x^2$ should result in a straight line."
   ]
  },
  {
   "cell_type": "code",
   "execution_count": null,
   "metadata": {
    "hideCode": false,
    "hidePrompt": false,
    "scrolled": false,
    "slideshow": {
     "slide_type": "subslide"
    }
   },
   "outputs": [],
   "source": [
    "xx = x * x\n",
    "plt.title('Linear trend')\n",
    "plt.xlabel('$X=x^2$')\n",
    "plt.ylabel('$Y=y$')\n",
    "plt.plot(xx, y, 'o');"
   ]
  },
  {
   "cell_type": "markdown",
   "metadata": {
    "hideCode": false,
    "hidePrompt": false,
    "slideshow": {
     "slide_type": "subslide"
    }
   },
   "source": [
    "### Calculate the gradient and the intercept\n",
    "\n",
    "We next add a trendline through these points which we can use to determine the gradient and intercept."
   ]
  },
  {
   "cell_type": "code",
   "execution_count": null,
   "metadata": {
    "hideCode": false,
    "hidePrompt": false,
    "scrolled": false,
    "slideshow": {
     "slide_type": "skip"
    }
   },
   "outputs": [],
   "source": [
    "m_widget = FloatSlider(value=5.0, min=4.0, max=6.0, step=0.1, continuous_update=False)\n",
    "c_widget = FloatSlider(value=87.0, min=2.0, max=172.0, step=5.0, continuous_update=False)\n",
    "\n",
    "def add_line(m, c):\n",
    "    plt.title('Linear trend with trendline')\n",
    "    plt.xlabel('$X=x^2$')\n",
    "    plt.ylabel('$Y=y$')\n",
    "    plt.plot(xx, y, 'o');\n",
    "    plt.plot([0., 64.], [c, 64. * m + c]);"
   ]
  },
  {
   "cell_type": "code",
   "execution_count": null,
   "metadata": {
    "scrolled": false,
    "slideshow": {
     "slide_type": "subslide"
    }
   },
   "outputs": [],
   "source": [
    "interact(add_line, m=m_widget, c=c_widget, continuous_update=False);"
   ]
  },
  {
   "cell_type": "markdown",
   "metadata": {
    "slideshow": {
     "slide_type": "subslide"
    }
   },
   "source": [
    "- We find $(X,Y)$ lie along a straight line with slope 5 and Y-intercept 87.\n",
    "\n",
    "\n",
    "- This means that $Y=5X+87$ \n",
    "\n",
    "\n",
    "- So, $y$ and $x$ can be modelled by the polynomial equation $y=5x^2+87$."
   ]
  },
  {
   "cell_type": "markdown",
   "metadata": {
    "hideCode": false,
    "hidePrompt": false,
    "slideshow": {
     "slide_type": "slide"
    }
   },
   "source": [
    "# Example from biosciences\n",
    "\n",
    "The rate at which a given enzyme can catalyse a reaction can be dependent upon the substrate concentration:\n",
    "$${1\\over V} = {m\\over S} + c$$\n",
    "\n",
    "\n",
    "where $V$ is the rate of the reaction, $S$ is the substrate concentration and \n",
    "$m$ and $c$ are constants.\n",
    "\n",
    "\n",
    "- We can derive a straight line graph from the above formula by plotting \n",
    "   $Y=1/V$ against $X=1/S$\n",
    "\n",
    "\n",
    "- It will have gradient $m$ and ordinate intercept $c$\n",
    "\n",
    "\n",
    "First, plot the original data which is observations of $V$ given varying $S$:"
   ]
  },
  {
   "cell_type": "code",
   "execution_count": null,
   "metadata": {
    "scrolled": false,
    "slideshow": {
     "slide_type": "skip"
    }
   },
   "outputs": [],
   "source": [
    "# Generate figs for \"transforming from non-linear to linear\"\n",
    "\n",
    "m = 3\n",
    "c = 5\n",
    "e = np.random.normal(0, 0.001, 100)\n",
    "S = np.random.uniform(0.2,0.8,100)\n",
    "V = e + S/(m+c*S)"
   ]
  },
  {
   "cell_type": "code",
   "execution_count": null,
   "metadata": {
    "scrolled": false,
    "slideshow": {
     "slide_type": "subslide"
    }
   },
   "outputs": [],
   "source": [
    "plt.title('Original data')\n",
    "plt.xlabel('$S$')\n",
    "plt.ylabel('$V$')\n",
    "plt.plot(S, V, 'o');"
   ]
  },
  {
   "cell_type": "markdown",
   "metadata": {
    "slideshow": {
     "slide_type": "subslide"
    }
   },
   "source": [
    "### Now plot the data nonlinearly\n",
    "\n",
    "If the hypothesised relationship holds, plotting $Y=1/V$ against $X=1/S$ should result in a straight line."
   ]
  },
  {
   "cell_type": "code",
   "execution_count": null,
   "metadata": {
    "scrolled": false,
    "slideshow": {
     "slide_type": "subslide"
    }
   },
   "outputs": [],
   "source": [
    "plt.title('Linear trend')\n",
    "plt.xlabel('$X=1/S$')\n",
    "plt.ylabel('$Y=1/V$')\n",
    "plt.plot(1/S, 1/V, 'o');"
   ]
  },
  {
   "cell_type": "markdown",
   "metadata": {
    "slideshow": {
     "slide_type": "subslide"
    }
   },
   "source": [
    "### Calculate the gradient and the intercept\n",
    "\n",
    "We next add a trendline through these points which we can use to determine the gradient and intercept."
   ]
  },
  {
   "cell_type": "code",
   "execution_count": null,
   "metadata": {
    "scrolled": false,
    "slideshow": {
     "slide_type": "skip"
    }
   },
   "outputs": [],
   "source": [
    "m_widget = FloatSlider(value=3.0, min=2.0, max=4.0, step=0.1, continuous_update=False)\n",
    "c_widget = FloatSlider(value=5.0, min=0.0, max=10.0, step=0.5, continuous_update=False)\n",
    "\n",
    "def add_line(m, c):\n",
    "    plt.title('Linear trend with trendline')\n",
    "    plt.xlabel('$X=1/S$')\n",
    "    plt.ylabel('$Y=1/V$')\n",
    "    plt.plot(1/S, 1/V, 'o');\n",
    "    plt.plot([1.25, 5.0], [1.25*m+c, 5.0*m+c]);"
   ]
  },
  {
   "cell_type": "code",
   "execution_count": null,
   "metadata": {
    "scrolled": false,
    "slideshow": {
     "slide_type": "subslide"
    }
   },
   "outputs": [],
   "source": [
    "interact(add_line, m=m_widget, c=c_widget, continuous_update=False);"
   ]
  },
  {
   "cell_type": "markdown",
   "metadata": {
    "slideshow": {
     "slide_type": "subslide"
    }
   },
   "source": [
    "- We find $(X,Y)$ lie along a straight line with slope 3 and Y-intercept 5.\n",
    "\n",
    "- This means that $Y=3X+5$ \n",
    "\n",
    "- So, $V$ and $S$ can be modelled by the equation $1/V=3/S+5$."
   ]
  }
 ],
 "metadata": {
  "kernelspec": {
   "display_name": "Python 3",
   "language": "python",
   "name": "python3"
  },
  "language_info": {
   "codemirror_mode": {
    "name": "ipython",
    "version": 3
   },
   "file_extension": ".py",
   "mimetype": "text/x-python",
   "name": "python",
   "nbconvert_exporter": "python",
   "pygments_lexer": "ipython3",
   "version": "3.8.5"
  }
 },
 "nbformat": 4,
 "nbformat_minor": 2
}
