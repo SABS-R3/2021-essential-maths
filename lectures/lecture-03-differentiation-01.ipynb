{
 "cells": [
  {
   "cell_type": "markdown",
   "metadata": {
    "slideshow": {
     "slide_type": "slide"
    }
   },
   "source": [
    "# Lecture 3\n",
    "\n",
    "## Differentiation I:\n",
    "\n",
    "### Introduction and Interpretation"
   ]
  },
  {
   "cell_type": "code",
   "execution_count": null,
   "metadata": {
    "slideshow": {
     "slide_type": "skip"
    }
   },
   "outputs": [],
   "source": [
    "import numpy as np\n",
    "\n",
    "##################################################\n",
    "##### Matplotlib boilerplate for consistency #####\n",
    "##################################################\n",
    "from ipywidgets import interact\n",
    "from ipywidgets import FloatSlider\n",
    "from matplotlib import pyplot as plt\n",
    "\n",
    "%matplotlib inline\n",
    "\n",
    "from IPython.display import set_matplotlib_formats\n",
    "set_matplotlib_formats('svg')\n",
    "\n",
    "global_fig_width = 10\n",
    "global_fig_height = global_fig_width / 1.61803399\n",
    "font_size = 12\n",
    "\n",
    "plt.rcParams['axes.axisbelow'] = True\n",
    "plt.rcParams['axes.edgecolor'] = '0.8'\n",
    "plt.rcParams['axes.grid'] = True\n",
    "plt.rcParams['axes.labelpad'] = 8\n",
    "plt.rcParams['axes.linewidth'] = 2\n",
    "plt.rcParams['axes.titlepad'] = 16.0\n",
    "plt.rcParams['axes.titlesize'] = font_size * 1.4\n",
    "plt.rcParams['figure.figsize'] = (global_fig_width, global_fig_height)\n",
    "plt.rcParams['font.sans-serif'] = ['Computer Modern Sans Serif', 'DejaVu Sans', 'sans-serif']\n",
    "plt.rcParams['font.size'] = font_size\n",
    "plt.rcParams['grid.color'] = '0.8'\n",
    "plt.rcParams['grid.linestyle'] = 'dashed'\n",
    "plt.rcParams['grid.linewidth'] = 2\n",
    "plt.rcParams['lines.dash_capstyle'] = 'round'\n",
    "plt.rcParams['lines.dashed_pattern'] = [1, 4]\n",
    "plt.rcParams['xtick.labelsize'] = font_size\n",
    "plt.rcParams['xtick.major.pad'] = 4\n",
    "plt.rcParams['xtick.major.size'] = 0\n",
    "plt.rcParams['ytick.labelsize'] = font_size\n",
    "plt.rcParams['ytick.major.pad'] = 4\n",
    "plt.rcParams['ytick.major.size'] = 0\n",
    "##################################################"
   ]
  },
  {
   "cell_type": "markdown",
   "metadata": {
    "slideshow": {
     "slide_type": "slide"
    }
   },
   "source": [
    "## Gradients\n",
    "\n",
    "We often want to know about the *rate* at which one quantity changes over time.\n",
    "Examples:\n",
    "1. The rate of disappearance of substrate with time in an enzyme reaction. \n",
    "1. The rate of decay of a radioactive substance (how long will it have activity above a certain level?)\n",
    "1. The rate of bacterial cell growth over time.\n",
    "1. How quickly an epidemic is growing.\n"
   ]
  },
  {
   "cell_type": "markdown",
   "metadata": {
    "slideshow": {
     "slide_type": "slide"
    }
   },
   "source": [
    "### Defining the gradient\n",
    "\n",
    "* The **gradient of a curve** at a point $P$ is the slope of the tangent of the curve at that point.\n",
    "* The **tangent** is the line that \"just touches\" (but doesn't cross) the curve.\n",
    "* The gradient is also known as the **rate of change** or **derivative**, and the process of finding the gradient is called **differentiation**.\n",
    "* The gradient of the curve $\\;y = f(x)\\;$ is denoted in a few different ways, the three most common are:\n",
    "\n",
    "$$ y', \\quad f'(x), \\quad \\frac{dy}{dx}. $$"
   ]
  },
  {
   "cell_type": "markdown",
   "metadata": {
    "slideshow": {
     "slide_type": "subslide"
    }
   },
   "source": [
    "## Example, $y = x^2$"
   ]
  },
  {
   "cell_type": "code",
   "execution_count": null,
   "metadata": {
    "slideshow": {
     "slide_type": "skip"
    }
   },
   "outputs": [],
   "source": [
    "x1_widget = FloatSlider(value=1.0, min=-3., max=3., step=0.2, continuous_update=False)\n",
    "\n",
    "_x = np.linspace(-5,5,50)\n",
    "\n",
    "def add_line(x):\n",
    "    plt.title('$y=x^2$')\n",
    "    plt.xlabel('$x$')\n",
    "    plt.ylabel('$y=x^2$')\n",
    "    plt.xlim((-4.,4.))\n",
    "    plt.ylim((-5.,17.))\n",
    "    plt.plot(_x, _x**2);\n",
    "    plt.plot([x-10., x, x+10.], [x*x-20.*x, x*x, x*x+20.*x]);\n",
    "    plt.plot(x, x*x, 'ko')"
   ]
  },
  {
   "cell_type": "code",
   "execution_count": null,
   "metadata": {},
   "outputs": [],
   "source": [
    "interact(add_line, x=x1_widget, continuous_update=False);"
   ]
  },
  {
   "cell_type": "markdown",
   "metadata": {
    "slideshow": {
     "slide_type": "subslide"
    }
   },
   "source": [
    "## Example, $y = \\log(x)$"
   ]
  },
  {
   "cell_type": "code",
   "execution_count": null,
   "metadata": {
    "slideshow": {
     "slide_type": "skip"
    }
   },
   "outputs": [],
   "source": [
    "x_widget = FloatSlider(value=1.0, min=.4, max=1.8, step=0.05, continuous_update=False)\n",
    "\n",
    "_x2 = np.linspace(0.2,2.,50)\n",
    "\n",
    "def add_line(x):\n",
    "    plt.title('$y=log(x)$')\n",
    "    plt.xlabel('$x$')\n",
    "    plt.ylabel('$y=\\log(x)$')\n",
    "    plt.xlim((0.2,2.))\n",
    "    plt.ylim((-2.,1.))\n",
    "    plt.plot(_x2, np.log(_x2));\n",
    "    plt.plot([x-10., x, x+10.], [np.log(x)-10./x, np.log(x), np.log(x)+10./x]);\n",
    "    plt.plot(x, np.log(x), 'ko')"
   ]
  },
  {
   "cell_type": "code",
   "execution_count": null,
   "metadata": {
    "slideshow": {
     "slide_type": "subslide"
    }
   },
   "outputs": [],
   "source": [
    "interact(add_line, x=x_widget, continuous_update=False);"
   ]
  },
  {
   "cell_type": "markdown",
   "metadata": {
    "slideshow": {
     "slide_type": "slide"
    }
   },
   "source": [
    "### Algebraic example\n",
    "\n",
    "\n",
    "If we want to find $y'(x)$ for $y = x^3 + 2$:\n",
    "\n",
    "\n",
    "$$ \\text{Gradient} = \\frac{y_2 - y_1}{x_2-x_1} = \\frac{\\Delta y}{\\Delta x}$$\n",
    "\n",
    "\n",
    "Try with\n",
    "\n",
    "$x_1 = 1.5,\\;1.9,\\;1.99,\\;\\ldots$\n",
    "\n",
    "$x_2 = 2.5,\\;2.1,\\;2.01,\\;\\ldots$"
   ]
  },
  {
   "cell_type": "code",
   "execution_count": null,
   "metadata": {
    "slideshow": {
     "slide_type": "subslide"
    }
   },
   "outputs": [],
   "source": [
    "x_1 = 1.5; x_2 = 2.5\n",
    "y_1 = x_1**3 + 2; y_2 = x_2**3 + 2\n",
    "print((y_2-y_1)/(x_2-x_1))\n",
    "\n",
    "x_1 = 1.9; x_2 = 2.1\n",
    "y_1 = x_1**3 + 2; y_2 = x_2**3 + 2\n",
    "print((y_2-y_1)/(x_2-x_1))\n",
    "\n",
    "x_1 = 1.99; x_2 = 2.01\n",
    "y_1 = x_1**3 + 2; y_2 = x_2**3 + 2\n",
    "print((y_2-y_1)/(x_2-x_1))"
   ]
  },
  {
   "cell_type": "markdown",
   "metadata": {
    "slideshow": {
     "slide_type": "subslide"
    }
   },
   "source": [
    "As the difference between $x_1$ and $x_2$ gets smaller, the gradient stabilises. The value it converges to is the gradient at the midway point of $x_1$ and $x_2$. "
   ]
  },
  {
   "cell_type": "markdown",
   "metadata": {
    "slideshow": {
     "slide_type": "slide"
    }
   },
   "source": [
    "## Calculating gradients exactly\n",
    "\n",
    "$\\text{Gradient} \\approx \\frac{\\Delta y}{\\Delta x} = \\frac{f(x+h) - f(x)}{h}$\n",
    "\n",
    "This is called a finite difference approximation to the gradient. The approximation becomes more accurate the smaller h is.\n",
    "\n",
    "When using the approximation, we denote the changes as $\\frac{\\Delta y}{\\Delta x}$, in the limit as h goes to 0, this becomes $\\frac{dy}{dx}$. \n",
    "\n",
    "In this way, $\\frac{d}{dx}$ is an operator, acting on $y$.\n",
    "\n",
    "Note, the $d$s cannot be cancelled out, as they aren't variables, they denote an infinitely small change. "
   ]
  },
  {
   "cell_type": "code",
   "execution_count": null,
   "metadata": {
    "slideshow": {
     "slide_type": "skip"
    }
   },
   "outputs": [],
   "source": [
    "h_widget = FloatSlider(value=5.0, min=0.05, max=9., step=0.05, continuous_update=False)\n",
    "\n",
    "_x3 = np.linspace(-2,11,50)\n",
    "\n",
    "def add_line(h):\n",
    "    plt.title('$y=x^2$')\n",
    "    plt.xlabel('$x$')\n",
    "    plt.ylabel('$y=x^2$')\n",
    "    plt.xlim((-2.,11.))\n",
    "    plt.ylim((-15.,121.))\n",
    "    plt.plot(_x3, _x3**2);\n",
    "    plt.plot([-8., 12.], [-36., 44.]);\n",
    "    plt.plot([12, -8], [4. + 10.*((2+h)**2-4)/h, 4. - 10.*((2+h)**2-4)/h]);\n",
    "    plt.plot([2., 2.+h], [4., (2.+h)**2], 'ko')"
   ]
  },
  {
   "cell_type": "code",
   "execution_count": null,
   "metadata": {
    "slideshow": {
     "slide_type": "subslide"
    }
   },
   "outputs": [],
   "source": [
    "interact(add_line, h=h_widget, continuous_update=False);"
   ]
  },
  {
   "cell_type": "markdown",
   "metadata": {
    "slideshow": {
     "slide_type": "subslide"
    }
   },
   "source": [
    "### Example\n",
    "\n",
    "Find the gradient of $y = f(x) = x^3 + 2$. \n",
    "\n",
    "$\\frac{dy}{dx} = \\frac{f(x+h) - f(x)}{h}$\n",
    "\n",
    "$\\frac{dy}{dx} = \\frac{(x+h)^3 + 2 - (x^3 + 2)}{h}$\n",
    "\n",
    "$\\frac{dy}{dx} = \\frac{x^3 + 3x^2 h + 3xh^2 + h^3 + 2 - x^3 - 2}{h}$\n",
    "\n",
    "$\\frac{dy}{dx} = \\frac{3x^2h + 3xh^2 + h^3}{h}$\n",
    "\n",
    "$\\frac{dy}{dx} = 3x^2 + 3xh + h^3$\n",
    "\n",
    "Now this is only exactly right when $h \\rightarrow 0$. So letting that happen, we have\n",
    "$\\frac{dy}{dx} = 3x^2$"
   ]
  },
  {
   "cell_type": "markdown",
   "metadata": {
    "slideshow": {
     "slide_type": "slide"
    }
   },
   "source": [
    "## Derivative of polynomial functions\n",
    "Using techniques like the one above (which is called differentiation from first principles), one can generalise the connection between powers of $x$ and their derivatives:\n",
    "\n",
    "If $y = a x^n$, then its **derivative** is\n",
    "$\\frac{dy}{dx} = y'(x) = a n x^{n-1}$\n",
    "\n"
   ]
  },
  {
   "cell_type": "markdown",
   "metadata": {
    "slideshow": {
     "slide_type": "subslide"
    }
   },
   "source": [
    "### Examples to try\n",
    "1. $y = x^4$\n",
    "2. $y = 7x^5$\n",
    "3. $y = x^{-2} = \\frac{1}{x^2}$\n",
    "4. $y = \\sqrt{1/x} = (1/x)^{1/2} = x^{-1/2}$"
   ]
  },
  {
   "cell_type": "markdown",
   "metadata": {
    "slideshow": {
     "slide_type": "subslide"
    }
   },
   "source": [
    "## Summing and multiplying derivatives\n",
    "### Summing\n",
    "\n",
    "$(f(x) \\pm g(x))' = f'(x) \\pm g'(x)$\n",
    "\n",
    "e.g.\n",
    "\n",
    "$y = x^2 + x^3, \\quad y' = 2x + 3x^2$"
   ]
  },
  {
   "cell_type": "markdown",
   "metadata": {
    "slideshow": {
     "slide_type": "subslide"
    }
   },
   "source": [
    "### Multiplying (by a scalar)\n",
    "$ (a f(x))' = a f'(x)$\n",
    "\n",
    "e.g.\n",
    "\n",
    "$y = 6x^3, \\quad y' = 6 \\cdot 3x^2 = 18 x^2$\n",
    "\n",
    "**This only works for scalars**.\n",
    "\n",
    "In most circumstances $(f(x) g(x))' \\neq f(x)' g(x)'$\n",
    "\n",
    "e.g.\n",
    "\n",
    "$y = x\\cdot x = x^2, \\quad y' \\neq 1$"
   ]
  },
  {
   "cell_type": "markdown",
   "metadata": {
    "slideshow": {
     "slide_type": "subslide"
    }
   },
   "source": [
    "## Higher-order derivatives\n",
    "You can take a derivative of a function multiple times in a row. This is usually denoted either $y''(x),\\;\\;f''(x)\\;$ or $\\;\\frac{d^2 y}{dx^2}\\;$ for second-order derivatives (differentiating twice), and similar for higher orders. \n",
    "\n",
    "e.g.\n",
    "\n",
    "$y = x^3$\n",
    "\n",
    "$y' = 3x^2$\n",
    "\n",
    "$y'' = \\frac{d^2 y}{dx^2} = 6 x$"
   ]
  },
  {
   "cell_type": "markdown",
   "metadata": {
    "slideshow": {
     "slide_type": "slide"
    }
   },
   "source": [
    "## Interpreting derivatives:\n",
    "\n",
    "The sign of the first derivative $\\;f'(x)\\;$ tells us how $\\;f(x)\\;$ is growing\n",
    "\n",
    "- Positive gradient: If $\\;y' > 0\\;$ then $\\;y\\;$ is **increasing** at $\\;x\\;$\n",
    "- Negative gradient: If $\\;y' < 0\\;$ then $\\;y\\;$ is **decreasing** at $\\;x\\;$\n",
    "- Zero gradient: If $\\;y' = 0\\;$ then $\\;y\\;$ is not changing (flat) at $\\;x\\;$\n",
    "\n"
   ]
  },
  {
   "cell_type": "markdown",
   "metadata": {
    "slideshow": {
     "slide_type": "subslide"
    }
   },
   "source": [
    "### Extreme values (turning points and points of inflection)\n",
    "(a) Local maximum: $\\;\\frac{dy}{dx} = 0,\\;$ and $\\;\\frac{d^2y}{dx^2} < 0\\;$\n",
    "\n",
    "(b) Local minimum: $\\;\\frac{dy}{dx} = 0,\\;$ and $\\;\\frac{d^2y}{dx^2} > 0\\;$\n",
    "\n",
    "(c) Inflection: $\\;\\frac{d^2y}{dx^2} = 0\\;$\n"
   ]
  },
  {
   "cell_type": "markdown",
   "metadata": {
    "slideshow": {
     "slide_type": "subslide"
    }
   },
   "source": [
    "### Example: Find the stationary points of $\\;y = 2x^3 - 5x^2 - 4x\\;$\n",
    "To do this, we need to know both $\\;y'(x)\\;$ and $\\;y''(x)\\;$.\n",
    "\n",
    "$y'(x) = 6x^2 - 10x - 4$\n",
    "\n",
    "$y''(x) = 12x - 10$\n",
    "\n",
    "Stationary points occur when $\\;y'(x) = 0\\;$\n",
    "\n",
    "$6x^2 - 10x - 4 = 0$\n",
    "\n",
    "$(3x + 1)(2x - 4) = 0$\n",
    "\n",
    "$x = -1/3,\\;2$"
   ]
  },
  {
   "cell_type": "markdown",
   "metadata": {
    "slideshow": {
     "slide_type": "subslide"
    }
   },
   "source": [
    "At $x = -1/3$\n",
    "\n",
    "$y''(-1/3) = 12 \\times -1/3 - 10 = -14 < 0$\n",
    "\n",
    "So this point is a **maximum**.\n",
    "\n",
    "At $x = 2$\n",
    "\n",
    "$y''(2) = 12 \\times 2 - 10 = 14 > 0$\n",
    "\n",
    "So this point is a **mimimum**.\n",
    "\n",
    "Inflection points occur whenever $y''(x) = 0$\n",
    "\n",
    "$y''(x) = 12x - 10 = 0$\n",
    "\n",
    "$x = \\frac{10}{12} = \\frac{5}{6}$\n",
    "\n",
    "This is an **inflection point**"
   ]
  },
  {
   "cell_type": "code",
   "execution_count": null,
   "metadata": {
    "slideshow": {
     "slide_type": "subslide"
    }
   },
   "outputs": [],
   "source": [
    "x = np.linspace(-2, 3.5, 100)\n",
    "y = 2*x**3 - 5*x**2 - 4*x\n",
    "plt.plot(x,y, label='y = 2x^3 - 5x^2 - 4x')\n",
    "plt.plot([2., -1./3., 5./6.], [-12., 19./27., -305./54.],  'ko')\n",
    "plt.xlabel('x')\n",
    "plt.ylabel('y')"
   ]
  },
  {
   "cell_type": "markdown",
   "metadata": {
    "slideshow": {
     "slide_type": "subslide"
    }
   },
   "source": [
    "**Note**: Points of inflection do not require that $\\;y'(x) = 0\\;$, only that $\\;y''(x) = 0\\;$. \n",
    "\n",
    "Points of inflection are important in biology as they define conditions where a response (e.g. reaction rate) is most or least sensitive to a change in conditions (e.g. the concentration of a metabolite).  "
   ]
  },
  {
   "cell_type": "markdown",
   "metadata": {
    "slideshow": {
     "slide_type": "slide"
    }
   },
   "source": [
    "## Reminder on curve sketching\n",
    "\n",
    "\n",
    "- Aim to evaluate and identify key values of the function (i.e. turning points, points of inflection)\n",
    "\n",
    "\n",
    "- Look at the limit behaviour as $\\;x \\to \\pm \\infty\\;$ and as $\\;x\\;$ approaches any points where the function is undefined (e.g. $\\;x \\to 0\\;$ for $\\;y = 1/x\\;$). \n",
    "\n",
    "\n",
    "- Determine the first and second order derivatives to find turning points and points of inflection. "
   ]
  },
  {
   "cell_type": "markdown",
   "metadata": {
    "slideshow": {
     "slide_type": "slide"
    }
   },
   "source": [
    "## Real life example\n",
    "The number $n$ (in thousands) of bacteria on an agar plate at time $t$ (in days) is given by the expression:\n",
    "\n",
    "$n = 15.42 + 6t - t^2$\n",
    "\n",
    "1. Find the time at which the greatest number of bacteria are present on the plate.\n",
    "1. Find the number of bacteria on the plate at this time.\n",
    "\n",
    "To do this we must find the turning points of the function."
   ]
  },
  {
   "cell_type": "markdown",
   "metadata": {
    "slideshow": {
     "slide_type": "subslide"
    }
   },
   "source": [
    "##### 1. Find the time at which the greatest number of bacteria are present on the plate\n",
    "\n",
    "- $n(t) = 15.42 + 6t - t^2$\n",
    "- $n'(t) = 6 - 2t$\n",
    "- $n'(t) = 0 \\quad\\implies\\quad6-2t=0\\quad\\implies t=3$\n",
    "\n",
    "To show this is a maximum, we need to check $n''(t)$\n",
    "\n",
    "$n''(t) = -2$\n",
    "\n",
    "Therefore, $n''(t)<0$, for $t = 3$. This means that a maximum occurs at $t = 3$ days."
   ]
  },
  {
   "cell_type": "markdown",
   "metadata": {
    "slideshow": {
     "slide_type": "fragment"
    }
   },
   "source": [
    "##### 2. Find the number of bacteria on the plate at this time\n",
    "\n",
    "$n(3) = 15.42 + 6 \\times 3 - 3^2 = 24.42$\n",
    "\n",
    "The greatest number of bacteria on the plate is **24,420**."
   ]
  },
  {
   "cell_type": "markdown",
   "metadata": {
    "slideshow": {
     "slide_type": "slide"
    }
   },
   "source": [
    "## Real life example 2\n",
    "The growth rate $R$ of a cell colony with $N$ cells at time $t$ can be represented by the equation\n",
    "\n",
    "$R = \\frac{d N}{d t} = kN - bN^2$\n",
    "\n",
    "For this example take the constants $k$ and $b$ as $k = 3.8$/hr, and $b = 0.01$/hr. This is called a **logistic** model. \n",
    "\n",
    "(a) What is the equilibrium size of the population? \n",
    "\n",
    "(b) What population size leads to the largest growth rate?"
   ]
  },
  {
   "cell_type": "markdown",
   "metadata": {
    "slideshow": {
     "slide_type": "subslide"
    }
   },
   "source": [
    "(a) The equilibrium will occur when the population stops changing, i.e. when $R = 0$. Meaning:\n",
    "\n",
    "$R = 3.8 N - 0.01 N^2 = 0$\n",
    "\n",
    "$N (3.8 - 0.01 N) = 0$\n",
    "\n",
    "We can disregard the $N = 0$ solution, as it represents population extinction. This means that\n",
    "\n",
    "$N = \\frac{3.8}{0.01} = 380$. "
   ]
  },
  {
   "cell_type": "markdown",
   "metadata": {
    "slideshow": {
     "slide_type": "subslide"
    }
   },
   "source": [
    "(b) To find the largest growth rate, we want the maximal value of $R(N)$. This means we need to find $R'(N) = 0$. \n",
    "\n",
    "$R(N) = 3.8 N - 0.01 N^2$\n",
    "\n",
    "$R'(N) = 3.8 - 0.02 N$\n",
    "\n",
    "If $R'(N) = 0$\n",
    "\n",
    "$3.8 - 0.02N = 0$\n",
    "\n",
    "$N = 190$\n",
    "\n",
    "Since $R''(N) = -0.02 < 0$, we can be sure that this is a maximum. "
   ]
  }
 ],
 "metadata": {
  "celltoolbar": "Slideshow",
  "kernelspec": {
   "display_name": "Python 3",
   "language": "python",
   "name": "python3"
  },
  "language_info": {
   "codemirror_mode": {
    "name": "ipython",
    "version": 3
   },
   "file_extension": ".py",
   "mimetype": "text/x-python",
   "name": "python",
   "nbconvert_exporter": "python",
   "pygments_lexer": "ipython3",
   "version": "3.8.5"
  }
 },
 "nbformat": 4,
 "nbformat_minor": 2
}
