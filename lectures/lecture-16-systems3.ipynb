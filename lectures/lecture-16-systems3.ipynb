{
 "cells": [
  {
   "cell_type": "markdown",
   "metadata": {
    "slideshow": {
     "slide_type": "slide"
    }
   },
   "source": [
    "# Lecture 16\n",
    "\n",
    "## Systems of Differential Equations III:\n",
    "\n",
    "### Phase Planes and Stability"
   ]
  },
  {
   "cell_type": "code",
   "execution_count": null,
   "metadata": {
    "slideshow": {
     "slide_type": "skip"
    }
   },
   "outputs": [],
   "source": [
    "import numpy as np\n",
    "import sympy as sp\n",
    "import scipy.integrate\n",
    "sp.init_printing()\n",
    "##################################################\n",
    "##### Matplotlib boilerplate for consistency #####\n",
    "##################################################\n",
    "from ipywidgets import interact\n",
    "from ipywidgets import FloatSlider\n",
    "from matplotlib import pyplot as plt\n",
    "\n",
    "import cmath\n",
    "\n",
    "%matplotlib inline\n",
    "\n",
    "from IPython.display import set_matplotlib_formats\n",
    "set_matplotlib_formats('svg')\n",
    "\n",
    "global_fig_width = 8\n",
    "global_fig_height = global_fig_width / 1.61803399\n",
    "font_size = 12\n",
    "\n",
    "plt.rcParams['axes.axisbelow'] = True\n",
    "plt.rcParams['axes.edgecolor'] = '0.8'\n",
    "plt.rcParams['axes.grid'] = True\n",
    "plt.rcParams['axes.labelpad'] = 8\n",
    "plt.rcParams['axes.linewidth'] = 2\n",
    "plt.rcParams['axes.titlepad'] = 16.0\n",
    "plt.rcParams['axes.titlesize'] = font_size * 1.4\n",
    "plt.rcParams['figure.figsize'] = (global_fig_width, global_fig_height)\n",
    "plt.rcParams['font.sans-serif'] = ['Computer Modern Sans Serif', 'DejaVu Sans', 'sans-serif']\n",
    "plt.rcParams['font.size'] = font_size\n",
    "plt.rcParams['grid.color'] = '0.8'\n",
    "plt.rcParams['grid.linestyle'] = 'dashed'\n",
    "plt.rcParams['grid.linewidth'] = 2\n",
    "plt.rcParams['lines.dash_capstyle'] = 'round'\n",
    "plt.rcParams['lines.dashed_pattern'] = [1, 4]\n",
    "plt.rcParams['xtick.labelsize'] = font_size\n",
    "plt.rcParams['xtick.major.pad'] = 4\n",
    "plt.rcParams['xtick.major.size'] = 0\n",
    "plt.rcParams['ytick.labelsize'] = font_size\n",
    "plt.rcParams['ytick.major.pad'] = 4\n",
    "plt.rcParams['ytick.major.size'] = 0\n",
    "##################################################"
   ]
  },
  {
   "cell_type": "markdown",
   "metadata": {
    "slideshow": {
     "slide_type": "slide"
    }
   },
   "source": [
    "## Recap from previous parts\n",
    "\n",
    "- 2-D linear systems can be solved analytically\n",
    "- Eigenvalues are important\n",
    "- Some larger systems can be simplified\n",
    "- Phase planes, nullclines and fixed points"
   ]
  },
  {
   "cell_type": "markdown",
   "metadata": {
    "slideshow": {
     "slide_type": "subslide"
    }
   },
   "source": [
    "## Example from previous lecture\n",
    "\n",
    "\n",
    "\\begin{eqnarray*}\n",
    "\\dot{x} &=& x(1-x) -xy,\\\\\n",
    "\\dot{y} &=& y\\left(2-y\\right) - 3xy.\n",
    "\\end{eqnarray*}"
   ]
  },
  {
   "cell_type": "code",
   "execution_count": null,
   "metadata": {
    "slideshow": {
     "slide_type": "skip"
    }
   },
   "outputs": [],
   "source": [
    "def dX_dt(X, t):\n",
    "    return np.array([ X[0]*(1. - X[0]) - X[0]*X[1],\n",
    "                     2.*X[1]*(1.-X[1]/2.) -3*X[0]*X[1]])\n",
    "\n",
    "def plot_phase_plane():\n",
    "    \n",
    "    plt.figure(figsize=(10,10))\n",
    "    \n",
    "    init_x = [1.05, 0.9, 0.7, 0.5, 0.5, 0.32, 0.1]\n",
    "    init_y = [1.0, 1.3, 1.6, 1.8, 0.2, 0.2, 0.2]\n",
    "    \n",
    "    plt.plot(init_x, init_y, 'g*', markersize=20)\n",
    "    \n",
    "    for v in zip(init_x,init_y):\n",
    "        X0 = v                              # starting point\n",
    "        X = scipy.integrate.odeint( dX_dt, X0, np.linspace(0,10,100))         # we don't need infodict here\n",
    "        plt.plot( X[:,0], X[:,1], lw=3, color='green')\n",
    "    \n",
    "    \n",
    "    \n",
    "    # plot nullclines\n",
    "    x = np.linspace(-0.1,1.1,24)\n",
    "    y = np.linspace(-0.1,2.1,24)\n",
    "    \n",
    "    plt.hlines(0,-1,15, color='#F39200', lw=4, label='y-nullcline 1')\n",
    "    plt.plot(x,1 - x, color='#0072bd', lw=4, label='x-nullcline 2')\n",
    "    plt.vlines(0,-1,15, color='#0072bd', lw=4, label='x-nullcline 1')\n",
    "    plt.plot(x,2 - 3*x, color='#F39200', lw=4, label='y-nullcline 2')\n",
    "\n",
    "    # quiverplot - define a grid and compute direction at each point\n",
    "    X , Y  = np.meshgrid(x, y)                  # create a grid\n",
    "    DX = X*(1-X) - X*Y                          # evaluate dx/dt\n",
    "    DY = 2*Y*(1 - Y/2.0) - 3*X*Y                # evaluate dy/dt               \n",
    "    M = (np.hypot(DX, DY))                      # norm growth rate \n",
    "    M[ M == 0] = 1.                             # avoid zero division errors \n",
    "\n",
    "    plt.quiver(X, Y, DX/M, DY/M, M)\n",
    "    plt.xlim(-0.05,1.1)\n",
    "    plt.ylim(-0.05,2.1)\n",
    "    plt.xlabel('x')\n",
    "    plt.ylabel('y')"
   ]
  },
  {
   "cell_type": "code",
   "execution_count": null,
   "metadata": {
    "slideshow": {
     "slide_type": "subslide"
    }
   },
   "outputs": [],
   "source": [
    "plot_phase_plane()"
   ]
  },
  {
   "cell_type": "markdown",
   "metadata": {
    "slideshow": {
     "slide_type": "slide"
    }
   },
   "source": [
    "## Linear ODEs for understanding nonlinear\n",
    "The decoupled ODE system \n",
    "\n",
    "\n",
    "\\begin{eqnarray*}\n",
    "\\dot{x} = \\frac{\\rm{d}x}{\\rm{d}t} &=& \\lambda_1 x,\\\\\n",
    "\\dot{y} = \\frac{\\rm{d}y}{\\rm{d}t} &=& \\lambda_2 y,\n",
    "\\end{eqnarray*}\n",
    "\n",
    "\n",
    "has a **fixed point** or **steady state** where $\\;\\dot{x}=\\dot{y}=0\\;$, at the origin.\n",
    "\n",
    "Solutions look like $\\;x=Ae^{\\lambda_1 t}\\;$ and $\\;y=Be^{\\lambda_2 t}\\;$ and thus grow exponentially\n",
    "or shrink exponentially depending on the values of $\\;\\lambda_1\\;$ and $\\;\\lambda_2.$\n",
    "\n",
    "If $\\;\\lambda_1 < 0\\;$ and $\\;\\lambda_2 < 0\\;$ then all the flow is towards the\n",
    "fixed point.  If $\\;\\lambda_1\\;$ or $\\;\\lambda_2\\;$ is positive then some flow will be driven away (towards infinity)."
   ]
  },
  {
   "cell_type": "markdown",
   "metadata": {
    "slideshow": {
     "slide_type": "subslide"
    }
   },
   "source": [
    "Adding in a constant (inhomogeneous) component shifts the fixed point\n",
    "away from the origin.  Where is the fixed point of \n",
    "\n",
    "\n",
    "\\begin{eqnarray*}\n",
    "\\dot{x}  &=& \\lambda_1 x + 10,\\\\\n",
    "\\dot{y}  &=& \\lambda_2 y + 10?\n",
    "\\end{eqnarray*}"
   ]
  },
  {
   "cell_type": "markdown",
   "metadata": {
    "slideshow": {
     "slide_type": "subslide"
    }
   },
   "source": [
    "Coupling the system has the effect of altering the principle directions over\n",
    "which the exponential terms apply (**changing the basis**).\n",
    "\n",
    "This means that the **homogeneous** linear system\n",
    "\n",
    "\n",
    "\\begin{eqnarray*}\n",
    "\\dot{x}  &=& a x +  b y,\\\\\n",
    "\\dot{y}  &=& c x +  d y,\n",
    "\\end{eqnarray*}\n",
    "\n",
    "\n",
    "has a fixed point at the origin.  The long-term growth or shrinkage of solutions over time is determined by the eigenvalues of the matrix\n",
    "\n",
    "$$\n",
    "A = \\left(\n",
    "\\begin{array}{cc} a & b \\\\ c& d \\end{array}\n",
    "\\right).\n",
    "$$"
   ]
  },
  {
   "cell_type": "markdown",
   "metadata": {
    "slideshow": {
     "slide_type": "subslide"
    }
   },
   "source": [
    "More generally, the **inhomogeneous** linear system\n",
    "\n",
    "\n",
    "\\begin{eqnarray*}\n",
    "\\dot{x}  &=& a x +  b y + p,\\\\\n",
    "\\dot{y}  &=& c x +  d y + q,\n",
    "\\end{eqnarray*}\n",
    "\n",
    "\n",
    "can be written\n",
    "\n",
    "$$\n",
    "\\left(\n",
    "\\begin{array}{c} \\dot{x} \\\\ \\dot{y} \\end{array}\n",
    "\\right)\n",
    "=\n",
    "\\left(\n",
    "\\begin{array}{cc} a & b \\\\ c& d \\end{array}\n",
    "\\right)\n",
    "\\left(\n",
    "\\begin{array}{c} x \\\\ y \\end{array}\n",
    "\\right)\n",
    "+\n",
    "\\left(\n",
    "\\begin{array}{c} p \\\\ q \\end{array}\n",
    "\\right)\n",
    ".\n",
    "$$\n",
    "\n",
    "It has a fixed point at\n",
    "\n",
    "$$\n",
    "\\left(\n",
    "\\begin{array}{c} x \\\\ y \\end{array}\n",
    "\\right)\n",
    "=\n",
    "-\\left(\n",
    "\\begin{array}{cc} a & b \\\\ c& d \\end{array}\n",
    "\\right)^{-1}\n",
    "\\left(\n",
    "\\begin{array}{c} p \\\\ q \\end{array}\n",
    "\\right)\n",
    ".\n",
    "$$\n",
    "\n",
    "The long-term growth or shrinkage of\n",
    "solutions over time is again determined by the eigenvalues of the matrix."
   ]
  },
  {
   "cell_type": "markdown",
   "metadata": {
    "slideshow": {
     "slide_type": "subslide"
    }
   },
   "source": [
    "## General nonlinear system steady states\n",
    "\n",
    "A more general two-dimensional nonlinear system is\n",
    "\n",
    "\\begin{eqnarray*}\n",
    "\\dot{x} &=& f(x,y),\\\\\n",
    "\\dot{y} &=& g(x,y),\n",
    "\\end{eqnarray*}\n",
    "\n",
    "where $\\;f\\;$ and $\\;g\\;$ can be any functions whatever.\n",
    "\n",
    "We can write a polynomial (Taylor) expansion for the system when it is close to a fixed point $\\;(x^*, y^*)\\;$ for which $\\;f(x^*,y^*)=g(x^*,y^*)=0.$\n",
    "\n",
    "\\begin{eqnarray*}\n",
    "\\dot{x} &=& f(x^*,y^*) + \\frac{\\partial f}{\\partial x}(x-x^*) + \\frac{\\partial f}{\\partial y}(y-y^*) + \\ldots,\\\\\n",
    "\\dot{y} &=& g(x^*,y^*) + \\frac{\\partial g}{\\partial x}(x-x^*) + \\frac{\\partial g}{\\partial y}(y-y^*) + \\ldots,\n",
    "\\end{eqnarray*}\n"
   ]
  },
  {
   "cell_type": "markdown",
   "metadata": {
    "slideshow": {
     "slide_type": "subslide"
    }
   },
   "source": [
    "So, close to the fixed point:\n",
    "\n",
    "$$\n",
    "\\left(\n",
    "\\begin{array}{c} \\dot{x} \\\\ \\dot{y} \\end{array}\n",
    "\\right)\n",
    "\\approx\n",
    "\\left(\n",
    "\\begin{array}{cc} \\frac{\\partial f}{\\partial x} & \\frac{\\partial f}{\\partial y} \\\\\\frac{\\partial g}{\\partial x} & \\frac{\\partial g}{\\partial y} \\end{array}\n",
    "\\right)\n",
    "\\left(\n",
    "\\begin{array}{c} x-x^* \\\\ y-y^* \\end{array}\n",
    "\\right)\n",
    ".\n",
    "$$\n",
    "\n",
    "This means that (really close to the fixed point) we can approximate\n",
    "with a linear system.   The eigenvalues $\\;\\lambda_1,\\;\\lambda_2\\;$ of the matrix\n",
    "\n",
    "$$\n",
    "J = \\left(\n",
    "\\begin{array}{cc} \\frac{\\partial f}{\\partial x} & \\frac{\\partial f}{\\partial y} \\\\\\frac{\\partial g}{\\partial x} & \\frac{\\partial g}{\\partial y} \\end{array}\n",
    "\\right)\n",
    "$$\n",
    "\n",
    "will determine if a small perturbation away from  $\\;(x^*,\\;y^*)\\;$ will\n",
    "decay or grow."
   ]
  },
  {
   "cell_type": "markdown",
   "metadata": {
    "slideshow": {
     "slide_type": "subslide"
    }
   },
   "source": [
    "## Steady state classification\n",
    "$$\n",
    "J = \\left(\n",
    "\\begin{array}{cc} \\frac{\\partial f}{\\partial x} & \\frac{\\partial f}{\\partial y} \\\\\\frac{\\partial g}{\\partial x} & \\frac{\\partial g}{\\partial y} \\end{array}\n",
    "\\right)\n",
    "$$\n",
    "\n",
    "\n",
    "- $\\lambda_1<\\lambda_2<0$ Stable node\n",
    "- $\\lambda_1=\\lambda_2<0$ Stable star\n",
    "- $\\lambda_1>\\lambda_2>0$ Unstable node\n",
    "- $\\lambda_1=\\lambda_2>0$ Unstable star\n",
    "- $\\lambda_1<0<\\lambda_2$ Saddle (or hyperbolic) point:  unstable\n",
    "- Complex $\\lambda$: Spiral (with real part determining stability)\n",
    "- Imaginary $\\lambda$: Neutral (solution cycles round fixed point)\n",
    "\n",
    "\n",
    "The presence of negative eigenvalues determines whether a steady state is physically viable."
   ]
  },
  {
   "cell_type": "markdown",
   "metadata": {
    "slideshow": {
     "slide_type": "subslide"
    }
   },
   "source": [
    "### Eigenvalues of $J$\n",
    "$$\n",
    "|J-\\lambda I| = \\left|\n",
    "\\begin{array}{cc} \\frac{\\partial f}{\\partial x}-\\lambda & \\frac{\\partial f}{\\partial y} \\\\\\frac{\\partial g}{\\partial x} & \\frac{\\partial g}{\\partial y}-\\lambda \\end{array}\\right|\n",
    "= \\left(\\frac{\\partial f}{\\partial x}-\\lambda\\right)\\left(\\frac{\\partial g}{\\partial y}-\\lambda\\right)-\\frac{\\partial f}{\\partial y}\\frac{\\partial g}{\\partial x}\n",
    "$$\n",
    "\n",
    "So eigenvalues $\\;\\lambda\\;$ satisfy\n",
    "\n",
    "$$\n",
    "\\lambda^2 - \\lambda\\left(\\frac{\\partial f}{\\partial x} + \\frac{\\partial g}{\\partial y}\\right) + \\frac{\\partial f}{\\partial x}\\frac{\\partial g}{\\partial y} - \\frac{\\partial f}{\\partial y}\\frac{\\partial g}{\\partial x},\n",
    "$$\n",
    "\n",
    "or\n",
    "\n",
    "$$\n",
    "\\lambda^2 - \\lambda\\tau + \\Delta \\quad \\rm{where} \\quad \\tau=\\rm{Trace}(J) \\quad and \\quad \\Delta = \\rm{Det}(J)\n",
    "$$"
   ]
  },
  {
   "cell_type": "markdown",
   "metadata": {
    "slideshow": {
     "slide_type": "subslide"
    }
   },
   "source": [
    "![](assets/phase_diagram.svg)"
   ]
  },
  {
   "cell_type": "markdown",
   "metadata": {
    "slideshow": {
     "slide_type": "subslide"
    }
   },
   "source": [
    "## Example system\n",
    "\n",
    "\\begin{align*}\n",
    "\\dot{x} &= x(1-x) -xy &=f(x)\\\\\n",
    "\\dot{y} &= y\\left(2-y\\right) - 3xy &=g(x).\n",
    "\\end{align*}\n",
    "\n",
    "\n",
    "- What are the nullclines?\n",
    "- What are the fixed points?\n",
    "- What is the stability of the fixed points?"
   ]
  },
  {
   "cell_type": "markdown",
   "metadata": {
    "slideshow": {
     "slide_type": "subslide"
    }
   },
   "source": [
    "### Calculate the Jacobian\n",
    "\n",
    "$$\n",
    "J = \\left(\n",
    "\\begin{array}{cc} \\frac{\\partial f}{\\partial x} & \\frac{\\partial f}{\\partial y} \\\\\\frac{\\partial g}{\\partial x} & \\frac{\\partial g}{\\partial y} \\end{array}\n",
    "\\right) = \\left(\\begin{array}{cc} -2x-y+1 & -x \\\\-3y & -3x-2y+2 \\end{array}\\right)\n",
    "$$\n",
    "\n",
    "At $(0,0)$:\n",
    "\n",
    "$$\n",
    "J_{(0,0)} = \\left(\\begin{array}{cc} 1 & 0 \\\\0 & 2 \\end{array}\\right)\n",
    "$$\n",
    "\n",
    "$$\n",
    "\\left|\\begin{array}{cc} 1-\\lambda & 0 \\\\0 & 2-\\lambda\\end{array}\\right|\\quad\\implies\\quad\\lambda_1 = 1, \\; \\lambda_2 = 2 \\qquad\\rm{(unstable)}\n",
    "$$"
   ]
  },
  {
   "cell_type": "markdown",
   "metadata": {
    "slideshow": {
     "slide_type": "subslide"
    }
   },
   "source": [
    "### Calculate the Jacobian\n",
    "\n",
    "$$\n",
    "J = \\left(\n",
    "\\begin{array}{cc} \\frac{\\partial f}{\\partial x} & \\frac{\\partial f}{\\partial y} \\\\\\frac{\\partial g}{\\partial x} & \\frac{\\partial g}{\\partial y} \\end{array}\n",
    "\\right) = \\left(\\begin{array}{cc} -2x-y+1 & -x \\\\-3y & -3x-2y+2 \\end{array}\\right)\n",
    "$$\n",
    "\n",
    "At $(1/2,1/2)$:\n",
    "\n",
    "$$\n",
    "J_{(1/2,1/2)} = \\left(\\begin{array}{cc} -\\frac{1}{2} & -\\frac{1}{2} \\\\-\\frac{3}{2} & -\\frac{1}{2} \\end{array}\\right)\n",
    "$$\n",
    "\n",
    "$$\n",
    "\\left|\\begin{array}{cc} -\\frac{1}{2}-\\lambda & -\\frac{1}{2} \\\\-\\frac{3}{2} & -\\frac{1}{2}-\\lambda\\end{array}\\right|\\quad\\implies\\quad\\lambda_\\pm = \\frac{1}{2} \\pm \\frac{\\sqrt{3}}{2} \\qquad\\rm{(saddle)}\n",
    "$$"
   ]
  },
  {
   "cell_type": "markdown",
   "metadata": {
    "slideshow": {
     "slide_type": "subslide"
    }
   },
   "source": [
    "### Calculate the Jacobian\n",
    "\n",
    "$$\n",
    "J = \\left(\n",
    "\\begin{array}{cc} \\frac{\\partial f}{\\partial x} & \\frac{\\partial f}{\\partial y} \\\\\\frac{\\partial g}{\\partial x} & \\frac{\\partial g}{\\partial y} \\end{array}\n",
    "\\right) = \\left(\\begin{array}{cc} -2x-y+1 & -x \\\\-3y & -3x-2y+2 \\end{array}\\right)\n",
    "$$\n",
    "\n",
    "At $(1,0)$:\n",
    "\n",
    "$$\n",
    "J_{(1,0)} = \\left(\\begin{array}{cc} -1 & -1 \\\\ 0 & -1 \\end{array}\\right)\n",
    "$$\n",
    "\n",
    "$$\n",
    "\\left|\\begin{array}{cc} -1-\\lambda & -1 \\\\0 & -1-\\lambda\\end{array}\\right|\\quad\\implies\\quad\\lambda_1 = \\lambda_2 = -1 \\qquad\\rm{(stable)}\n",
    "$$"
   ]
  },
  {
   "cell_type": "markdown",
   "metadata": {
    "slideshow": {
     "slide_type": "subslide"
    }
   },
   "source": [
    "### Calculate the Jacobian\n",
    "\n",
    "$$\n",
    "J = \\left(\n",
    "\\begin{array}{cc} \\frac{\\partial f}{\\partial x} & \\frac{\\partial f}{\\partial y} \\\\\\frac{\\partial g}{\\partial x} & \\frac{\\partial g}{\\partial y} \\end{array}\n",
    "\\right) = \\left(\\begin{array}{cc} -2x-y+1 & -x \\\\-3y & -3x-2y+2 \\end{array}\\right)\n",
    "$$\n",
    "\n",
    "At $(0,2)$:\n",
    "\n",
    "$$\n",
    "J_{(0,2)} = \\left(\\begin{array}{cc} -1 & 0 \\\\ -6 & -2 \\end{array}\\right)\n",
    "$$\n",
    "\n",
    "$$\n",
    "\\left|\\begin{array}{cc} -1-\\lambda & 0 \\\\-6 & -2-\\lambda\\end{array}\\right|\\quad\\implies\\quad\\lambda_1 = -1, \\; \\lambda_2 = -2 \\qquad\\rm{(stable)}\n",
    "$$"
   ]
  },
  {
   "cell_type": "code",
   "execution_count": null,
   "metadata": {
    "slideshow": {
     "slide_type": "subslide"
    }
   },
   "outputs": [],
   "source": [
    "plot_phase_plane()"
   ]
  },
  {
   "cell_type": "markdown",
   "metadata": {
    "slideshow": {
     "slide_type": "subslide"
    }
   },
   "source": [
    "## Summary\n",
    "\n",
    "- Eigenvalues for behaviour of  linear systems\n",
    "- Eigenvalues for the stability of nonlinear systems"
   ]
  }
 ],
 "metadata": {
  "celltoolbar": "Slideshow",
  "kernelspec": {
   "display_name": "Python 3",
   "language": "python",
   "name": "python3"
  },
  "language_info": {
   "codemirror_mode": {
    "name": "ipython",
    "version": 3
   },
   "file_extension": ".py",
   "mimetype": "text/x-python",
   "name": "python",
   "nbconvert_exporter": "python",
   "pygments_lexer": "ipython3",
   "version": "3.8.5"
  }
 },
 "nbformat": 4,
 "nbformat_minor": 2
}
