{
 "cells": [
  {
   "cell_type": "markdown",
   "metadata": {
    "slideshow": {
     "slide_type": "slide"
    }
   },
   "source": [
    "# Lecture 13\n",
    "\n",
    "## Linear Algebra II:\n",
    "\n",
    "### Eigenvalues and Eigenvectors"
   ]
  },
  {
   "cell_type": "code",
   "execution_count": null,
   "metadata": {
    "slideshow": {
     "slide_type": "skip"
    }
   },
   "outputs": [],
   "source": [
    "import numpy as np\n",
    "import sympy as sp\n",
    "import scipy.integrate\n",
    "sp.init_printing()\n",
    "##################################################\n",
    "##### Matplotlib boilerplate for consistency #####\n",
    "##################################################\n",
    "from ipywidgets import interact\n",
    "from ipywidgets import FloatSlider\n",
    "from matplotlib import pyplot as plt\n",
    "\n",
    "%matplotlib inline\n",
    "\n",
    "from IPython.display import set_matplotlib_formats\n",
    "set_matplotlib_formats('svg')\n",
    "\n",
    "global_fig_width = 10\n",
    "global_fig_height = global_fig_width / 1.61803399\n",
    "font_size = 12\n",
    "\n",
    "plt.rcParams['axes.axisbelow'] = True\n",
    "plt.rcParams['axes.edgecolor'] = '0.8'\n",
    "plt.rcParams['axes.grid'] = True\n",
    "plt.rcParams['axes.labelpad'] = 8\n",
    "plt.rcParams['axes.linewidth'] = 2\n",
    "plt.rcParams['axes.titlepad'] = 16.0\n",
    "plt.rcParams['axes.titlesize'] = font_size * 1.4\n",
    "plt.rcParams['figure.figsize'] = (global_fig_width, global_fig_height)\n",
    "plt.rcParams['font.sans-serif'] = ['Computer Modern Sans Serif', 'DejaVu Sans', 'sans-serif']\n",
    "plt.rcParams['font.size'] = font_size\n",
    "plt.rcParams['grid.color'] = '0.8'\n",
    "plt.rcParams['grid.linestyle'] = 'dashed'\n",
    "plt.rcParams['grid.linewidth'] = 2\n",
    "plt.rcParams['lines.dash_capstyle'] = 'round'\n",
    "plt.rcParams['lines.dashed_pattern'] = [1, 4]\n",
    "plt.rcParams['xtick.labelsize'] = font_size\n",
    "plt.rcParams['xtick.major.pad'] = 4\n",
    "plt.rcParams['xtick.major.size'] = 0\n",
    "plt.rcParams['ytick.labelsize'] = font_size\n",
    "plt.rcParams['ytick.major.pad'] = 4\n",
    "plt.rcParams['ytick.major.size'] = 0\n",
    "##################################################"
   ]
  },
  {
   "cell_type": "markdown",
   "metadata": {
    "slideshow": {
     "slide_type": "slide"
    }
   },
   "source": [
    "## Recap from Part I\n",
    "\n",
    "- Matrix representation of simultaneous equations\n",
    "- Matrix-vector multiplication\n",
    "- Matrix-matrix multiplication\n",
    "- Determinant ($2\\times2$ matrices)\n",
    "- Inverting matrices\n",
    "- Transpose\n",
    "- Python"
   ]
  },
  {
   "cell_type": "markdown",
   "metadata": {
    "slideshow": {
     "slide_type": "slide"
    }
   },
   "source": [
    "## Using Python to calculate the inverse\n",
    "To find $A^{-1}$ for \n",
    "$$A = \\left(\\begin{matrix}3&0&2\\\\ 3&0&-3\\\\ 0&1&1\\end{matrix}\\right).$$"
   ]
  },
  {
   "cell_type": "code",
   "execution_count": null,
   "metadata": {
    "slideshow": {
     "slide_type": "fragment"
    }
   },
   "outputs": [],
   "source": [
    "A = np.array([[3, 0, 2], [3, 0, -3], [0, 1, 1]])\n",
    "np.linalg.inv(A)\n"
   ]
  },
  {
   "cell_type": "code",
   "execution_count": null,
   "metadata": {
    "slideshow": {
     "slide_type": "fragment"
    }
   },
   "outputs": [],
   "source": [
    "A = sp.Matrix([[3, 0, 2], [3, 0, -3], [0, 1, 1]])\n",
    "A.inv()\n"
   ]
  },
  {
   "cell_type": "markdown",
   "metadata": {
    "slideshow": {
     "slide_type": "slide"
    }
   },
   "source": [
    "## It doesn't always work\n",
    "\n",
    "Consider the following system \n",
    "\n",
    "$$\\begin{array}{cccccccc}\n",
    "eq1: &  x & + & y & + & z & =  & a \\\\\n",
    "eq2: & 2x & + & 5y & + &  2z &  = & b \\\\\n",
    "eq3: & 7x & +&  10y  & + & 7z &  = &  c \n",
    "\\end{array} $$ "
   ]
  },
  {
   "cell_type": "code",
   "execution_count": null,
   "metadata": {
    "slideshow": {
     "slide_type": "slide"
    }
   },
   "outputs": [],
   "source": [
    "A = np.array([[1, 1, 1], [2, 5, 2], [7, 10, 7]])\n",
    "np.linalg.inv(A)\n"
   ]
  },
  {
   "cell_type": "markdown",
   "metadata": {
    "slideshow": {
     "slide_type": "slide"
    }
   },
   "source": [
    "## Singular matrices\n",
    "\n",
    "The **rank** of an $\\;n\\,\\times\\,n\\;$ matrix $\\;A\\;$ is the number of linearly independent rows in $\\;A\\;$ (rows not combinations of other rows).\n",
    "\n",
    "When $\\;\\mbox{rank}(A) < n\\;$ then\n",
    "\n",
    "- The system $\\;A\\textbf{x} = \\textbf{b}\\;$ has *fewer* equations than unknowns\n",
    "- The matrix is said to be singular\n",
    "- $A\\;$ has no inverse\n",
    "- The determinant of $\\;A\\;$ is 0\n",
    "- The equation $\\;A\\textbf{u} = \\textbf{0}\\;$ has non-trivial solutions (solutions where $\\textbf{u} \\neq \\textbf{0}$)"
   ]
  },
  {
   "cell_type": "markdown",
   "metadata": {
    "slideshow": {
     "slide_type": "slide"
    }
   },
   "source": [
    "## Singular matrix example\n",
    "\n",
    "An underdetermined system (fewer equations than unknowns) may mean that there are **many solutions** or that there are **no solutions**.\n",
    "\n",
    "An example  with many solutions is\n",
    "\\begin{eqnarray*} x+y &=& 1,\\\\ 2x+2y &=& 2,\\end{eqnarray*}\n",
    "\n",
    "\n",
    "has infinitely many solutions (x=0, y=1; x=-89.3, y=90.3...)"
   ]
  },
  {
   "cell_type": "markdown",
   "metadata": {
    "slideshow": {
     "slide_type": "slide"
    }
   },
   "source": [
    "An example with no solutions is\n",
    "\n",
    "\\begin{eqnarray*} x+y &=& 1,\\\\ 2x+2y &=& 0,\\end{eqnarray*}\n",
    "\n",
    "where the second equation is inconsistent with the first.\n",
    "\n",
    " These examples use the matrix \n",
    "$$ \\left(\\begin{matrix}1&1\\\\ 2&2\\end{matrix}\\right),$$\n",
    " which has rank 1. "
   ]
  },
  {
   "cell_type": "markdown",
   "metadata": {
    "slideshow": {
     "slide_type": "slide"
    }
   },
   "source": [
    "## Null space\n",
    "When a matrix is singular we can find non-trivial solutions to $\\;A\\textbf{u} = \\textbf{0}$.\n",
    "\n",
    "These are vectors which form the **null space** for $\\;A$.\n",
    "\n",
    "Any vector in the null space makes no difference to the effect that $A$ is having:\n",
    "\n",
    "$$\n",
    " A(\\textbf{x} + \\textbf{u}) =  A\\textbf{x} + A\\textbf{u} =\n",
    " A\\textbf{x} + \\textbf{0} =   A\\textbf{x}.\n",
    "$$ "
   ]
  },
  {
   "cell_type": "markdown",
   "metadata": {
    "slideshow": {
     "slide_type": "slide"
    }
   },
   "source": [
    "Note that any combination or scaling of vectors in the null space is also in the null space.\n",
    "That is, if $\\;A\\textbf{u} = \\textbf{0}\\;$ and $\\;A\\textbf{v} = \\textbf{0}\\;$ then\n",
    "\n",
    "$$ A(\\alpha\\textbf{u} + \\beta\\textbf{v}) = \\textbf{0} $$\n",
    "\n",
    "The number of linearly independent vectors in the null space is denoted $~\\mbox{null}(A)~$ and\n",
    "\n",
    "$$\\mbox{null}(A)  + \\mbox{rank}(A) = \\mbox{order}(A).$$"
   ]
  },
  {
   "cell_type": "markdown",
   "metadata": {
    "slideshow": {
     "slide_type": "slide"
    }
   },
   "source": [
    "## Null space example\n",
    "\n",
    "Previous example of a singular system:\n",
    "$$A = \\left(\\begin{matrix} 1& 1& 1\\\\ 2& 5& 2\\\\ 7& 10&7 \\end{matrix}\\right)$$ "
   ]
  },
  {
   "cell_type": "code",
   "execution_count": null,
   "metadata": {
    "slideshow": {
     "slide_type": "fragment"
    }
   },
   "outputs": [],
   "source": [
    "A = np.array([[1, 1, 1], [2, 5, 2], [7, 10, 7]])\n",
    "np.linalg.matrix_rank(A)\n"
   ]
  },
  {
   "cell_type": "code",
   "execution_count": null,
   "metadata": {
    "slideshow": {
     "slide_type": "fragment"
    }
   },
   "outputs": [],
   "source": [
    "import scipy.linalg\n",
    "scipy.linalg.null_space(A)\n"
   ]
  },
  {
   "cell_type": "markdown",
   "metadata": {
    "slideshow": {
     "slide_type": "slide"
    }
   },
   "source": [
    "remember, scaled vectors in the null space are also in the null space, for example, $\\;x=1, y=0, z=-1\\;$ is in the null space. \n",
    "\n",
    "Try it:\n",
    "\n",
    " $\\left(\\begin{matrix} 1& 1& 1\\\\ 2& 5& 2\\\\ 7& 11&7 \\end{matrix}\\right)\n",
    "  \\left(\\begin{matrix} -1000\\\\ 0 \\\\ 1000 \\end{matrix}\\right) = \\quad ?$"
   ]
  },
  {
   "cell_type": "code",
   "execution_count": null,
   "metadata": {
    "slideshow": {
     "slide_type": "-"
    }
   },
   "outputs": [],
   "source": [
    "np.matmul(A,np.array([-1000,0,1000]))\n"
   ]
  },
  {
   "cell_type": "markdown",
   "metadata": {
    "slideshow": {
     "slide_type": "slide"
    }
   },
   "source": [
    "## Eigenvectors: motivation\n",
    "\n",
    "The **eigenvalues** and **eigenvectors** give an indication of how much effect the matrix has, and in what direction. \n",
    "\n",
    "$$A=\\left(\\begin{matrix} \\cos(45)&-\\sin(45)\\\\ \\sin(45)&\\cos(45)\\\\\\end{matrix}\\right)\\qquad\\mbox{has no scaling effect.}$$\n",
    "\n",
    "$$B=\\left(\\begin{matrix} 2& 0 \\\\ 0&\\frac{1}{2}\\\\\\end{matrix}\\right)\\qquad\\qquad\\mbox{doubles in }x\\mbox{, but halves in }y\\mbox{.}$$\n",
    "\n",
    "\n",
    "Repeated applications of $\\;A\\;$ stay the same distance from the origin, but repeated applications of $\\;B\\;$ move towards $\\;(\\infty, 0).$"
   ]
  },
  {
   "cell_type": "markdown",
   "metadata": {
    "slideshow": {
     "slide_type": "subslide"
    }
   },
   "source": [
    "- Transitions with probability\n",
    "- Markov chains\n",
    "- Designing bridges\n",
    "- Solution of systems of linear ODEs\n",
    "- Stability of systems of nonlinear ODEs"
   ]
  },
  {
   "cell_type": "markdown",
   "metadata": {
    "slideshow": {
     "slide_type": "slide"
    }
   },
   "source": [
    "## Eigenvectors and Eigenvalues\n",
    "\n",
    "$A\\;$ is a matrix, $\\;\\textbf{v}\\;$ is a **non-zero** vector, \n",
    "$\\;\\lambda\\;$ is a scalar, \n",
    "\n",
    "If\n",
    "\n",
    "$$A \\textbf{v} = \\lambda \\textbf{v}$$\n",
    "\n",
    "then $\\;\\textbf{v}\\;$ is called an **eigenvector** and $\\;\\lambda\\;$ is the corresponding **eigenvalue**.\n",
    "\n",
    "Note that if $\\;\\textbf{v}\\;$ is a solution, then so is a scaling $\\;a\\textbf{v}$:\n",
    "\n",
    "$$A (a \\textbf{v}) = \\lambda (a \\textbf{v}).$$"
   ]
  },
  {
   "cell_type": "markdown",
   "metadata": {
    "slideshow": {
     "slide_type": "slide"
    }
   },
   "source": [
    "## Finding Eigenvalues\n",
    "Another way to write previous equation:\n",
    "\n",
    "\\begin{eqnarray*}\n",
    "A \\textbf{v} &=& \\lambda \\textbf{v},\\\\\n",
    "A \\textbf{v} -  \\lambda I \\textbf{v}&=& \\textbf{0},\\\\\n",
    "(A  -  \\lambda I) \\textbf{v}&=& \\textbf{0}.\n",
    "\\end{eqnarray*}"
   ]
  },
  {
   "cell_type": "markdown",
   "metadata": {
    "slideshow": {
     "slide_type": "slide"
    }
   },
   "source": [
    "Consider the equation:\n",
    "$$B\\textbf{x}=\\textbf{0}$$\n",
    "\n",
    "where $\\;B\\;$ is a matrix and $\\;\\textbf{x}\\;$ is a non-zero column vector.\n",
    "\n",
    "Assume $\\;B\\;$ is nonsingular:\n",
    "$$B^{-1}(B\\textbf{x})=B^{-1}\\textbf{0}=\\textbf{0}$$\n",
    "\n",
    "But:\n",
    "$$B^{-1}(B\\textbf{x})=(B^{-1}B)\\textbf{x}=I\\textbf{x}=\\textbf{x}$$\n",
    "\n",
    "This means that:\n",
    "$$B^{-1}(B\\textbf{x})=\\textbf{0}=\\textbf{x}$$\n",
    "\n",
    "but we stated above that $\\;\\textbf{x}\\neq\\textbf{0}\\;$ so our assumption that $\\;B\\;$ is nonsingular must be false: $\\;B\\;$ is singular."
   ]
  },
  {
   "cell_type": "markdown",
   "metadata": {
    "slideshow": {
     "slide_type": "slide"
    }
   },
   "source": [
    "We can state that:\n",
    "\n",
    "$$(A-\\lambda I)\\textbf{v} = \\textbf{0}  \\quad \\mbox{with} \\quad \\textbf{v}\\neq \\textbf{0},$$\n",
    "\n",
    "so $(A-\\lambda I)$ must be singular:\n",
    "\n",
    "$$|A-\\lambda I|=0.$$"
   ]
  },
  {
   "cell_type": "markdown",
   "metadata": {
    "slideshow": {
     "slide_type": "slide"
    }
   },
   "source": [
    "## Example\n",
    "What are the eigenvalues for this matrix?\n",
    "\n",
    "$$A=\\left(\\begin{matrix}-2&-2\\\\ 1&-5\\\\\\end{matrix}\\right)$$\n",
    "\n",
    "$$|A-\\lambda I|=\\left\\vert\\begin{matrix}-2-\\lambda&-2\\\\ 1&-5-\\lambda\\end{matrix}\\right\\vert=(-2-\\lambda)(-5-\\lambda)-(-2)$$\n",
    "\n",
    "$$=10+5\\lambda+\\lambda^2+2\\lambda+2=\\lambda^2+7\\lambda+12=(\\lambda+3)(\\lambda+4)=0$$\n",
    "\n",
    "So the eigenvalues are $\\lambda_1=-3$ and $\\lambda_2=-4$."
   ]
  },
  {
   "cell_type": "markdown",
   "metadata": {
    "slideshow": {
     "slide_type": "slide"
    }
   },
   "source": [
    "## Eigenvalues using Python\n",
    "\n",
    "Numpy:"
   ]
  },
  {
   "cell_type": "code",
   "execution_count": null,
   "metadata": {
    "slideshow": {
     "slide_type": "-"
    }
   },
   "outputs": [],
   "source": [
    "A = np.array([[-2, -2], [1, -5]])\n",
    "np.linalg.eig(A)[0]\n"
   ]
  },
  {
   "cell_type": "markdown",
   "metadata": {
    "slideshow": {
     "slide_type": "-"
    }
   },
   "source": [
    "SymPy:"
   ]
  },
  {
   "cell_type": "code",
   "execution_count": null,
   "metadata": {
    "slideshow": {
     "slide_type": "-"
    }
   },
   "outputs": [],
   "source": [
    "A2 = sp.Matrix([[-2, -2], [1, -5]])\n",
    "A2.eigenvals()\n"
   ]
  },
  {
   "cell_type": "markdown",
   "metadata": {
    "slideshow": {
     "slide_type": "slide"
    }
   },
   "source": [
    "## Finding Eigenvectors\n",
    "\n",
    "For an eigenvalue, the corresponding vector comes from substitution into $\\;A \\textbf{v} = \\lambda \\textbf{v}$:\n",
    "\n",
    "\n",
    "### Example\n",
    "What are the eigenvectors for\n",
    "\n",
    "$$A=\\left(\\begin{matrix}-2&-2\\\\ 1&-5\\\\\\end{matrix}\\right)?$$"
   ]
  },
  {
   "cell_type": "markdown",
   "metadata": {
    "slideshow": {
     "slide_type": "slide"
    }
   },
   "source": [
    "The eigenvalues are $\\;\\lambda_1=-3\\;$ and $\\;\\lambda_2=-4.\\;$\n",
    "The eigenvectors are $\\;\\textbf{v}_1\\;$ and $\\;\\textbf{v}_2\\;$ where:\n",
    "\n",
    "$$A\\textbf{v}_1=\\lambda_1 \\textbf{v}_1.$$\n",
    "\n",
    "$$\\begin{eqnarray*}\n",
    "\\left(\\begin{matrix}-2&-2\\\\ 1&-5\\\\\\end{matrix}\\right)\n",
    "\\left(\\begin{matrix}u_1\\\\ v_1\\\\\\end{matrix}\\right)\n",
    "&=&\n",
    "\\left(\\begin{matrix}-3u_1\\\\ -3v_1\\\\\\end{matrix}\\right),\\\\\n",
    "u_1 &=& 2v_1.  \\mbox{  (from the top or bottom equation)}\\\\\n",
    "\\left(\\begin{matrix}u_1\\\\ v_1\\\\\\end{matrix}\\right)\n",
    "&=&\n",
    "\\left(\\begin{matrix}2 \\\\ 1\\\\\\end{matrix}\\right),\n",
    "\\left(\\begin{matrix}1 \\\\ 0.5\\\\\\end{matrix}\\right),\n",
    "\\left(\\begin{matrix}-4.4 \\\\ -2.2\\\\\\end{matrix}\\right),\n",
    "\\left(\\begin{matrix}2\\alpha \\\\ \\alpha\\\\\\end{matrix}\\right)\\ldots\n",
    "\\end{eqnarray*}$$"
   ]
  },
  {
   "cell_type": "markdown",
   "metadata": {
    "slideshow": {
     "slide_type": "slide"
    }
   },
   "source": [
    "## Eigenvectors in Python\n",
    "\n",
    "Numpy:"
   ]
  },
  {
   "cell_type": "code",
   "execution_count": null,
   "metadata": {
    "slideshow": {
     "slide_type": "fragment"
    }
   },
   "outputs": [],
   "source": [
    "A = np.array([[-2, -2], [1, -5]])\n",
    "np.linalg.eig(A)[1]\n"
   ]
  },
  {
   "cell_type": "markdown",
   "metadata": {
    "slideshow": {
     "slide_type": "fragment"
    }
   },
   "source": [
    "SymPy:"
   ]
  },
  {
   "cell_type": "code",
   "execution_count": null,
   "metadata": {
    "slideshow": {
     "slide_type": "-"
    }
   },
   "outputs": [],
   "source": [
    "c = sp.symbols('c')\n",
    "A2 = sp.Matrix([[-2, c], [1, -5]])\n",
    "A2.eigenvects()\n"
   ]
  },
  {
   "cell_type": "markdown",
   "metadata": {
    "slideshow": {
     "slide_type": "slide"
    }
   },
   "source": [
    "## Diagonalising matrices\n",
    "\n",
    "Any nonsingular matrix $A$ can be rewritten as a product of eigenvectors and eigenvalues.  \n",
    "\n",
    "If $\\;A\\;$ has eigenvalues $\\;\\lambda_1\\;$ and $\\;\\lambda_2\\;$ with corresponding eigenvectors  $\\;\\left(\\begin{matrix}u_1\\\\ v_1\\\\\\end{matrix}\\right)\\;$ and\n",
    "$\\left(\\begin{matrix}u_2\\\\ v_2\\\\\\end{matrix}\\right)$ then\n",
    "\n",
    "$$\\begin{eqnarray}\n",
    "A =\n",
    "\\left(\\begin{matrix}u_1 & u_2\\\\v_1 & v_2\\\\\\end{matrix}\\right)\n",
    "\\left(\\begin{matrix}\\lambda_1 & 0\\\\0 & \\lambda_2\\\\\\end{matrix}\\right)\n",
    "\\left(\\begin{matrix}u_1 & u_2\\\\v_1 & v_2\\\\\\end{matrix}\\right)^{-1}. \\label{eq:diag}\n",
    "\\end{eqnarray}$$\n",
    "\n",
    "This is like a scaling surrounded by rotations and separates how much effect the matrix has $\\;(\\lambda_i)\\;$ from the directions $\\;(\\textbf{v}_i).$\n"
   ]
  },
  {
   "cell_type": "markdown",
   "metadata": {
    "slideshow": {
     "slide_type": "slide"
    }
   },
   "source": [
    "## For example\n",
    "\n",
    "$$A=\\left(\\begin{matrix}-2&-2\\\\ 1&-5\\\\\\end{matrix}\\right)$$"
   ]
  },
  {
   "cell_type": "code",
   "execution_count": null,
   "metadata": {
    "slideshow": {
     "slide_type": "slide"
    }
   },
   "outputs": [],
   "source": [
    "A = np.array([[-2, -2], [1, -5]])\n",
    "w, v = np.linalg.eig(A)\n",
    "inv_v = np.linalg.inv(v)\n",
    "\n",
    "np.matmul( np.matmul(v, np.diag(w)) , inv_v )\n"
   ]
  },
  {
   "cell_type": "markdown",
   "metadata": {
    "slideshow": {
     "slide_type": "slide"
    }
   },
   "source": [
    "## Orthogonal eigenvectors\n",
    "If $\\;\\textbf{x}_1\\;$ and $\\;\\textbf{x}_2\\;$ are perpendicular or **orthogonal** vectors, then the scalar/dot product is zero.\n",
    "\n",
    "$$\\textbf{x}_1.\\textbf{x}_2=0$$\n",
    "\n",
    "e.g.\n",
    "\n",
    "$$\\textbf{x}_1.\\textbf{x}_2=\\left(\\begin{matrix}2\\\\ -1\\\\ 3\\end{matrix}\\right).\\left(\\begin{matrix}2\\\\ 7\\\\ 1\\end{matrix}\\right)=2\\times 2+(-1\\times 7)+(3\\times1)=4-7+3=0.$$\n",
    "\n",
    "Since this dot product is zero, the vectors $\\textbf{x}_1$ and $\\textbf{x}_2$ are orthogonal."
   ]
  },
  {
   "cell_type": "markdown",
   "metadata": {
    "slideshow": {
     "slide_type": "slide"
    }
   },
   "source": [
    "## Symmetric matricies\n",
    "\n",
    "Symmetric matricies have orthogonal eigenvectors, e.g.\n",
    "\n",
    "$$A=\\left(\\begin{matrix}19&20&-16\\\\ 20&13&4 \\\\ -16&4&31\\\\\\end{matrix}\\right)$$"
   ]
  },
  {
   "cell_type": "code",
   "execution_count": null,
   "metadata": {
    "slideshow": {
     "slide_type": "slide"
    }
   },
   "outputs": [],
   "source": [
    "A = np.array([[19, 20, -16], [20, 13, 4], [-16, 4, 31]])\n",
    "w, v = np.linalg.eig(A)\n",
    "print(v)\n",
    "print('\\ndot products of eigenvectors:\\n')\n",
    "print(np.dot(v[:,0],v[:,1]))\n",
    "print(np.dot(v[:,0],v[:,2]))\n",
    "print(np.dot(v[:,1],v[:,2]))\n"
   ]
  },
  {
   "cell_type": "markdown",
   "metadata": {
    "slideshow": {
     "slide_type": "slide"
    }
   },
   "source": [
    "## Normalised eigenvectors\n",
    "If\n",
    "\n",
    "$$\\left(\\begin{matrix}x\\\\ y\\\\ z\\\\\\end{matrix}\\right),$$\n",
    "\n",
    "is an eigenvector, then\n",
    "\n",
    "$$\\left(\\begin{matrix}\\frac{x}{\\sqrt{x^2+y^2+z^2}}\\\\ \\frac{y}{\\sqrt{x^2+y^2+z^2} }\\\\ \\frac{z}{\\sqrt{x^2+y^2+z^2} }\\end{matrix}\\right)$$\n",
    "\n",
    "is the corresponding normalised vector: a vector of unit length (magnitude)."
   ]
  },
  {
   "cell_type": "markdown",
   "metadata": {
    "slideshow": {
     "slide_type": "slide"
    }
   },
   "source": [
    "## Orthogonal matrices\n",
    "A matrix is orthogonal if its columns are normalised orthogonal vectors.\n",
    "One can prove that if $\\;M\\;$ is orthogonal then:\n",
    "\n",
    "  $$M^TM=I\\qquad M^T=M^{-1}$$\n",
    "\n",
    "\n",
    "Note that if the eigenvectors are written in orthogonal form then the diagonalising equation\n",
    "is simplified:\n",
    "\n",
    "\\begin{eqnarray*}\n",
    "A \n",
    "&=&\n",
    "\\left(\\begin{matrix}u_1 & u_2\\\\v_1 & v_2\\\\\\end{matrix}\\right)\n",
    "\\left(\\begin{matrix}\\lambda_1 & 0\\\\0 & \\lambda_2\\\\\\end{matrix}\\right)\n",
    "\\left(\\begin{matrix}u_1 & u_2\\\\v_1 & v_2\\\\\\end{matrix}\\right)^{-1}\n",
    "\\\\\n",
    "&=&\n",
    "\\left(\\begin{matrix}u_1 & u_2\\\\v_1 & v_2\\\\\\end{matrix}\\right)\n",
    "\\left(\\begin{matrix}\\lambda_1 & 0\\\\0 & \\lambda_2\\\\\\end{matrix}\\right)\n",
    "\\left(\\begin{matrix}u_1 & v_1\\\\u_2 & v_2\\\\\\end{matrix}\\right).\n",
    "\\end{eqnarray*}\n",
    "\n"
   ]
  },
  {
   "cell_type": "markdown",
   "metadata": {
    "slideshow": {
     "slide_type": "slide"
    }
   },
   "source": [
    "## Summary\n",
    "\n",
    "- Matrix representation of simultaneous equations\n",
    "- Matrix-vector and matrix-matrix multiplication\n",
    "- Determinant, inverse and transpose\n",
    "- Null space of singular matrices\n",
    "- Finding eigenvalues and eigenvectors\n",
    "- Python for solving systems, finding inverse, null space and eigenvalues/vectors\n",
    "- Diagonalising matrices (we will use this for systems of differential equations)"
   ]
  }
 ],
 "metadata": {
  "celltoolbar": "Slideshow",
  "kernelspec": {
   "display_name": "Python 3",
   "language": "python",
   "name": "python3"
  },
  "language_info": {
   "codemirror_mode": {
    "name": "ipython",
    "version": 3
   },
   "file_extension": ".py",
   "mimetype": "text/x-python",
   "name": "python",
   "nbconvert_exporter": "python",
   "pygments_lexer": "ipython3",
   "version": "3.8.5"
  }
 },
 "nbformat": 4,
 "nbformat_minor": 2
}
