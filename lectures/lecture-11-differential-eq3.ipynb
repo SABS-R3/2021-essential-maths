{
 "cells": [
  {
   "cell_type": "markdown",
   "metadata": {
    "slideshow": {
     "slide_type": "slide"
    }
   },
   "source": [
    "# Lecture 11\n",
    "\n",
    "## Differential Equations III:\n",
    "\n",
    "### Steady State Solutions and Mass Action"
   ]
  },
  {
   "cell_type": "code",
   "execution_count": null,
   "metadata": {
    "slideshow": {
     "slide_type": "skip"
    }
   },
   "outputs": [],
   "source": [
    "import numpy as np\n",
    "import sympy as sp\n",
    "import scipy.integrate\n",
    "sp.init_printing()\n",
    "##################################################\n",
    "##### Matplotlib boilerplate for consistency #####\n",
    "##################################################\n",
    "from ipywidgets import interact\n",
    "from ipywidgets import FloatSlider\n",
    "from matplotlib import pyplot as plt\n",
    "\n",
    "%matplotlib inline\n",
    "\n",
    "from IPython.display import set_matplotlib_formats\n",
    "set_matplotlib_formats('svg')\n",
    "\n",
    "global_fig_width = 10\n",
    "global_fig_height = global_fig_width / 1.61803399\n",
    "font_size = 12\n",
    "\n",
    "plt.rcParams['axes.axisbelow'] = True\n",
    "plt.rcParams['axes.edgecolor'] = '0.8'\n",
    "plt.rcParams['axes.grid'] = True\n",
    "plt.rcParams['axes.labelpad'] = 8\n",
    "plt.rcParams['axes.linewidth'] = 2\n",
    "plt.rcParams['axes.titlepad'] = 16.0\n",
    "plt.rcParams['axes.titlesize'] = font_size * 1.4\n",
    "plt.rcParams['figure.figsize'] = (global_fig_width, global_fig_height)\n",
    "plt.rcParams['font.sans-serif'] = ['Computer Modern Sans Serif', 'DejaVu Sans', 'sans-serif']\n",
    "plt.rcParams['font.size'] = font_size\n",
    "plt.rcParams['grid.color'] = '0.8'\n",
    "plt.rcParams['grid.linestyle'] = 'dashed'\n",
    "plt.rcParams['grid.linewidth'] = 2\n",
    "plt.rcParams['lines.dash_capstyle'] = 'round'\n",
    "plt.rcParams['lines.dashed_pattern'] = [1, 4]\n",
    "plt.rcParams['xtick.labelsize'] = font_size\n",
    "plt.rcParams['xtick.major.pad'] = 4\n",
    "plt.rcParams['xtick.major.size'] = 0\n",
    "plt.rcParams['ytick.labelsize'] = font_size\n",
    "plt.rcParams['ytick.major.pad'] = 4\n",
    "plt.rcParams['ytick.major.size'] = 0\n",
    "##################################################"
   ]
  },
  {
   "cell_type": "markdown",
   "metadata": {
    "slideshow": {
     "slide_type": "slide"
    }
   },
   "source": [
    "## Steady-state solutions\n",
    "\n",
    "- It is often useful to find the **steady state** of a system described by \n",
    "  ordinary differential equations\n",
    "\n",
    "\n",
    "- This occurs when all rates (i.e. derivatives) are zero\n",
    "\n",
    "\n",
    "- A steady state may be **stable** or **unstable**, depending on whether or not small deviations from the steady state tend to be corrected or amplified\n",
    "\n",
    "\n",
    "- We can evaluate the stability of a steady state by considering the sign of the derivative nearby"
   ]
  },
  {
   "cell_type": "markdown",
   "metadata": {
    "slideshow": {
     "slide_type": "slide"
    }
   },
   "source": [
    "## Example:\n",
    "\n",
    "Recall the radioactive decay equation $\\displaystyle \\frac{{\\rm d}N}{{\\rm d}t} = -\\lambda N.$"
   ]
  },
  {
   "cell_type": "code",
   "execution_count": null,
   "metadata": {
    "slideshow": {
     "slide_type": "skip"
    }
   },
   "outputs": [],
   "source": [
    "t = np.linspace(0,6,100)\n",
    "l = 1.0\n",
    "N0 = 1.0\n",
    "def dNdt(N, t):\n",
    "    return -l * N\n",
    "N = scipy.integrate.odeint(dNdt, N0, t)\n",
    "\n",
    "def plot_graph():\n",
    "    plt.plot(t,N,label='N')\n",
    "    plt.plot(t,dNdt(N,t),label='dN/dt')\n",
    "    plt.legend()\n",
    "    plt.xlabel('t')"
   ]
  },
  {
   "cell_type": "code",
   "execution_count": null,
   "metadata": {
    "slideshow": {
     "slide_type": "subslide"
    }
   },
   "outputs": [],
   "source": [
    "plot_graph()"
   ]
  },
  {
   "cell_type": "markdown",
   "metadata": {
    "slideshow": {
     "slide_type": "subslide"
    }
   },
   "source": [
    "- Here the steady state occurs when $N=0$, and is 'reached' after infinite time.\n",
    "\n",
    "\n",
    "- For small positive $N$ the derivative $\\;\\displaystyle \\frac{{\\rm d}N}{{\\rm d}t}\\;$ is negative, moving the \n",
    "  system towards the steady state.\n",
    "\n",
    "\n",
    "- Physical considerations show that negative $N$ is impossible, hence the steady \n",
    "  state is stable as we would expect."
   ]
  },
  {
   "cell_type": "markdown",
   "metadata": {
    "slideshow": {
     "slide_type": "slide"
    }
   },
   "source": [
    "## Example:\n",
    "\n",
    "Consider a simple model of the production and degradation of a protein, shown by the reaction chain $\\;\\;\\overset{v_1}{\\rightarrow}S\\overset{v_2}{\\rightarrow}\\;\\;$ where $\\;v_1\\;$ and $\\;v_2\\;$ are reaction rates, and let $\\;s=[S]$.\n",
    "\n",
    "We can represent the change in concentration of the protein by\n",
    "\n",
    "$$ \\frac{{\\rm d}s}{{\\rm d}t} = v_1 - v_2 $$\n",
    "\n",
    "so the steady state occurs when $\\;v_1 = v_2$."
   ]
  },
  {
   "cell_type": "markdown",
   "metadata": {
    "slideshow": {
     "slide_type": "slide"
    }
   },
   "source": [
    "### Mass action\n",
    "\n",
    "$$\\;\\;\\overset{v_1}{\\rightarrow}S\\overset{v_2}{\\rightarrow}\\;\\;$$\n",
    "\n",
    "Suppose the reaction is governed by \"mass action\" kinetics, so $\\;v_1=k_1\\;$ (constant) and $\\;v_2=k_2 s$.\n",
    "\n",
    "The equation is then\n",
    "\n",
    "$$\\frac{{\\rm d}s}{{\\rm d}t} = k_1 - k_2 s.$$\n",
    "\n",
    "The steady state is given by $s = k_1/k_2$, and it is stable:"
   ]
  },
  {
   "cell_type": "code",
   "execution_count": null,
   "metadata": {
    "slideshow": {
     "slide_type": "skip"
    }
   },
   "outputs": [],
   "source": [
    "def plot_linear_steady_state():\n",
    "    k_1 = 1.0\n",
    "    k_2 = 1.0\n",
    "    s = np.linspace(0,2,100)\n",
    "    dsdt = k_1 - k_2*s\n",
    "    plt.plot(s,dsdt)\n",
    "    plt.xlabel('s')\n",
    "    plt.ylabel(r'$\\frac{ds}{dt}$')\n",
    "    plt.axvline(x=k_1/k_2,ls='--')\n",
    "    plt.axhline(y=0,ls='--')"
   ]
  },
  {
   "cell_type": "code",
   "execution_count": null,
   "metadata": {
    "slideshow": {
     "slide_type": "subslide"
    }
   },
   "outputs": [],
   "source": [
    "plot_linear_steady_state()"
   ]
  },
  {
   "cell_type": "markdown",
   "metadata": {
    "slideshow": {
     "slide_type": "subslide"
    }
   },
   "source": [
    "We can solve the differential equation by separation of variables.\n",
    "\n",
    "$$ \\int {1\\over k_1 - k_2 s}~{\\rm d}s = \\int~{\\rm d}t $$\n",
    "\n",
    "$$ s(t) = Be^{-k_2 t} + {k_1\\over k_2} $$\n",
    "\n",
    "Thus the concentration of $S$ relaxes exponentially to the steady state, no matter the initial condition.\n",
    "\n",
    "If the initial concentration of $S$ is given by $s_0$ then\n",
    "\n",
    "$$ s(t) = s_0 e^{-k_2 t} + {k_1\\over k_2}\\left(1-e^{-k_2 t}\\right) $$"
   ]
  },
  {
   "cell_type": "markdown",
   "metadata": {
    "slideshow": {
     "slide_type": "slide"
    }
   },
   "source": [
    "Suppose instead that $S$ enhances its own production (positive feedback) and the degradation rate is nonlinear, so $v_1=k_1 s$ and $v_2=k_2 s^2$:\n",
    "\n",
    "\n",
    "$$\\frac{{\\rm d}s}{{\\rm d}t} = k_1s - k_2 s^2$$\n",
    "\n",
    "\n",
    "Then the system will be at steady state when $k_1 s = k_2 s^2$, i.e. $s=0$ or \n",
    "$s=k_1/k_2$."
   ]
  },
  {
   "cell_type": "markdown",
   "metadata": {
    "slideshow": {
     "slide_type": "fragment"
    }
   },
   "source": [
    "We can plot $\\;\\displaystyle \\frac{{\\rm d}s}{{\\rm d}t}\\;$ versus $\\;s\\;$ to see if they are stable or unstable:"
   ]
  },
  {
   "cell_type": "code",
   "execution_count": null,
   "metadata": {
    "slideshow": {
     "slide_type": "skip"
    }
   },
   "outputs": [],
   "source": [
    "def plot_dsdt(k_1,k_2):\n",
    "    s = np.linspace(-0.1,2,100)\n",
    "    dsdt = k_1*s - k_2*s**2\n",
    "    plt.plot(s,dsdt)\n",
    "    plt.xlabel('s')\n",
    "    plt.ylabel(r'$\\frac{ds}{dt}$')\n",
    "    plt.axvline(x=k_1/k_2,ls='--')\n",
    "    plt.axvline(x=0,ls='--')\n",
    "    plt.axhline(y=0,ls='--')\n",
    "\n",
    "def plot_quadratic_steady_state():\n",
    "    interact(plot_dsdt, k_1 = FloatSlider(value=1,min=0.01,max=2.0,step=0.01,continuous_update=False), k_2 = FloatSlider(value=1,min=0.01,max=2.0,step=0.01,continuous_update=False), continuous_update=False)"
   ]
  },
  {
   "cell_type": "code",
   "execution_count": null,
   "metadata": {
    "slideshow": {
     "slide_type": "slide"
    }
   },
   "outputs": [],
   "source": [
    "plot_quadratic_steady_state()"
   ]
  },
  {
   "cell_type": "markdown",
   "metadata": {
    "slideshow": {
     "slide_type": "slide"
    }
   },
   "source": [
    "### Non-graphical method\n",
    "\n",
    "$$\\frac{{\\rm d}s}{{\\rm d}t} = k_1s - k_2 s^2$$\n",
    "\n",
    "- When $s$ is small (and positive, since it is a concentration) $s\\gg s^2$ so the derivative $k_1 s - k_2 s^2$ will be positive, making $s=0$ an unstable steady state.\n",
    "\n",
    "- For the other steady state, consider small deviations by $\\varepsilon$ from the steady state, e.g. $s=k_1/k_2 + \\varepsilon$.\n",
    "  \n",
    "Then $\\;\\;\\displaystyle s^2=\\frac{k_1^2}{k_2^2} + 2 \\varepsilon\\frac{k_1}{k_2} + \\varepsilon^2\\;$ and the derivative is $\\; - k_1\\varepsilon - k_2\\varepsilon^2$.\n",
    "\n",
    "It is, since $\\varepsilon\\gg\\varepsilon^2$, negative, pushing $s$ back towards the steady state, hence it is a stable steady state."
   ]
  },
  {
   "cell_type": "markdown",
   "metadata": {
    "slideshow": {
     "slide_type": "slide"
    }
   },
   "source": [
    "## Example:\n",
    "\n",
    "The growth of a cell colony can be modelled by the *logistic* equation\n",
    "\n",
    "$$ \\frac{{\\rm d}N}{{\\rm d}t} = rN\\left(1 - {N\\over K}\\right) $$\n",
    "\n",
    "where $\\;N(t)\\;$ is the number of cells at time $\\;t,\\;$ and $\\;r\\;$ and $\\;K\\;$ are constant parameters (both positive).\n",
    "\n",
    "The steady state for the system, or equilibrium population size, occurs when the growth rate is zero, i.e.\n",
    "\n",
    "$$ \\frac{{\\rm d}N}{{\\rm d}t} = 0 \\quad\\Rightarrow\\quad rN = {r\\over K}N^2 \\quad\\Rightarrow\\quad N = 0 {\\rm~or~} N = K.$$"
   ]
  },
  {
   "cell_type": "code",
   "execution_count": null,
   "metadata": {
    "slideshow": {
     "slide_type": "skip"
    }
   },
   "outputs": [],
   "source": [
    "def plot_dNdt(r,K):\n",
    "    N = np.linspace(-0.1,2,100)\n",
    "    dNdt = r*N*(1 - N/K)\n",
    "    plt.plot(N,dNdt)\n",
    "    plt.xlabel('N')\n",
    "    plt.ylabel(r'$\\frac{dN}{dt}$')\n",
    "    plt.axvline(x=K,ls='--')\n",
    "    plt.axvline(x=0,ls='--')\n",
    "    plt.axhline(y=0,ls='--')\n",
    "    \n",
    "def plot_logistic_steady_state():\n",
    "    interact(plot_dNdt, r = FloatSlider(value=1,min=0.01,max=2.0,step=0.01),\n",
    "                    K = FloatSlider(value=1,min=0.01,max=2.0,step=0.01))"
   ]
  },
  {
   "cell_type": "code",
   "execution_count": null,
   "metadata": {
    "slideshow": {
     "slide_type": "slide"
    }
   },
   "outputs": [],
   "source": [
    "plot_logistic_steady_state()"
   ]
  },
  {
   "cell_type": "markdown",
   "metadata": {
    "slideshow": {
     "slide_type": "-"
    }
   },
   "source": [
    "- for small positive $N$, $rN>0$ and $N<K$ so $\\displaystyle \\frac{{\\rm d}N}{{\\rm d}t}>0$ and the population \n",
    "  size will increase, meaning that $N=0$ is an unstable steady state.\n",
    "\n",
    "\n",
    "- In fact the growth rate is positive for $0<N<K$ and negative for $N>K$, making \n",
    "  $N=K$ a stable steady state."
   ]
  },
  {
   "cell_type": "markdown",
   "metadata": {
    "slideshow": {
     "slide_type": "slide"
    }
   },
   "source": [
    "We can solve the differential equation to examine the transient behaviour.\n",
    "This is a separable equation, so\n",
    "\n",
    "$$ \\int {1\\over rKN-rN^2}~{\\rm d}N = \\int {1\\over K}~{\\rm d}t $$\n",
    "\n",
    "Solve this, using partial fractions on the left hand side:\n",
    "\n",
    "- With initial conditions $N(0)=N_0$ you get\n",
    "$$ N(t) = {K N_0 e^{rt}\\over K + N_0(e^{rt}-1)} $$"
   ]
  },
  {
   "cell_type": "markdown",
   "metadata": {
    "slideshow": {
     "slide_type": "slide"
    }
   },
   "source": [
    "## Summary of first order differential equations\n",
    "\n",
    "To solve a differential equation:\n",
    "\n",
    "1. Calculate the general solution\n",
    "    1. Try to write it as a separable equation first\n",
    "    2. Other methods (e.g. integrating factors) not covered in this course\n",
    "2. This general solution will include an arbitrary constant this may be eliminated using initial conditions (if these are given)\n",
    "3. Can check your solution numerically using Python\n",
    "\n",
    "To find steady state (equilibrium) solutions, find points where all (first) derivatives are zero.\n",
    "\n",
    "To determine stability of these steady states, look at the behaviour of the first derivative in the vicinity of the steady state.\n",
    "You can sketch the first derivative, or use Python to help with this."
   ]
  },
  {
   "cell_type": "markdown",
   "metadata": {
    "slideshow": {
     "slide_type": "slide"
    }
   },
   "source": [
    "## Chemical reactions to equations: Mass action\n",
    "\n",
    "- Chemical reactions assume uniform mixing\n",
    "\n",
    "- Rates proportional to product of masses\n",
    "\n",
    "- Predator/prey and epidemics have similar rules"
   ]
  },
  {
   "cell_type": "markdown",
   "metadata": {
    "slideshow": {
     "slide_type": "slide"
    }
   },
   "source": [
    "1. A and B produce C. The reaction is governed by A meeting B:\n",
    "\n",
    "$$A+B\\underset{^k}{\\rightarrow} C$$\n",
    "    \n",
    "\\begin{align*}\n",
    "\\frac{{\\rm d}[A]}{{\\rm d}t} &= -k[A][B] \\\\\n",
    "\\frac{{\\rm d}[B]}{{\\rm d}t} &= -k[A][B] \\\\\n",
    "\\frac{{\\rm d}[C]}{{\\rm d}t} &= k[A][B] \\\\\n",
    "\\end{align*}"
   ]
  },
  {
   "cell_type": "markdown",
   "metadata": {
    "slideshow": {
     "slide_type": "slide"
    }
   },
   "source": [
    "2. Predation of R by W \n",
    "\n",
    "$$R+W\\underset{^k}{\\rightarrow} W$$\n",
    "\n",
    "$$\\frac{{\\rm d}R}{{\\rm d}t} = -kRW$$\n",
    "\n",
    "3. Constant production (zeroth order)\n",
    "\n",
    "$$0 \\underset{^k}{\\rightarrow} A$$ \n",
    "\n",
    "$$\\frac{{\\rm d}[A]}{{\\rm d}t} = k$$"
   ]
  },
  {
   "cell_type": "markdown",
   "metadata": {
    "slideshow": {
     "slide_type": "slide"
    }
   },
   "source": [
    "4. Degradation/death \n",
    "\n",
    "$$C \\underset{^k}{\\rightarrow} 0$$\n",
    "\n",
    "$$\\frac{{\\rm d}[C]}{{\\rm d}t} = -k[C]$$"
   ]
  },
  {
   "cell_type": "markdown",
   "metadata": {
    "slideshow": {
     "slide_type": "skip"
    }
   },
   "source": [
    "## Numerically solving differential equations\n",
    "\n",
    "What if we can't solve the differential equation?\n",
    "\n",
    "$$ \\frac{{\\rm d}y}{{\\rm d}t} = \\sin\\left(\\frac{y\\ln(t\\cos(y))}{\\sqrt{1+y/e^t}}\\right) + 3$$"
   ]
  },
  {
   "cell_type": "markdown",
   "metadata": {
    "slideshow": {
     "slide_type": "skip"
    }
   },
   "source": [
    "## Numerically solving differential equations\n",
    "\n",
    "What if we can't solve the differential equation?\n",
    "\n",
    "$$ \\frac{{\\rm d}y}{{\\rm d}t} = \\sin\\left(\\frac{y\\ln(t\\cos(y))}{\\sqrt{1+y/e^t}}\\right) + 3$$\n",
    "\n",
    "(or we just don't want to)"
   ]
  },
  {
   "cell_type": "markdown",
   "metadata": {
    "slideshow": {
     "slide_type": "skip"
    }
   },
   "source": [
    "## Euler's method\n",
    "\n",
    "Given a differential equation\n",
    "\n",
    "$$ \\frac{{\\rm d}y}{{\\rm d}t} = f(y, t)$$\n",
    "\n",
    "with initial state $\\;y(t = t_0) = y_0,\\;$ we can *approximate* the state at $t = t_0 + \\delta{t}$ as:\n",
    "\n",
    "$$ y_1 = y(t + \\delta{t}) \\approx y_0 + f(y, t) \\cdot \\delta{t}$$\n",
    "\n",
    "and the next state as\n",
    "$$ y_2 = y(t + 2\\delta{t}) \\approx y_1 + f(y, t) \\cdot \\delta{t}$$\n",
    "\n",
    "and so on!"
   ]
  },
  {
   "cell_type": "markdown",
   "metadata": {
    "slideshow": {
     "slide_type": "skip"
    }
   },
   "source": [
    "## Euler's method\n",
    "\n",
    "This mean's we can estimate the *entire time course of $y(t)$*, provided: \n",
    "\n",
    "1. We can calculate $f(y, t)$ (or approximate it with a computer)\n",
    "2. We're patient enough to take really tiny steps $\\delta{t}$\n",
    "\n",
    "This is really simple with a computer! See the Python helpsheet for details."
   ]
  }
 ],
 "metadata": {
  "celltoolbar": "Slideshow",
  "kernelspec": {
   "display_name": "Python 3",
   "language": "python",
   "name": "python3"
  },
  "language_info": {
   "codemirror_mode": {
    "name": "ipython",
    "version": 3
   },
   "file_extension": ".py",
   "mimetype": "text/x-python",
   "name": "python",
   "nbconvert_exporter": "python",
   "pygments_lexer": "ipython3",
   "version": "3.8.5"
  }
 },
 "nbformat": 4,
 "nbformat_minor": 2
}
