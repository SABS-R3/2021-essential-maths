{
 "cells": [
  {
   "cell_type": "markdown",
   "metadata": {
    "slideshow": {
     "slide_type": "slide"
    }
   },
   "source": [
    "# Lecture 14\n",
    "\n",
    "## Systems of Differential Equations I:\n",
    "\n",
    "### Linear Systems"
   ]
  },
  {
   "cell_type": "code",
   "execution_count": null,
   "metadata": {
    "slideshow": {
     "slide_type": "skip"
    }
   },
   "outputs": [],
   "source": [
    "import numpy as np\n",
    "import sympy as sp\n",
    "import scipy.integrate\n",
    "sp.init_printing()\n",
    "##################################################\n",
    "##### Matplotlib boilerplate for consistency #####\n",
    "##################################################\n",
    "from ipywidgets import interact\n",
    "from ipywidgets import FloatSlider\n",
    "from matplotlib import pyplot as plt\n",
    "\n",
    "import cmath\n",
    "\n",
    "%matplotlib inline\n",
    "\n",
    "from IPython.display import set_matplotlib_formats\n",
    "set_matplotlib_formats('svg')\n",
    "\n",
    "global_fig_width = 8\n",
    "global_fig_height = global_fig_width / 1.61803399\n",
    "font_size = 12\n",
    "\n",
    "plt.rcParams['axes.axisbelow'] = True\n",
    "plt.rcParams['axes.edgecolor'] = '0.8'\n",
    "plt.rcParams['axes.grid'] = True\n",
    "plt.rcParams['axes.labelpad'] = 8\n",
    "plt.rcParams['axes.linewidth'] = 2\n",
    "plt.rcParams['axes.titlepad'] = 16.0\n",
    "plt.rcParams['axes.titlesize'] = font_size * 1.4\n",
    "plt.rcParams['figure.figsize'] = (global_fig_width, global_fig_height)\n",
    "plt.rcParams['font.sans-serif'] = ['Computer Modern Sans Serif', 'DejaVu Sans', 'sans-serif']\n",
    "plt.rcParams['font.size'] = font_size\n",
    "plt.rcParams['grid.color'] = '0.8'\n",
    "plt.rcParams['grid.linestyle'] = 'dashed'\n",
    "plt.rcParams['grid.linewidth'] = 2\n",
    "plt.rcParams['lines.dash_capstyle'] = 'round'\n",
    "plt.rcParams['lines.dashed_pattern'] = [1, 4]\n",
    "plt.rcParams['xtick.labelsize'] = font_size\n",
    "plt.rcParams['xtick.major.pad'] = 4\n",
    "plt.rcParams['xtick.major.size'] = 0\n",
    "plt.rcParams['ytick.labelsize'] = font_size\n",
    "plt.rcParams['ytick.major.pad'] = 4\n",
    "plt.rcParams['ytick.major.size'] = 0\n",
    "##################################################"
   ]
  },
  {
   "cell_type": "markdown",
   "metadata": {
    "slideshow": {
     "slide_type": "slide"
    }
   },
   "source": [
    "Our aim is to solve systems of equations of the form:\n",
    "\n",
    "$$\\frac{{\\rm d}y_i}{{\\rm d}t} = f_i(y_1,\\ldots,y_n,t),$$\n",
    "\n",
    "for $\\displaystyle i=1,\\ldots,n$.\n",
    "\n",
    "\n",
    "Let us first consider the simplest form: a $2\\times2$ **linear** system\n",
    "\n",
    "  \\begin{eqnarray*}\n",
    "    \\frac{{\\rm d}x}{{\\rm d}t} &=& ax+by,\\\\\n",
    "    \\frac{{\\rm d}y}{{\\rm d}t} &=& cx+dy.\n",
    "  \\end{eqnarray*}"
   ]
  },
  {
   "cell_type": "markdown",
   "metadata": {
    "slideshow": {
     "slide_type": "slide"
    }
   },
   "source": [
    "## Motivation\n",
    "\n",
    "- Lotka-Volterra (predator-prey)\n",
    "\n",
    "- SIR model (epidemics)\n",
    "\n",
    "- Chemical reaction networks\n",
    "\n",
    "- Heart cell dynamics\n",
    "\n",
    "In order to understand these systems, we must first understand coupled linear systems."
   ]
  },
  {
   "cell_type": "markdown",
   "metadata": {
    "slideshow": {
     "slide_type": "subslide"
    }
   },
   "source": [
    "## Recap of eigenvalues\n",
    "\n",
    "$A = \\left(\\begin{matrix} 1 & 1\\\\2 & 0  \\end{matrix}\\right)$"
   ]
  },
  {
   "cell_type": "code",
   "execution_count": null,
   "metadata": {
    "slideshow": {
     "slide_type": "-"
    }
   },
   "outputs": [],
   "source": [
    "A = sp.Matrix([[1, 1],[2, 0]])\n",
    "A.eigenvals()\n"
   ]
  },
  {
   "cell_type": "markdown",
   "metadata": {
    "slideshow": {
     "slide_type": "subslide"
    }
   },
   "source": [
    "## Recap of eigenvectors\n",
    "\n",
    "$A = \\left(\\begin{matrix} 1 & 1\\\\2 & 0  \\end{matrix}\\right)$"
   ]
  },
  {
   "cell_type": "code",
   "execution_count": null,
   "metadata": {
    "slideshow": {
     "slide_type": "-"
    }
   },
   "outputs": [],
   "source": [
    "A.eigenvects()\n"
   ]
  },
  {
   "cell_type": "markdown",
   "metadata": {
    "slideshow": {
     "slide_type": "subslide"
    }
   },
   "source": [
    "## Recap of diagonalisation\n",
    "\n",
    "Recall that, for a matrix $A$ with **eigenvectors** $\\mathbf{v}_1$ and $\\mathbf{v}_2$, and **eigenvalues** $\\lambda_1$ and $\\lambda_2$, we can write a matrix of eigenvectors: $P = \\left(\\begin{matrix} \\mathbf{v}_1 & \\mathbf{v}_2  \\end{matrix}\\right)$. Then:\n",
    "\n",
    "$$A = P \\left(\\begin{matrix} \\lambda_1 & 0 \\\\ 0&\n",
    "      \\lambda_2  \\end{matrix}\\right) P^{-1}$$\n",
    "\n",
    "(This is also true for general $n \\times n$ matrices.)\n",
    "\n",
    "In our example, $\\qquad P = \\left(\\begin{matrix} -\\frac{1}{2} & 1 \\\\\n",
    "                                1& 1 \\end{matrix}\\right),\\qquad\\lambda_1 = -1,\\qquad\\lambda_2=2.$"
   ]
  },
  {
   "cell_type": "markdown",
   "metadata": {
    "slideshow": {
     "slide_type": "slide"
    }
   },
   "source": [
    "## Coupled ODEs\n",
    "\n",
    "For coupled system of first order linear differential equations of the form\n",
    "\n",
    "  \\begin{eqnarray*}\n",
    "    \\frac{{\\rm d}x}{{\\rm d}t} &=& ax+by,\\\\\n",
    "    \\frac{{\\rm d}y}{{\\rm d}t} &=& cx+dy.\n",
    "  \\end{eqnarray*}\n",
    "\n",
    "we have three methods of analysing them mathematically:\n",
    "  - Turn them into one second order equation (if we can solve second order!)\n",
    "  - Divide one by other, to get one equation independent of $t$\n",
    "  - Perform matrix diagonalisation (extends to $n \\times n$ problems)"
   ]
  },
  {
   "cell_type": "markdown",
   "metadata": {
    "slideshow": {
     "slide_type": "slide"
    }
   },
   "source": [
    "## Example\n",
    "\n",
    "Solve\n",
    "  \\begin{eqnarray*}\n",
    "    \\frac{{\\rm d}x}{{\\rm d}t} &=& x+y,\\\\\n",
    "    \\frac{{\\rm d}y}{{\\rm d}t} &=& 2x.\n",
    "  \\end{eqnarray*}\n",
    "\n",
    "\n",
    "Subject to\n",
    "  \\begin{eqnarray*}\n",
    "    x(0) &=& 0,\\\\\n",
    "    y(0) &=& 3.\n",
    "  \\end{eqnarray*}"
   ]
  },
  {
   "cell_type": "markdown",
   "metadata": {
    "slideshow": {
     "slide_type": "slide"
    }
   },
   "source": [
    "## Method 1: Second order\n",
    "\n",
    "We start with:\n",
    "\n",
    "  \\begin{eqnarray*}\n",
    "    \\frac{{\\rm d}x}{{\\rm d}t} &=& x+y,\\\\\n",
    "    \\frac{{\\rm d}y}{{\\rm d}t} &=& 2x.\n",
    "  \\end{eqnarray*}\n",
    "  \n",
    "We can convert that into a second order equation:\n",
    "\n",
    "$$\n",
    "\\frac{{\\rm d}^2x}{{\\rm d}t^2}\n",
    "=\n",
    "\\frac{{\\rm d}x}{{\\rm d}t} + \\frac{{\\rm d}y}{{\\rm d}t}\n",
    "=\n",
    "\\frac{{\\rm d}x}{{\\rm d}t} + 2x\n",
    "\\quad \\quad\\implies \\quad\\quad\n",
    "\\boxed{\\frac{{\\rm d}^2x}{{\\rm d}t^2}\n",
    "=\n",
    "\\frac{{\\rm d}x}{{\\rm d}t} + 2x}\n",
    "$$"
   ]
  },
  {
   "cell_type": "markdown",
   "metadata": {
    "slideshow": {
     "slide_type": "slide"
    }
   },
   "source": [
    "## Method 2: eliminate $t$\n",
    "\n",
    "We start with:\n",
    "\n",
    "  \\begin{eqnarray*}\n",
    "    \\frac{{\\rm d}x}{{\\rm d}t} &=& x+y,\\\\\n",
    "    \\frac{{\\rm d}y}{{\\rm d}t} &=& 2x.\n",
    "  \\end{eqnarray*}\n",
    "\n",
    "Then, dividing:\n",
    "\n",
    "$$\\frac{{\\rm d}y}{{\\rm d}x}\n",
    "=\n",
    "\\frac{ \\quad \\frac{{\\rm d}y}{{\\rm d}t} \\quad }{ \\frac{{\\rm d}x}{{\\rm d}t} }\n",
    "\\quad \\quad\\implies \\quad\\quad\n",
    "\\boxed{\\frac{{\\rm d}y}{{\\rm d}x}\n",
    "=\n",
    "\\frac{2x}{x+y} }\n",
    "$$"
   ]
  },
  {
   "cell_type": "markdown",
   "metadata": {
    "slideshow": {
     "slide_type": "slide"
    }
   },
   "source": [
    "## Method 3: diagonalisation\n",
    "\n",
    "Let $\\mathbf{v}=\\left(\\begin{matrix}x\\\\y\\end{matrix}\\right),$\n",
    "\n",
    "\n",
    "then\n",
    "$$\n",
    "    \\frac{{\\rm d}x}{{\\rm d}t} = x+y,\\quad\n",
    "    \\frac{{\\rm d}y}{{\\rm d}t} = 2x, \\quad \\implies \\quad \\boxed{\\frac{{\\rm d}\\mathbf{v}}{{\\rm d}t} = A\\mathbf{v},} \n",
    "$$\n",
    "\n",
    "\n",
    "where  $A = \\left(\\begin{matrix} 1 & 1\\\\2 & 0  \\end{matrix}\\right).$\n"
   ]
  },
  {
   "cell_type": "markdown",
   "metadata": {
    "slideshow": {
     "slide_type": "subslide"
    }
   },
   "source": [
    "\n",
    "Substitute\n",
    "$$\n",
    "A = P \\left(\\begin{matrix} \\lambda_1 & 0 \\\\ 0 &\n",
    "      \\lambda_2  \\end{matrix}\\right) P^{-1}.\n",
    "$$\n",
    "\n",
    "\n",
    "then\n",
    "$$\n",
    "\\frac{{\\rm d}\\mathbf{v}}{{\\rm d}t} = P \\left(\\begin{matrix} \\lambda_1 & 0 \\\\ 0 &\n",
    "       \\lambda_2  \\end{matrix}\\right) \\left( P^{-1}\\mathbf{v} \\right)\\qquad       \n",
    "$$\n",
    "\n",
    "\n",
    "or\n",
    "\n",
    "\n",
    "$$\n",
    "\\frac{{\\rm d}}{{\\rm d}t}(P^{-1} \\mathbf{v}) = \\left(\\begin{matrix} \\lambda_1 & 0 \\\\ 0 &\n",
    "       \\lambda_2  \\end{matrix}\\right) \\left( P^{-1}\\mathbf{v} \\right)\n",
    "$$"
   ]
  },
  {
   "cell_type": "markdown",
   "metadata": {
    "slideshow": {
     "slide_type": "subslide"
    }
   },
   "source": [
    "\n",
    "We can now introduce a new variable $\\;\\mathbf{z} =    \\left(\\begin{matrix} z_1 \\\\ z_2\\end{matrix}\\right)   = P^{-1} \\mathbf{v}\\;$ so that:\n",
    "\n",
    "\n",
    "$$\n",
    "\\frac{{\\rm d}\\mathbf{z}}{{\\rm d}t} = \\left(\\begin{matrix} \\lambda_1 & 0 \\\\ 0 &\n",
    "       \\lambda_2  \\end{matrix}\\right) \\mathbf{z}.\n",
    "$$\n",
    "\n",
    "\n",
    "But now, because the matrix is diagonal, the system is no longer coupled.\n",
    "The first equation **only** involves $z_1$ and the second **only** involves $z_2$, so we can solve each one individually:\n",
    "\n",
    "$$\\frac{{\\rm d}z_1}{{\\rm d}t} = \\lambda_1 z_1 \\qquad\\implies\\qquad z_1(t) = A\\,e^{\\lambda_1 t}$$\n",
    "\n",
    "\n",
    "$$\\frac{{\\rm d}z_2}{{\\rm d}t} = \\lambda_2 z_2 \\qquad\\implies\\qquad z_2(t) = B\\,e^{\\lambda_2 t}$$\n",
    "\n",
    "Finally, we can substitute $z_1$ and $z_2$ back in terms of $x$ and $y$ to find the solution to the original coupled system:"
   ]
  },
  {
   "cell_type": "markdown",
   "metadata": {
    "slideshow": {
     "slide_type": "subslide"
    }
   },
   "source": [
    "\n",
    "We have\n",
    "\n",
    "$$\\mathbf{z} = \\left(\\begin{matrix} z_1 \\\\ z_2\\end{matrix}\\right) \\quad = \\quad P^{-1} \\mathbf{v} \\quad = \\quad \\frac{1}{3}\\left(\\begin{matrix} -2 & 2 \\\\ 2& 1  \\end{matrix}\\right) \\left(\\begin{matrix} x \\\\ y\\end{matrix}\\right) \\quad = \\quad \\left(\\begin{matrix} A\\,e^{\\lambda_1 t} \\\\ B\\,e^{\\lambda_2 t}\\end{matrix}\\right) $$\n",
    "\n",
    "Rearranging, we now have two equations relating $x$ and $y$:\n",
    "\n",
    "$$-2x + 2y = C\\,e^{\\lambda_1 t}$$\n",
    "\n",
    "$$2x + y = D\\,e^{\\lambda_2 t}$$\n",
    "\n",
    "\n",
    "where $C=3A$ and $D=3B$.  Using our initial conditions, $\\,x(0)=0\\,$ and $\\,y(0)=3\\,$ we find $C=6$ and $D=3$.\n",
    "\n",
    "Finally, solving the simultaneous equations, we have a solution:\n",
    "\n",
    "$$x(t) = -e^{\\lambda_1 t} + e^{\\lambda_2 t}$$\n",
    "\n",
    "$$y(t) = 2e^{\\lambda_1 t} + e^{\\lambda_2 t}$$"
   ]
  },
  {
   "cell_type": "markdown",
   "metadata": {
    "slideshow": {
     "slide_type": "slide"
    }
   },
   "source": [
    "## Summary\n",
    "\n",
    "- Three methods to analytically solve systems of linear first\n",
    "  order ODEs\n",
    "- Best method depends on the system and what you need to ask about it\n"
   ]
  }
 ],
 "metadata": {
  "celltoolbar": "Slideshow",
  "kernelspec": {
   "display_name": "Python 3",
   "language": "python",
   "name": "python3"
  },
  "language_info": {
   "codemirror_mode": {
    "name": "ipython",
    "version": 3
   },
   "file_extension": ".py",
   "mimetype": "text/x-python",
   "name": "python",
   "nbconvert_exporter": "python",
   "pygments_lexer": "ipython3",
   "version": "3.8.5"
  }
 },
 "nbformat": 4,
 "nbformat_minor": 2
}
