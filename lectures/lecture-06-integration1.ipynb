{
 "cells": [
  {
   "cell_type": "markdown",
   "metadata": {
    "slideshow": {
     "slide_type": "slide"
    }
   },
   "source": [
    "# Lecture 06\n",
    "\n",
    "## Integration I:\n",
    "\n",
    "### Introduction and Integration by Substitution"
   ]
  },
  {
   "cell_type": "code",
   "execution_count": null,
   "metadata": {
    "scrolled": false,
    "slideshow": {
     "slide_type": "skip"
    }
   },
   "outputs": [],
   "source": [
    "import numpy as np\n",
    "import sympy as sp\n",
    "sp.init_printing()\n",
    "##################################################\n",
    "##### Matplotlib boilerplate for consistency #####\n",
    "##################################################\n",
    "from ipywidgets import interact\n",
    "from ipywidgets import FloatSlider\n",
    "from matplotlib import pyplot as plt\n",
    "\n",
    "%matplotlib inline\n",
    "\n",
    "from IPython.display import set_matplotlib_formats\n",
    "set_matplotlib_formats('svg')\n",
    "\n",
    "global_fig_width = 10\n",
    "global_fig_height = global_fig_width / 1.61803399\n",
    "font_size = 12\n",
    "\n",
    "plt.rcParams['axes.axisbelow'] = True\n",
    "plt.rcParams['axes.edgecolor'] = '0.8'\n",
    "plt.rcParams['axes.grid'] = True\n",
    "plt.rcParams['axes.labelpad'] = 8\n",
    "plt.rcParams['axes.linewidth'] = 2\n",
    "plt.rcParams['axes.titlepad'] = 16.0\n",
    "plt.rcParams['axes.titlesize'] = font_size * 1.4\n",
    "plt.rcParams['figure.figsize'] = (global_fig_width, global_fig_height)\n",
    "plt.rcParams['font.sans-serif'] = ['Computer Modern Sans Serif', 'DejaVu Sans', 'sans-serif']\n",
    "plt.rcParams['font.size'] = font_size\n",
    "plt.rcParams['grid.color'] = '0.8'\n",
    "plt.rcParams['grid.linestyle'] = 'dashed'\n",
    "plt.rcParams['grid.linewidth'] = 2\n",
    "plt.rcParams['lines.dash_capstyle'] = 'round'\n",
    "plt.rcParams['lines.dashed_pattern'] = [1, 4]\n",
    "plt.rcParams['xtick.labelsize'] = font_size\n",
    "plt.rcParams['xtick.major.pad'] = 4\n",
    "plt.rcParams['xtick.major.size'] = 0\n",
    "plt.rcParams['ytick.labelsize'] = font_size\n",
    "plt.rcParams['ytick.major.pad'] = 4\n",
    "plt.rcParams['ytick.major.size'] = 0\n",
    "##################################################"
   ]
  },
  {
   "cell_type": "markdown",
   "metadata": {
    "slideshow": {
     "slide_type": "slide"
    }
   },
   "source": [
    "## Wake Up Exercise\n",
    "\n",
    "$\\displaystyle \\frac{{\\rm d}}{{\\rm d}x} 3x^3 =$\n",
    "\n",
    "$\\displaystyle \\frac{{\\rm d}}{{\\rm d}x} {4\\over x^4} =$\n",
    "\n",
    "$\\displaystyle \\frac{{\\rm d}}{{\\rm d}x} x^2\\sin x =$\n",
    "\n",
    "$\\displaystyle \\frac{{\\rm d}}{{\\rm d}t} \\ln t =$\n",
    "\n",
    "$\\displaystyle \\frac{{\\rm d}}{{\\rm d}t} e^{4t} =$"
   ]
  },
  {
   "cell_type": "markdown",
   "metadata": {
    "slideshow": {
     "slide_type": "slide"
    }
   },
   "source": [
    "# Integration\n",
    "\n",
    "**Calculating the area under a curve**\n",
    "\n",
    "If we want to find the area under a curve, we can divide the area into strips, calculate the area of each strip, and sum these areas together.\n",
    "\n",
    "e.g. find the area of\n",
    "\n",
    "$$y = f(x) = x^2\\qquad\\mbox{between}\\qquad x=1\\text{ and }x=2$$\n"
   ]
  },
  {
   "cell_type": "code",
   "execution_count": null,
   "metadata": {
    "hide_input": true,
    "scrolled": false,
    "slideshow": {
     "slide_type": "skip"
    }
   },
   "outputs": [],
   "source": [
    "import matplotlib.patches as patches\n",
    "def plot_integration1(boxes):\n",
    "    def f(x):\n",
    "        return x**2\n",
    "    x = np.linspace(0.8,2.2,1000)\n",
    "    y = f(x)\n",
    "    plt.plot(x,y)\n",
    "    plt.plot(x,x*0)\n",
    "    plt.plot([1,1],[0,f(1)],ls='--',lw=2)\n",
    "    plt.plot([2,2],[0,f(2)],ls='--',lw=2)\n",
    "    if len(boxes) > 1:\n",
    "        box_width = boxes[1]-boxes[0]\n",
    "    else:\n",
    "        box_width = 0.1\n",
    "    for box in boxes:\n",
    "        rect = patches.Rectangle((box,0),box_width,f(box+box_width),facecolor='k')\n",
    "        plt.gca().add_patch(rect)\n",
    "def plot_integration_single(f):\n",
    "    plot_integration1([f])\n",
    "def plot_integration_multi(h):\n",
    "    plot_integration1(np.arange(1,2,h))"
   ]
  },
  {
   "cell_type": "code",
   "execution_count": null,
   "metadata": {
    "hide_input": true,
    "scrolled": false,
    "slideshow": {
     "slide_type": "slide"
    }
   },
   "outputs": [],
   "source": [
    "interact(plot_integration_single, f = FloatSlider(value=1.5,min=1,max=1.9,step=0.1))"
   ]
  },
  {
   "cell_type": "markdown",
   "metadata": {
    "hide_input": true,
    "slideshow": {
     "slide_type": "-"
    }
   },
   "source": [
    "The area of the strip is $\\delta A_i \\approx y(x_i)~\\delta x$"
   ]
  },
  {
   "cell_type": "markdown",
   "metadata": {
    "slideshow": {
     "slide_type": "slide"
    }
   },
   "source": [
    "We can sum up all the strips between $x=1$ and $x=2$ to give an estimate for the total area:\n",
    "\n",
    "$$A \\approx \\sum \\delta A_i = \\sum y(x_i)~\\delta x.$$\n",
    "\n",
    "This becomes more accurate as $\\delta x$ becomes smaller.\n",
    "We can use the same trick as when differentiating: let $\\delta x$ tend to $0$:\n",
    "\n",
    "$$A = \\lim_{\\delta x \\to 0}\\sum y(x_i)~\\delta x\n",
    "    = \\int\\limits^{2}_{1} y~{\\rm d}x$$\n",
    "\n",
    "$\\int$ is the old English `S` and stands for the phrase \"Sum Over\".\n",
    "\n",
    "This process is called **integration**."
   ]
  },
  {
   "cell_type": "code",
   "execution_count": null,
   "metadata": {
    "scrolled": false,
    "slideshow": {
     "slide_type": "subslide"
    }
   },
   "outputs": [],
   "source": [
    "interact(plot_integration_multi, h = FloatSlider(value=0.1,min=0.01,max=0.2,step=0.01))"
   ]
  },
  {
   "cell_type": "markdown",
   "metadata": {
    "slideshow": {
     "slide_type": "slide"
    }
   },
   "source": [
    "# Calculating the integral\n",
    "\n",
    "Let us 'invent' a function $F(x)$ that gives the area from $0$ to $x$.\n",
    "Then $A = F(2) - F(1)$.\n",
    "\n",
    "With this (imagined) function, we can find the area of one of our tiny steps **exactly**, as\n",
    "\n",
    "$$F(x + \\delta x) - F(x)$$\n",
    "\n",
    "Remember we approximated this as $\\displaystyle y\\,\\delta x = f(x)\\,\\delta x$, so:\n",
    "\n",
    "$$ F(x + \\delta x) - F(x) \\approx f(x)\\delta x$$\n",
    "\n",
    "$$ f(x) \\approx {F(x+\\delta x)-F(x)\\over\\delta x}$$"
   ]
  },
  {
   "cell_type": "markdown",
   "metadata": {
    "slideshow": {
     "slide_type": "subslide"
    }
   },
   "source": [
    "# Calculating the integral \n",
    "The error in this approximation tends to $0$ as $\\delta x\\to 0$, so\n",
    "\n",
    "$$f(x) = \\lim_{\\delta x\\to 0} {F(x+\\delta x)-F(x)\\over\\delta x} = F'(x)$$\n",
    "\n",
    "(recalling the definition of the derivative).\n",
    "\n",
    "In other words, for our example,\n",
    "\n",
    "$$A(x) = \\int\\limits^{x}_{1} y(t)~{\\rm d}t\\qquad\\mbox{then}\\qquad y(x) = A'(x)$$\n",
    "\n",
    "**Integration reverses the process of differentiation**."
   ]
  },
  {
   "cell_type": "markdown",
   "metadata": {
    "slideshow": {
     "slide_type": "slide"
    }
   },
   "source": [
    "# Calculating integrals\n",
    "\n",
    "We know that:\n",
    "$$~~~~~~~~~~~~~~~~~~~~~~~{{\\rm d} \\left(x^2\\right)\\over {\\rm d}x}=~2 x~~~~~\\Rightarrow~~~~~\n",
    "\\biggr[x^2\\biggl]_{x_1}^{x_2} = \\int_{x_1}^{x_2} 2 x~{\\rm d}x $$\n",
    "\n",
    "Likewise:\n",
    "\n",
    "$${{\\rm d}\\left(\\frac{x^3}{3}\\right)\\over {\\rm d}x}=~x^2~~~~~~~\\Rightarrow~~~~~~\n",
    "\\int_{x=1}^{x=2} x^2~{\\rm d}x = \\biggr[{1\\over\n",
    "3}x^3\\biggl]_{x=1}^{x=2}={8\\over 3}-{1\\over 3}= {7\\over 3}$$\n",
    "\n",
    "**In general:**\n",
    "\n",
    "$${{\\rm d}\\left(a\\thinspace x^{n+1}\\right)\\over {\\rm d}x}=(n+1)a\\thinspace~x^n~~~~~\n",
    "\\Rightarrow ~~~~\\int_{x_1}^{x_2} a\\thinspace x^n~{\\rm d}x = \\biggr[{a\\over\n",
    "(n+1)} \\thinspace x^{(n+1)}\\biggl]_{x_1}^{x_2}$$"
   ]
  },
  {
   "cell_type": "markdown",
   "metadata": {
    "slideshow": {
     "slide_type": "subslide"
    }
   },
   "source": [
    "# SymPy examples\n",
    "\n",
    "$$\\int_{x_1}^{x_2} x^6~{\\rm d}x =$$"
   ]
  },
  {
   "cell_type": "code",
   "execution_count": null,
   "metadata": {
    "scrolled": false,
    "slideshow": {
     "slide_type": "fragment"
    }
   },
   "outputs": [],
   "source": [
    "x, x1, x2 = sp.symbols('x x_1 x_2')\n",
    "sp.integrate(x**6,(x,x1,x2))"
   ]
  },
  {
   "cell_type": "markdown",
   "metadata": {
    "slideshow": {
     "slide_type": "slide"
    }
   },
   "source": [
    "$$\\int_{x_1}^{x_2} x^{3\\over 2}~{\\rm d}x =$$"
   ]
  },
  {
   "cell_type": "code",
   "execution_count": null,
   "metadata": {
    "scrolled": false,
    "slideshow": {
     "slide_type": "fragment"
    }
   },
   "outputs": [],
   "source": [
    "sp.integrate(x**(sp.sympify(3)/2),(x,x1,x2))"
   ]
  },
  {
   "cell_type": "markdown",
   "metadata": {
    "slideshow": {
     "slide_type": "slide"
    }
   },
   "source": [
    "$$\\int_{x_1}^{x_2} x^{-{1\\over 2}}~{\\rm d}x = $$"
   ]
  },
  {
   "cell_type": "code",
   "execution_count": null,
   "metadata": {
    "scrolled": false,
    "slideshow": {
     "slide_type": "fragment"
    }
   },
   "outputs": [],
   "source": [
    "sp.integrate(x**(-sp.sympify(1)/2),(x,x1,x2))"
   ]
  },
  {
   "cell_type": "markdown",
   "metadata": {
    "slideshow": {
     "slide_type": "slide"
    }
   },
   "source": [
    "# Indefinite integrals\n",
    "\n",
    "Consider now the functions:\n",
    "\n",
    "$$y=x^2+7 ~~~~~~~~~~{\\rm (3)}$$\n",
    "\n",
    "$$y=x^2-100 ~~~~~~~~~{\\rm (4)}$$\n",
    "\n",
    "Differentiating (3):\n",
    "$${{\\rm d}y\\over {\\rm d}x}=2x$$\n",
    "\n",
    "Differentiating (4):\n",
    "$${{\\rm d}y\\over {\\rm d}x}=2x$$"
   ]
  },
  {
   "cell_type": "markdown",
   "metadata": {
    "slideshow": {
     "slide_type": "slide"
    }
   },
   "source": [
    "This implies that the integral:\n",
    "\n",
    "$$y=\\int 2x~dx=x^2 + \\kappa~~~~~{\\rm where~~}\\kappa~~{\\rm is~an~unknown~constant}$$\n",
    "\n",
    "An integral without limits is called an **indefinite integral**."
   ]
  },
  {
   "cell_type": "markdown",
   "metadata": {
    "slideshow": {
     "slide_type": "slide"
    }
   },
   "source": [
    "# Indefinite integrals in SymPy:"
   ]
  },
  {
   "cell_type": "code",
   "execution_count": null,
   "metadata": {
    "scrolled": false,
    "slideshow": {
     "slide_type": "-"
    }
   },
   "outputs": [],
   "source": [
    "x = sp.symbols('x')\n",
    "sp.integrate(2*x,x)"
   ]
  },
  {
   "cell_type": "markdown",
   "metadata": {
    "slideshow": {
     "slide_type": "slide"
    }
   },
   "source": [
    "# Other integrals\n",
    "\n",
    "recall that:\n",
    "\n",
    "$${{\\rm d}\\over {\\rm d}x}\\ln x={1\\over x}$$"
   ]
  },
  {
   "cell_type": "markdown",
   "metadata": {
    "slideshow": {
     "slide_type": "subslide"
    }
   },
   "source": [
    "# Other integrals\n",
    "\n",
    "recall that:\n",
    "\n",
    "$${{\\rm d}\\over {\\rm d}x}\\ln x={1\\over x}~~~~~~~~\\Rightarrow~~\\int{1\\over x}~{\\rm d}x=\\ln x + \n",
    "\\kappa$$\n",
    "\n",
    "This constant $\\kappa$ can be written as:\n",
    "\n",
    "$$\\kappa=\\ln B$$\n",
    "where $B$ is another constant. Thus:\n",
    "\n",
    "$$\\int {1\\over x}~dx = \\ln x + \\kappa=\\ln x +\\ln B =\\ln (B ~x)$$"
   ]
  },
  {
   "cell_type": "markdown",
   "metadata": {
    "slideshow": {
     "slide_type": "slide"
    }
   },
   "source": [
    "# Integrating trigonometric functions\n",
    "\n",
    "Recall that:\n",
    "\n",
    "$${{\\rm d}\\over {\\rm d}x}\\biggr(\\sin x\\biggl)= \\cos x~~~~~~~~~~~~~{\\rm and}~~~~~~~~~~~\n",
    "{{\\rm d}\\over {\\rm d}x}\\biggr(\\cos x\\biggl)= -\\sin x$$ \n",
    "\n",
    "Example (i):\n",
    "$$\\int_{0}^{\\pi/2} \\cos x \\thinspace dx =$$"
   ]
  },
  {
   "cell_type": "code",
   "execution_count": null,
   "metadata": {
    "scrolled": false,
    "slideshow": {
     "slide_type": "fragment"
    }
   },
   "outputs": [],
   "source": [
    "sp.integrate(sp.cos(x),(x,0,sp.pi/2))"
   ]
  },
  {
   "cell_type": "markdown",
   "metadata": {
    "slideshow": {
     "slide_type": "slide"
    }
   },
   "source": [
    "  \n",
    "Example (ii):\n",
    "$$\\int_{0}^{\\pi/2} \\sin x \\thinspace {\\rm d}x =$$\n",
    " "
   ]
  },
  {
   "cell_type": "code",
   "execution_count": null,
   "metadata": {
    "scrolled": false,
    "slideshow": {
     "slide_type": "fragment"
    }
   },
   "outputs": [],
   "source": [
    "sp.integrate(sp.sin(x),(x,0,sp.pi/2))"
   ]
  },
  {
   "cell_type": "markdown",
   "metadata": {
    "slideshow": {
     "slide_type": "slide"
    }
   },
   "source": [
    "# Integrating trigonometric functions\n",
    "\n",
    "Recall that:\n",
    "\n",
    "$${{\\rm d}\\over {\\rm d}x}\\biggr(\\sin x\\biggl)= \\cos x~~~~~~~~~~~~~{\\rm and}~~~~~~~~~~~\n",
    "{{\\rm d}\\over {\\rm d}x}\\biggr(\\cos x\\biggl)= -\\sin x$$ \n",
    "\n",
    "Example (i):\n",
    "$$\\int_{0}^{\\pi/2} \\cos x \\thinspace {\\rm d}x =\n",
    "  \\biggr[\\sin x \\biggl]_0^{\\pi/2}=1-0=1$$\n",
    "\n",
    "Example (ii):\n",
    "$$\\int_{0}^{\\pi/2} \\sin x \\thinspace {\\rm d}x =\n",
    "  \\biggr[-\\cos x \\biggl]_0^{\\pi/2}=0-(-1)=1$$"
   ]
  },
  {
   "cell_type": "markdown",
   "metadata": {
    "slideshow": {
     "slide_type": "slide"
    }
   },
   "source": [
    "# Summary of integration formulae:\n",
    "\n",
    "$\\displaystyle \\int a\\,{\\rm d}x=ax+C$\n",
    "\n",
    "$\\displaystyle \\int ax\\,{\\rm d}x={1\\over2}ax^2+C$\n",
    "\n",
    "$\\displaystyle \\int ax^n\\,{\\rm d}x={1\\over{n+1}}ax^{n+1}+C\\qquad\\mbox{for all }n\\mbox{ except }n=-1$\n",
    "\n",
    "$\\displaystyle \\int x^{-1}\\,{\\rm d}x=\\int {1\\over x}\\,dx = \\ln \\vert x\\vert +C$"
   ]
  },
  {
   "cell_type": "markdown",
   "metadata": {
    "slideshow": {
     "slide_type": "slide"
    }
   },
   "source": [
    "# Application:\n",
    "\n",
    "Recall that $f'(t)$ gives the rate at\n",
    "which $f(t)$ changes at time $t$.  Integrating the derivative\n",
    "$f'(t)$, we see:\n",
    "$$\\int_a^b f'(t) \\thinspace {\\rm d}t = \\biggr[f(t)\\biggl]_a^b = f(b)-f(a) $$\n",
    "\n",
    "Therefore, the definite integral from $a$ to $b$ of $f'(t)$ with\n",
    "respect to $t$ will always give the **net** change that $f(t)$ has\n",
    "undergone as the parameter $t$ moves from $a$ to $b$."
   ]
  },
  {
   "cell_type": "markdown",
   "metadata": {
    "slideshow": {
     "slide_type": "slide"
    }
   },
   "source": [
    "## Example: \n",
    "A chemical process produces NaCl at the rate of $3\\sqrt{t}$\n",
    "grams per minute.  We ask three questions:\n",
    "\n",
    "1. What is the rate of production one minute into the process?\n",
    "2. What is the quantity of NaCl produced over the next three minutes?\n",
    "3. What is the mean rate of NaCl production over this interval?"
   ]
  },
  {
   "cell_type": "markdown",
   "metadata": {
    "slideshow": {
     "slide_type": "slide"
    }
   },
   "source": [
    "# Solution: \n",
    "\n",
    "Let $f(t)$ denote the grams of NaCl\n",
    "produced after $t$ minutes.  Then $f'(t)= 3\\sqrt{t}$.\n",
    "\n",
    "1. The rate of production one minute into the process is $f'(1) = 3\\sqrt{1} = 3$ grams per minute.\n",
    "\n",
    "2. The quantity of NaCl produced over the next three minutes is\n",
    "$$f(4)-f(1) = \\int_1^4\\,f'(t)\\,{\\rm d}t = \\int_1^4\\,3\\sqrt{t}\\,{\\rm d}t\n",
    "            = \\phantom{\\left[2t^{3/2}\\right]_1^4 = 2\\times(8-1) = 14}$$"
   ]
  },
  {
   "cell_type": "code",
   "execution_count": null,
   "metadata": {
    "scrolled": false,
    "slideshow": {
     "slide_type": "fragment"
    }
   },
   "outputs": [],
   "source": [
    "t = sp.Symbol('t')\n",
    "sp.integrate(3*sp.sqrt(t),(t,1,4))"
   ]
  },
  {
   "cell_type": "markdown",
   "metadata": {
    "slideshow": {
     "slide_type": "slide"
    }
   },
   "source": [
    "(c) The mean rate is the constant rate which would give the same overall effect:\n",
    "$${1\\over b-a}\\int_a^b\\,f'(t)\\,{\\rm d}t = {1\\over 4-1}\\int_1^4\\,3\\sqrt{t}\\,{\\rm d}t\n",
    "                                      = \\phantom{{14\\over 3}}$$"
   ]
  },
  {
   "cell_type": "code",
   "execution_count": null,
   "metadata": {
    "scrolled": false,
    "slideshow": {
     "slide_type": "fragment"
    }
   },
   "outputs": [],
   "source": [
    "sp.integrate(3*sp.sqrt(t),(t,1,4))/(4-1)"
   ]
  },
  {
   "cell_type": "markdown",
   "metadata": {
    "slideshow": {
     "slide_type": "slide"
    }
   },
   "source": [
    "# Substitution Method\n",
    "\n",
    "Suppose we wish to integrate: \n",
    "\n",
    "$$I=\\int f(g(x))~{\\rm d}x~~~~~~~~~~~{\\rm~e.g.}~~\\int_{a}^{b} (3-4x)^{-5}~{\\rm d}x$$\n",
    "\n",
    "In general, for $g(x)=u$,\n",
    "we can write:\n",
    "\n",
    "$$\\int_{x_1}^{x_2}\\thinspace f(g(x))~{\\rm d}x =\n",
    "\\int_{u_1}^{u_2}\\thinspace f(u) {{\\rm d}x\\over {\\rm d}u} {\\rm d}u $$\n",
    "\n",
    "Integral version of the chain rule."
   ]
  },
  {
   "cell_type": "markdown",
   "metadata": {
    "slideshow": {
     "slide_type": "slide"
    }
   },
   "source": [
    "# Examples:\n",
    "\n",
    "Consider:\n",
    "\n",
    "$$\\int_{a}^{b} (2x + 3)^4~{\\rm d}x~~~~~~~~~~~~~{\\rm Equation ~(7)}$$\n",
    "Multiplying this out and then integrating it would be very tedious.\n",
    "Try a substitution instead:"
   ]
  },
  {
   "cell_type": "markdown",
   "metadata": {
    "slideshow": {
     "slide_type": "fragment"
    }
   },
   "source": [
    "$$u=2x+3~~~\\Longleftrightarrow x={1\\over 2}(u-3)={u\\over 2}-{3\\over 2}~~~~\n",
    "\\Longleftrightarrow {{\\rm d}x\\over {\\rm d}u}={1\\over 2}$$ "
   ]
  },
  {
   "cell_type": "markdown",
   "metadata": {
    "slideshow": {
     "slide_type": "slide"
    }
   },
   "source": [
    "Substitute into Equation (7) above:\n",
    "\n",
    "$$\\int_{u(a)}^{u(b)} u^4 \\times {1\\over 2}~{\\rm d}u ={1\\over 2}\\int_{u(a)}^{u(b)}\n",
    "u^4~du = {1\\over 2}\\biggr[{1\\over 5}u^5\\biggl]_{u(a)}^{u(b)}=\n",
    "{1\\over 2}\\biggr[{1\\over 5}(2x+3)^5\\biggl]_a^b$$ "
   ]
  },
  {
   "cell_type": "code",
   "execution_count": null,
   "metadata": {
    "scrolled": false,
    "slideshow": {
     "slide_type": "-"
    }
   },
   "outputs": [],
   "source": [
    "a, b = sp.symbols('a b')\n",
    "sp.integrate((2*x + 3)**4,(x,a,b))"
   ]
  },
  {
   "cell_type": "markdown",
   "metadata": {
    "slideshow": {
     "slide_type": "slide"
    }
   },
   "source": [
    "# Examples:\n",
    "\n",
    "$$\\int_{a}^{b} (3-4x)^{-5}~{\\rm d}x~~~~~~~~~~~~~{\\rm Equation~(8)}$$"
   ]
  },
  {
   "cell_type": "markdown",
   "metadata": {
    "slideshow": {
     "slide_type": "fragment"
    }
   },
   "source": [
    "Let:\n",
    "\n",
    "$$u=3-4x~~~\\Longleftrightarrow x={1\\over 4}(3-u)={3\\over 4}-{u\\over 4}~~~~\n",
    "\\Longleftrightarrow {{\\rm d}x\\over {\\rm d}u}=-{1\\over 4}$$ "
   ]
  },
  {
   "cell_type": "markdown",
   "metadata": {
    "slideshow": {
     "slide_type": "slide"
    }
   },
   "source": [
    "Substitute into Equation (8) above:\n",
    "\n",
    "\\begin{align*}\n",
    "\\int_{u(a)}^{u(b)} u^{-5} \\times {-1\\over 4}~{\\rm d}u =\n",
    "-{1\\over 4}\\int_{u(a)}^{u(b)} u^{-5}~{\\rm d}u &= -{1\\over 4}\\biggr[{1\\over\n",
    "-4}u^{-4}\\biggl]_{u(a)}^{u(b)} \\\\\n",
    "&= {1\\over 16}\\biggr[(3-4x)^{-4}\\biggl]_a^b\n",
    "\\end{align*}"
   ]
  },
  {
   "cell_type": "code",
   "execution_count": null,
   "metadata": {
    "scrolled": false,
    "slideshow": {
     "slide_type": "-"
    }
   },
   "outputs": [],
   "source": [
    "sp.integrate((3 - 4*x)**(-5),(x,a,b))"
   ]
  }
 ],
 "metadata": {
  "celltoolbar": "Slideshow",
  "kernelspec": {
   "display_name": "Python 3",
   "language": "python",
   "name": "python3"
  },
  "language_info": {
   "codemirror_mode": {
    "name": "ipython",
    "version": 3
   },
   "file_extension": ".py",
   "mimetype": "text/x-python",
   "name": "python",
   "nbconvert_exporter": "python",
   "pygments_lexer": "ipython3",
   "version": "3.8.5"
  }
 },
 "nbformat": 4,
 "nbformat_minor": 2
}
