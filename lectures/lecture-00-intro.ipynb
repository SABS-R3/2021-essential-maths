{
 "cells": [
  {
   "cell_type": "markdown",
   "metadata": {
    "hideCode": false,
    "hidePrompt": false,
    "slideshow": {
     "slide_type": "slide"
    }
   },
   "source": [
    "# Lecture 0\n",
    "\n",
    "# Essential Maths 2021\n",
    "\n",
    "### Fergus Cooper, Beth Dingley, Elliot Howard-Spink\n",
    "#### and many before us"
   ]
  },
  {
   "cell_type": "code",
   "execution_count": null,
   "metadata": {
    "hideCode": false,
    "hidePrompt": false,
    "slideshow": {
     "slide_type": "skip"
    }
   },
   "outputs": [],
   "source": [
    "import numpy as np\n",
    "\n",
    "##################################################\n",
    "##### Matplotlib boilerplate for consistency #####\n",
    "##################################################\n",
    "from ipywidgets import interact\n",
    "from ipywidgets import FloatSlider\n",
    "from matplotlib import pyplot as plt\n",
    "\n",
    "%matplotlib inline\n",
    "\n",
    "from IPython.display import set_matplotlib_formats\n",
    "set_matplotlib_formats('svg')\n",
    "\n",
    "global_fig_width = 10\n",
    "global_fig_height = global_fig_width / 1.61803399\n",
    "font_size = 12\n",
    "\n",
    "plt.rcParams['axes.axisbelow'] = True\n",
    "plt.rcParams['axes.edgecolor'] = '0.8'\n",
    "plt.rcParams['axes.grid'] = True\n",
    "plt.rcParams['axes.labelpad'] = 8\n",
    "plt.rcParams['axes.linewidth'] = 2\n",
    "plt.rcParams['axes.titlepad'] = 16.0\n",
    "plt.rcParams['axes.titlesize'] = font_size * 1.4\n",
    "plt.rcParams['figure.figsize'] = (global_fig_width, global_fig_height)\n",
    "plt.rcParams['font.sans-serif'] = ['Computer Modern Sans Serif', 'DejaVu Sans', 'sans-serif']\n",
    "plt.rcParams['font.size'] = font_size\n",
    "plt.rcParams['grid.color'] = '0.8'\n",
    "plt.rcParams['grid.linestyle'] = 'dashed'\n",
    "plt.rcParams['grid.linewidth'] = 2\n",
    "plt.rcParams['lines.dash_capstyle'] = 'round'\n",
    "plt.rcParams['lines.dashed_pattern'] = [1, 4]\n",
    "plt.rcParams['xtick.labelsize'] = font_size\n",
    "plt.rcParams['xtick.major.pad'] = 4\n",
    "plt.rcParams['xtick.major.size'] = 0\n",
    "plt.rcParams['ytick.labelsize'] = font_size\n",
    "plt.rcParams['ytick.major.pad'] = 4\n",
    "plt.rcParams['ytick.major.size'] = 0\n",
    "##################################################"
   ]
  },
  {
   "cell_type": "markdown",
   "metadata": {
    "slideshow": {
     "slide_type": "slide"
    }
   },
   "source": [
    "# Why Maths?\n",
    "\n",
    "Maths is the language we use to quantitatively describe the world.\n",
    "\n",
    "You are going into research, and you\n",
    "\n",
    "- **may** need to be proficient in maths as a tool for describing what you work on\n",
    "- **will** have to read and understand papers that use maths\n",
    "\n",
    "Some of you **may** feel you don't need to know any maths, but this course will be useful to you even if you never have to write down a system of differential equations yourself. "
   ]
  },
  {
   "cell_type": "markdown",
   "metadata": {
    "slideshow": {
     "slide_type": "slide"
    }
   },
   "source": [
    "# Why Maths?\n",
    "\n",
    "Data analysis\n",
    "\n",
    "- Interpretation and inference\n",
    "- Identify patterns, trends, relationships\n",
    "- Deal robustly with uncertainty and variation"
   ]
  },
  {
   "cell_type": "markdown",
   "metadata": {
    "slideshow": {
     "slide_type": "subslide"
    }
   },
   "source": [
    "# Why Maths?\n",
    "\n",
    "Describe the behaviour of systems\n",
    "\n",
    "- Remove ambiguity: explicit assumptions\n",
    "- Quantitative hypotheses\n",
    "- Make predictions, through simulation and analysis\n",
    "- \"If I make this intervention, I expect to see that change\"\n",
    "- Explain **why** something is observed"
   ]
  },
  {
   "cell_type": "markdown",
   "metadata": {
    "slideshow": {
     "slide_type": "subslide"
    }
   },
   "source": [
    "# Why Maths?\n",
    "\n",
    "Vital for **dynamic** and **nonlinear** systems\n",
    "\n",
    "- Simple intuition breaks down\n",
    "- Most of biology is dynamic and nonlinear!"
   ]
  },
  {
   "cell_type": "markdown",
   "metadata": {
    "slideshow": {
     "slide_type": "slide"
    }
   },
   "source": [
    "# Course aims\n",
    "\n",
    "- Develop confidence in your mathematical abilities\n",
    "    - Extensive practice\n",
    "- Become able to communicate effectively with mathematical collaborators\n",
    "- Ensure you can read and understand mathematical papers in your field\n",
    "- Build on your ability to apply computational tools from **Python** to solve problems\n"
   ]
  },
  {
   "cell_type": "markdown",
   "metadata": {
    "slideshow": {
     "slide_type": "slide"
    }
   },
   "source": [
    "# Topics covered\n",
    "\n",
    "- Graphs, and basic tools such as logs\n",
    "- Calculus: differentiation & integration\n",
    "- Complex numbers\n",
    "- Ordinary differential equations\n",
    "- Linear algebra (matrices)\n",
    "- Coupled systems of ordinary differential equations\n",
    "- Use of Python"
   ]
  },
  {
   "cell_type": "markdown",
   "metadata": {
    "slideshow": {
     "slide_type": "slide"
    }
   },
   "source": [
    "# Logistics\n",
    "\n",
    "Canvas page:\n",
    "- https://canvas.ox.ac.uk/courses/112902\n",
    "\n",
    "Zoom call all day every day:\n",
    "- Link and passcode on Canvas"
   ]
  },
  {
   "cell_type": "markdown",
   "metadata": {
    "slideshow": {
     "slide_type": "subslide"
    }
   },
   "source": [
    "# Logistics\n",
    "\n",
    "Q&A sessions (https://www.sli.do/ ; event code on Canvas)\n",
    "\n",
    "- Mornings: 09:30\n",
    "- Afternoons: 14:00\n",
    "\n",
    "Lectures (YouTube; links on Canvas)\n",
    "\n",
    "- Mornings: 9:45-10:30\n",
    "- Afternoons: 14:15-15:00\n",
    "\n",
    "Practical sessions in Zoom Breakout Rooms\n",
    "\n",
    "- Mornings: 10:30-13:00\n",
    "- Afternoons: 15:00-17:30"
   ]
  },
  {
   "cell_type": "markdown",
   "metadata": {
    "slideshow": {
     "slide_type": "slide"
    }
   },
   "source": [
    "# Lecture slides\n",
    "\n",
    "Lecture slides are Jupyter notebooks turned into presentations using the RISE plugin.\n",
    "\n",
    "Available on GitHub:\n",
    "- https://github.com/SABS-R3/2021-essential-maths\n",
    "\n",
    "And viewable via MyBinder:\n",
    "- https://mybinder.org/v2/gh/SABS-R3/2021-essential-maths/HEAD\n",
    "\n",
    "(Demo) "
   ]
  },
  {
   "cell_type": "markdown",
   "metadata": {
    "slideshow": {
     "slide_type": "slide"
    }
   },
   "source": [
    "# Problem sheets\n",
    "\n",
    "One per half-day, and available on GitHub:\n",
    "- https://github.com/SABS-R3/2021-essential-maths\n",
    "\n",
    "and linked to from Canvas.\n",
    "\n",
    "Most exercises can be solved using pen & paper, but Python is expected for some problems, and for checking your solutions."
   ]
  },
  {
   "cell_type": "markdown",
   "metadata": {
    "slideshow": {
     "slide_type": "subslide"
    }
   },
   "source": [
    "# Problem sheets\n",
    "\n",
    "There are three sections of problems on each sheet:\n",
    "\n",
    "- Introductory\n",
    "- Main\n",
    "- Extension\n",
    "\n",
    "If you are finding the material tough, focus on the introductory problems first and then work your way onto the main problems.\n",
    "\n",
    "If you are finding the material straightforward, work through the main problems and on to the extension problems."
   ]
  },
  {
   "cell_type": "markdown",
   "metadata": {
    "slideshow": {
     "slide_type": "slide"
    }
   },
   "source": [
    "# Exercise strategy\n",
    "\n",
    "- Don't panic if you don't complete every question!\n",
    "- Focus on understanding the concepts\n",
    "- You can use Wednesdays to consolidate the material\n",
    "\n",
    "Do help your peers, as well as using the demonstrators and lecturers who are here to help!\n",
    "\n",
    "Please let me know if you are either finding the material far too difficult, or far too easy. Both of those problems can be solved!"
   ]
  },
  {
   "cell_type": "markdown",
   "metadata": {
    "slideshow": {
     "slide_type": "slide"
    }
   },
   "source": [
    "# Module assessment\n",
    "\n",
    "You will be continuously assessed through the course, based on the following criteria:\n",
    "\n",
    "- Level of engagement with the material.\n",
    "- Quality of written solutions to problem sheets.\n",
    "- Ability to confidently manipulate mathematical expressions.\n",
    "- Ability to use computational tools.\n",
    "- Course attendance.\n",
    "\n",
    "Please interact regularly with course demonstrators.\n",
    "\n",
    "At least one question from Week 2 will be submitted and assessed, but more on that next week."
   ]
  },
  {
   "cell_type": "markdown",
   "metadata": {
    "slideshow": {
     "slide_type": "slide"
    }
   },
   "source": [
    "# Any questions?"
   ]
  }
 ],
 "metadata": {
  "celltoolbar": "Slideshow",
  "kernelspec": {
   "display_name": "Python 3",
   "language": "python",
   "name": "python3"
  },
  "language_info": {
   "codemirror_mode": {
    "name": "ipython",
    "version": 3
   },
   "file_extension": ".py",
   "mimetype": "text/x-python",
   "name": "python",
   "nbconvert_exporter": "python",
   "pygments_lexer": "ipython3",
   "version": "3.8.5"
  }
 },
 "nbformat": 4,
 "nbformat_minor": 2
}
